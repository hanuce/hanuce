{
 "cells": [
  {
   "cell_type": "code",
   "execution_count": null,
   "id": "da7f3141",
   "metadata": {},
   "outputs": [],
   "source": []
  },
  {
   "cell_type": "markdown",
   "id": "3c84877c",
   "metadata": {},
   "source": [
    "# <font color=\"MidnightBlue\">PYTHON DERSLERİ</font>"
   ]
  },
  {
   "cell_type": "markdown",
   "id": "e1299f4d",
   "metadata": {},
   "source": [
    "## <font color=\"Navy\">Algoritma Nedir?</font>"
   ]
  },
  {
   "cell_type": "markdown",
   "id": "80b3d962",
   "metadata": {},
   "source": [
    "**Algoritma,** belirli bir problemi çözmek veya belirli bir amaca ulaşmak için çözüm yolunun adım adım tasarlanmasıdır. <br>\n",
    "Daha iyi anlamak için <a href=\"https://www.youtube.com/watch?v=xoqQKFtfzvM\" target=\"_blank\">şu videoyu izleyelim.</a><br>\n",
    "<a href=\"https://bilimgenc.tubitak.gov.tr/sites/default/files/algoritma_nedir_8.png\" target=\"_blank\">Örnek Algoritma-1</a> - <a href=\"https://bilimgenc.tubitak.gov.tr/sites/default/files/algoritma_nedir_11.png\" target=\"_blank\">Örnek Algoritma-2</a> - <a href=\"https://bilimgenc.tubitak.gov.tr/sites/default/files/algoritma_nedir_12.png\" target=\"_blank\">Örnek Algoritma-3</a><br><br>\n",
    "<div class=\"alert alert-info\"><b>Etkinlik:</b> Dikdörtgen çizme oyunu oynayalım. Yüzü duvara dönük olan veya gözü kapatılan ve elinde kalem olan bir kişiye(bilgisayar), başka bir kişi(programcı) tarafından dikdörtgen çizmesi (tahtaya veya kağıda) için algoritmik olarak komutlar (kodlar-program) verir.</div><br><br>\n",
    "<b>Algoritma Türleri</b>:<br>\n",
    "- Arama Algoritmaları (Araştırınız: Doğrusal Arama, İkili Arama, Enine Arama, Derin Arama, v.b.)<br>\n",
    "- Sıralama Algoritmaları (Araştırınız: Ağaç, Hızlı, İplik, Cüce, Sayarak, Birleştirmeli, Eklemeli, v.b)<br>\n",
    "- Şifreleme Algoritmaları<br>\n",
    "- Veri Sıkıştırma Algoritmaları<br>\n",
    "- Ve diğerleri.."
   ]
  },
  {
   "cell_type": "markdown",
   "id": "17734022",
   "metadata": {},
   "source": [
    "<div class=\"alert alert-info\"><b>Etkinlik:</b> T.C. Kimlik numaranızı <a href=\"https://upload.wikimedia.org/wikipedia/commons/thumb/3/3f/Azer.gif/300px-Azer.gif\" target=\"_blank\">Sezar Şifreleme</a> ile şifreledikten sonra 16'lık sayı sistemi ile saklayınız.<br><br>\n",
    "<b>Araştırma Ödevi:</b> Google'ın \"Bunu mu demek istediniz?\" öneri algoritması hangi tür algoritmalarla çalışıyor?<br>\n",
    "<b>Araştırma Ödevi:</b> Netflix Prize nedir, araştırınız?</div></div>"
   ]
  },
  {
   "cell_type": "markdown",
   "id": "51106353",
   "metadata": {},
   "source": [
    "## <font color=\"Navy\">Proglamlama Dili Nedir?</font>"
   ]
  },
  {
   "cell_type": "markdown",
   "id": "f24e4965",
   "metadata": {},
   "source": [
    "**Programlama Dili,** bir **algoritmayı** ifade etmek amacıyla, bilgisayara ne yapmasını istediğini anlattığımız (kodladığımız) yoldur. Programlama dilleri ile yazdığımız kodlar makine koduna (binary (yani 0 ve 1)) çevrilir ve kodladığımız algoritma bilgisayar tarafından çalıştırılır. Her dilin kendine ait bir sözdizimi (öğeleri) vardır. Programlama dilleri, makine koduna çevrilmesi yönünden ikiye ayrılır: <br><br>\n",
    "**1. Derlenen (Compiler) Diller:** Yazımı(syntax) makine diline yakın olan dillerdir. Dilin yazım şekli makine diline yakın olduğu için yazılmış kodun bütünü hızlıca makine koduna (binary) çevrilir. C, C++, Fortran, R dilleri derlenen dillere örnektir.<br>\n",
    "**2. Yorumlanan (Interpreter) Diller:** Yazımı(syntax) makine diline yakın olmayan ama yazımı kolay olan böylelikle daha karmaşık ve zor programlamaları kolayca yapabilmemize imkan sağlayan dillerdir. Bu diller önce yorumlama dediğimiz işlemle kısım kısım (satır satır) kodları makine dilinde dener, hata bulursa derlemeyi durdurur, hata yoksa kodların tamamı makine koduna (binary) çevrilmiş olur. Python, Ruby, Java, C# bu dillere örnektir.<br><br>\n",
    "<div class=\"alert alert-warning\"> <b>Tarihte kabul edilen ilk programlamanın 1883 yılında Ada LOVELACE tarafından sayısal olarak yazıldığını biliyor muydunuz?</b></div>"
   ]
  },
  {
   "cell_type": "markdown",
   "id": "0a578137",
   "metadata": {},
   "source": [
    "## <font color=\"Navy\">Python Programlama Dili</font>"
   ]
  },
  {
   "cell_type": "markdown",
   "id": "c49b9966",
   "metadata": {},
   "source": [
    "Python 1991 yılında Guido Van Rossum tarafından geliştirilen bir yüksek seviyeli programlama dilidir.<br>Python, diğer programlama dillerine göre daha kolay bir sözdizim (syntax: yazım kuralı) yapısına sahiptir. Bu sebeple python yıllar içinde popüler hale gelmiştir.<br>\n",
    "Programlama dillerinin kullanımına göre yaygınlık sıralamasını <a href=\"https://www.tiobe.com/tiobe-index/\" target=\"_blank\">buraya bakarak</a> öğrenebilirsiniz."
   ]
  },
  {
   "cell_type": "markdown",
   "id": "2e72c3dc",
   "metadata": {},
   "source": [
    "<font color=\"blue\" size=3>**Söz Dizimi (Syntax), Deyim (Komut) (Statement), İşleçler (Operatörler) (Operators), Fonksiyonlar (Functions), Metotlar (Methods), İfadeler (Expressions)**</font><br>\n",
    "Programlama dillerinin <b>yazım kurallarına sözdizimi (syntax)</b> denir. Dile ait tüm öğeler (komutlar, parantezler, tırnak işareti vb. tüm noktalama işaretleri, işleçler, ...) yazım kuralları içerisinde yazılmak zorundadır. Uygun yazılmaz ise programdan hata alınır.<br>\n",
    "\n",
    "Programlama dilinde **anahtar sözcüklerle(if ..., for ..., while ..., def, is, ,in vb.) oluşturulan anlamlı öbeklere deyim (komut)** denir. Genelde her satır kod bir anlamlı öbektir yani sözdizimsel deyimdir.<br>\n",
    "\n",
    "Değerler veya değişkenler üzerinde **işlem yapıp sonuçlandıran öğelere işleçler(operatörler)** denir. Örneğin; toplama, çıkarma vb. sayısal işlemler ve \"aynı mı?\", \"değil mi?\", \"öyle mi?\" gibi işlemler.<br>\n",
    "\n",
    "Ana programa **belirli bir değer(ler) dönderen veya görevleri gerçekleştiren deyimler (komutlar) bütününe fonksiyon** denir. Örneğin print() bir fonksiyondur, print(3+5) yazarsak bize 8 değerini döndürür ve ekrana yazar.<br>\n",
    "\n",
    "Programlama diline ait **öğeler ile bağımlı olan alt fonksiyonlara metot** denir.<br>\n",
    "\n",
    "Değeri hesaplanabilen (değerlendirilebilen) sözdizimsel deyimlere (komutlara) **ifade** denir. 3+5 gibi basit bir deyim de ifade olabilirken birden çok fonksiyon ve deyim içeren ifadeler de olabilir.<br>\n",
    "\n",
    "<a href=\"https://upload.wikimedia.org/wikipedia/commons/thumb/3/3c/Java_keywords_highlighted.svg/640px-Java_keywords_highlighted.svg.png\" target=\"_blank\">Java Syntax Örneği</a> - <a href=\"https://upload.wikimedia.org/wikipedia/commons/1/17/C_Sharp_Code.PNG\" target=\"_blank\">C# Syntax Örneği</a> - <a href=\"https://upload.wikimedia.org/wikipedia/commons/thumb/e/e1/Python_add5_syntax.svg/602px-Python_add5_syntax.svg.png?20070513191955\" target=\"_blank\">Python Syntax Örneği</a> <br><br>\n",
    "<font color=\"blue\" size=3>**Print()**</font> **Fonksiyonu ile İlk Kodumuzu Yazalım:**<br>\n",
    "***print()*** fonksiyonu ekrana yazdırma(bastırma) işlevidir. Parantez arasına yazılanlar ekrana çıktı olarak verilir."
   ]
  },
  {
   "cell_type": "code",
   "execution_count": null,
   "id": "97146a76",
   "metadata": {},
   "outputs": [],
   "source": [
    "print (\"Merhaba Dünya\")"
   ]
  },
  {
   "cell_type": "markdown",
   "id": "b8b94ed9",
   "metadata": {},
   "source": [
    "<div class=\"alert alert-info\"><b>Etkinlik:</b> print() fonksiyonu ile ekrana \"Merhaba Dünya\" yazınız.</div>"
   ]
  },
  {
   "cell_type": "markdown",
   "id": "def98cf9",
   "metadata": {},
   "source": [
    "<font color=\"green\"> >> **print()**</font> **Fonksiyonunun Kullanımları:**<br>\n",
    "Eğer print ile yazacağınız metinde zaten çift tırnak (\") kullanmanız gerekiyorsa tek tırnak işaretiyle de print komutunu kullanabilirsiniz."
   ]
  },
  {
   "cell_type": "code",
   "execution_count": null,
   "id": "9c952325",
   "metadata": {},
   "outputs": [],
   "source": [
    "print ('Bastığın yerleri \"toprak!\" diyerek geçme, tanı!')"
   ]
  },
  {
   "cell_type": "markdown",
   "id": "ed20c107",
   "metadata": {},
   "source": [
    "Çok satırlı bir çıktınız varsa üç tırnak işareti ile yapabilirsiniz."
   ]
  },
  {
   "cell_type": "code",
   "execution_count": null,
   "id": "f17a58e5",
   "metadata": {},
   "outputs": [],
   "source": [
    "print(\"\"\"\n",
    "Dalgalan sen de şafaklar gibi ey şanlı hilâl;\n",
    "Olsun artık dökülen kanlarımın hepsi helâl.\n",
    "Ebediyen sana yok, ırkıma yok izmihlâl:\n",
    "Hakkıdır, hür yaşamış bayrağımın hürriyet;\n",
    "Hakkıdır, Hakk’a tapan milletimin istiklâl!\n",
    "\"\"\")"
   ]
  },
  {
   "cell_type": "markdown",
   "id": "41b734de",
   "metadata": {},
   "source": [
    "Sayıları tırnaksız yazabilir,aynı satır içinde virgülle ayrılmış şekilde çift tırnaklar kullanabilirsiniz."
   ]
  },
  {
   "cell_type": "code",
   "execution_count": null,
   "id": "753b5cfd",
   "metadata": {},
   "outputs": [],
   "source": [
    "print(\"Türkiye Cumhuriyeti\",23,\"Nisan\",\"1923\",\"yılında kurulmuştur.\")"
   ]
  },
  {
   "cell_type": "markdown",
   "id": "cb772c47",
   "metadata": {},
   "source": [
    "Virgülle ayrılmış yazımlarda \"sep\" parametresi ile aralara ayıraç (seperator) tanımlayabilirsiniz."
   ]
  },
  {
   "cell_type": "code",
   "execution_count": null,
   "id": "dc06fc63",
   "metadata": {},
   "outputs": [],
   "source": [
    "print(\"www\",\"meb\",\"gov\",\"tr\",sep=\".\")"
   ]
  },
  {
   "cell_type": "markdown",
   "id": "56b44e6a",
   "metadata": {},
   "source": [
    "<div class=\"alert alert-info\"><b>Etkinlik:</b> TBMM kelimesindeki her haften sonra sep metodu ile nokta koyunuz.</div>"
   ]
  },
  {
   "cell_type": "markdown",
   "id": "24e1e44a",
   "metadata": {},
   "source": [
    "Alt alta yazmak için üç tane çift tırnak kullanmak istemezseniz \"\\n\" ile alt satıra geçme kaçış dizisini kullanabilirsiniz."
   ]
  },
  {
   "cell_type": "code",
   "execution_count": null,
   "id": "a4f4de64",
   "metadata": {},
   "outputs": [],
   "source": [
    "print(\"Korkma, sönmez bu şafaklarda yüzen al sancak;\",\"Sönmeden yurdumun üstünde tüten en son ocak\",sep=\"\\n\")"
   ]
  },
  {
   "cell_type": "code",
   "execution_count": null,
   "id": "e78a1c63",
   "metadata": {},
   "outputs": [],
   "source": [
    "print(\"Birinci Satır\",\"İkinci Satır\",\"Üçüncü Satır\",sep=\"\\n\")"
   ]
  },
  {
   "cell_type": "markdown",
   "id": "cef5c2be",
   "metadata": {},
   "source": [
    "<div class=\"alert alert-info\"><b>Etkinlik:</b> Aile bireylerinizin adını ekrana alt alta bastıran kodu yazınız.</div>"
   ]
  },
  {
   "cell_type": "markdown",
   "id": "7e63578c",
   "metadata": {},
   "source": [
    "Print ile yazılan satırın sadece sonunda gerçekleşmesini istediklerimizi şöyle tanımlayabiliriz."
   ]
  },
  {
   "cell_type": "code",
   "execution_count": null,
   "id": "4a08f5ce",
   "metadata": {},
   "outputs": [],
   "source": [
    "print(\"Ben ezelden\",\"beridir hür yaşadım,\",\"hür yaşarım.\",end='\\n')\n",
    "print (\"Hangi çılgın\",\"bana zincir vuracakmış?\",\"Şaşarım!\",end='')\n",
    "print (\"Kükremiş sel gibiyim; bendimi çiğner, aşarım;\")"
   ]
  },
  {
   "cell_type": "markdown",
   "id": "2f83c7cb",
   "metadata": {},
   "source": [
    "Tırnak içinde yazılan metnin her karakteriyle birbirinden ayrıymış gibi işlem yaptırmak için * işlecini kullanabiliriz."
   ]
  },
  {
   "cell_type": "code",
   "execution_count": null,
   "id": "9124ec37",
   "metadata": {},
   "outputs": [],
   "source": [
    "print(*\"TBMM\",sep=\".\")\n",
    "print(*\"TÜRKİYE\",sep=\"\\n\")"
   ]
  },
  {
   "cell_type": "markdown",
   "id": "743f07d5",
   "metadata": {},
   "source": [
    "Dinamik metinler için kıvırcıklı parantezler ile format metodunu kullanabiliriz."
   ]
  },
  {
   "cell_type": "code",
   "execution_count": null,
   "id": "d5cd6814",
   "metadata": {},
   "outputs": [],
   "source": [
    "print(\"{} programlama dili {} türden bir dilidir ve {} yılında kullanıma sunulmuştur.\".format(\"Python\",\"yorumlanan\",1994))"
   ]
  },
  {
   "cell_type": "markdown",
   "id": "472485d7",
   "metadata": {},
   "source": [
    "Python programlama dilindeki öğelerin sahip olduğu tüm metotları görmek için \"dir(öğe)\" fonksiyonunu çalıştırabilirsiniz."
   ]
  },
  {
   "cell_type": "code",
   "execution_count": null,
   "id": "b7bce0fe",
   "metadata": {},
   "outputs": [],
   "source": [
    "print(*dir(print),sep=\"\\n\")"
   ]
  },
  {
   "cell_type": "markdown",
   "id": "8b6f3063",
   "metadata": {},
   "source": [
    "<div class=\"alert alert-info\"><b>Etkinlik:</b> print() fonksiyonu ile * sembolünü kullanarak ekrana 10 satırlık bir <b>dikdörtgen</b> çiziniz.<br>\n",
    "<b>Etkinlik:</b> print() fonksiyonu ile * sembolünü kullanarak ekrana 10 satırlık bir <b>üçgen</b> çiziniz.</div>"
   ]
  },
  {
   "cell_type": "markdown",
   "id": "63dfd2d2",
   "metadata": {},
   "source": [
    "## <font color=\"Navy\">Değişken, Değişkeni İsimlendirme, Değişkene Değer Atama</font>"
   ]
  },
  {
   "cell_type": "markdown",
   "id": "876def4d",
   "metadata": {},
   "source": [
    "**Değişken (variable),** bir programda verilerin veya bilgilerin saklandığı hafıza birimleridir. <br>\n",
    "**Değişkene isim verirken**, programlama diline ait öğeler kullanılamaz. Örneğin \"print\" adında bir değişkeniniz olamaz.<br>\n",
    "Yasaklı diğer öğeleri de listelemek için şu kodu yazabiliriz."
   ]
  },
  {
   "cell_type": "code",
   "execution_count": null,
   "id": "d14ec5a1",
   "metadata": {},
   "outputs": [],
   "source": [
    "import keyword\n",
    "print(keyword.kwlist)"
   ]
  },
  {
   "cell_type": "markdown",
   "id": "2a273f24",
   "metadata": {},
   "source": [
    "Ayrıca değişken isimleri **rakamla başlayamaz, Türkçe karakterler (ÜĞİŞÇÖ, üğışçö) kullanılamaz, tüm özel karakterler (alt tire _ hariç) de kullanılamaz.**<br><br>\n",
    "**Değişkene değer atama** \"=\" işleci (operatörü) ile yapılır sağdaki veriyi soldaki değişkene atar (tanımlar)."
   ]
  },
  {
   "cell_type": "code",
   "execution_count": null,
   "id": "5ea56057",
   "metadata": {},
   "outputs": [],
   "source": [
    "#Doğru değişken isimlendirmeleri\n",
    "degisken1 = \"Hakkıdır\"\n",
    "degisken_1 = \"Hür Yaşamış\"\n",
    "DEGISKEN = \"Bayrağımın\"\n",
    "_degisken = \"Hürriyet!\"\n",
    "\n",
    "print(degisken1,degisken_1,DEGISKEN,_degisken)"
   ]
  },
  {
   "cell_type": "code",
   "execution_count": null,
   "id": "1ad69e33",
   "metadata": {},
   "outputs": [],
   "source": [
    "#Yanlış değişken isimlendirmeleri\n",
    "1degisken = \"Yanlış\"\n",
    "degisken-1 = \"Değişken\"\n",
    "D E.GI/S*KEN = \"İsimlendirmesi\""
   ]
  },
  {
   "cell_type": "markdown",
   "id": "985931df",
   "metadata": {},
   "source": [
    "<div class=\"alert alert-info\"><b>Etkinlik:</b> Doğru bir değişken adı ile TC Kimlik numaranızı,  Adınızı ve e-posta adresinizi bir değişkene atayınız ve ekrana bastırınız.</div>"
   ]
  },
  {
   "cell_type": "markdown",
   "id": "c25f3ff1",
   "metadata": {},
   "source": [
    "Değişkenleri isimlendirirken sonrasında **kolay hatırlayacağımız, basit, anlaşılır ve mantığa uygun** isimler vermek önemlidir. Bu sebeple değişken isimlendirme standartları (teamülleri) vardır. Bunlar:"
   ]
  },
  {
   "cell_type": "code",
   "execution_count": null,
   "id": "5cbaf413",
   "metadata": {},
   "outputs": [],
   "source": [
    "#1.Pascal Standartı: Değişkenin her kelimesini büyük harfle yazmak.\n",
    "MeclisKurulusYili = \"1920\"\n",
    "print(MeclisKurulusYili)\n",
    "\n",
    "#2.Deve Standartı: Değişkenin ilk harfini küçük diğer kelimelerin ilk harfini büyük yazmak.\n",
    "meclisKurulusYili = 1920\n",
    "print(meclisKurulusYili)\n",
    "\n",
    "#3.Yılan Standartı: Değişkenin her kelimesinin arasına alt tire (_) koymak.\n",
    "meclis_kurulus_yili = '1920' #veya\n",
    "iMeclis_Kurulus_Yili = 1920 #veya\n",
    "MECLIS_KURULUS_YILI = \"1920\"\n",
    "print(meclis_kurulus_yili,Meclis_Kurulus_Yili,MECLIS_KURULUS_YILI)"
   ]
  },
  {
   "cell_type": "markdown",
   "id": "1b2f0a1d",
   "metadata": {},
   "source": [
    "## <font color=\"Navy\">Değişken Tipleri</font>"
   ]
  },
  {
   "cell_type": "markdown",
   "id": "73f12c3c",
   "metadata": {},
   "source": [
    "<font color=\"blue\" size=3> **1. String (str):**</font> Karakter dizisi, metin, dize. Çift tırnak (\" \") veya tek tırnak (' ') arasında yazılan herşey string olur."
   ]
  },
  {
   "cell_type": "code",
   "execution_count": null,
   "id": "353dd363",
   "metadata": {},
   "outputs": [],
   "source": [
    "#Örnek string tipinde değişkenler\n",
    "karakterDizisi1 = \"TSK, ilk savaşı olan 'Kurtuluş Savaşı'ndan beri hep muzafferdir.\"\n",
    "karakterDizisi2 = 'Kurtuluş Savaşı \"1919-1923\" yılları arasında gerçekleşmiştir.'\n",
    "print(karakterDizisi1,karakterDizisi2)"
   ]
  },
  {
   "cell_type": "markdown",
   "id": "ae7ddf56",
   "metadata": {},
   "source": [
    "Tipini bilmediğimiz değişken tipini öğrenmek-almak için kullanılan 'type' fonksiyonunu kullanarak tipini görüntüleyelim."
   ]
  },
  {
   "cell_type": "code",
   "execution_count": null,
   "id": "7f9e258f",
   "metadata": {},
   "outputs": [],
   "source": [
    "dTipi1 = \"TÜRKİYE\"\n",
    "dTipi2 = '1923'\n",
    "print(type(dTipi1))\n",
    "print(type(dTipi2))"
   ]
  },
  {
   "cell_type": "markdown",
   "id": "c8db5d13",
   "metadata": {},
   "source": [
    "Karakter dizisi (string) olmayan bir değişkeni stringe dönüştürmek için 'str' fonksiyonu kullanılır."
   ]
  },
  {
   "cell_type": "code",
   "execution_count": null,
   "id": "6321826b",
   "metadata": {},
   "outputs": [],
   "source": [
    "degisken = 1923 #Tırnak arasına yazılmadığı için string değildir.\n",
    "print(type(degisken),type(str(degisken)),sep=\"\\n\")"
   ]
  },
  {
   "cell_type": "markdown",
   "id": "a6479c23",
   "metadata": {},
   "source": [
    "Karakter dizilerinin (string) uzunluğunu 'len' fonksiyonu ile öğrenebiliriz."
   ]
  },
  {
   "cell_type": "code",
   "execution_count": null,
   "id": "ffebb86d",
   "metadata": {},
   "outputs": [],
   "source": [
    "misra = \"\"\"\n",
    "Arkadaş! Yurduma alçakları uğratma sakın;\n",
    "Siper et gövdeni, dursun bu hayâsızca akın.\n",
    "Doğacaktır sana va’dettiği günler Hakk’ın...\n",
    "Kim bilir, belki yarın... belki yarından da yakın.\n",
    "\"\"\"\n",
    "print(len(misra))"
   ]
  },
  {
   "cell_type": "markdown",
   "id": "48943e38",
   "metadata": {},
   "source": [
    "<div class=\"alert alert-info\"><b>Etkinlik:</b> Adınızın karakter uzunluğuunu len foknsiyonu ile bulunuz.</div>"
   ]
  },
  {
   "cell_type": "markdown",
   "id": "7f0e6ad6",
   "metadata": {},
   "source": [
    "Çok sık kullanılan bir yöntem olan **print(f' ') yöntemi** stringler ile kullanılabilir. Örnek:"
   ]
  },
  {
   "cell_type": "code",
   "execution_count": null,
   "id": "519e54d2",
   "metadata": {},
   "outputs": [],
   "source": [
    "isim=\"TÜRKİYE\"\n",
    "dogumYili=1923\n",
    "dogumYeri=\"Ankara\"\n",
    "print(f'{isim} Cumhuriyeti {dogumYili} yılında {dogumYeri} şehrinde kurulmuştur.')"
   ]
  },
  {
   "cell_type": "markdown",
   "id": "0db9ef5c",
   "metadata": {},
   "source": [
    "<font color=\"blue\" size=3>**Input()**</font> **Fonksiyonu ile Kullanıcıdan Veri Alma:**<br>\n",
    "***input()*** fonksiyonu kullanıcıdan veri almamızı sağlar. Kullanıcının verisini girmesini bekler, veri girildikten sonra enter(giriş) tuşuna basınca girilen veriyi değişkene atar.<br>\n",
    "**Input fonksiyonu ile kullanıcıdan alınan her veri <u>string</u> veri türündedir.**"
   ]
  },
  {
   "cell_type": "code",
   "execution_count": null,
   "id": "8a82ce70",
   "metadata": {},
   "outputs": [],
   "source": [
    "girilenVeri = input(\"Lütfen Yaşınızı Giriniz: \")\n",
    "print(\"{} yaşındasınız.\".format(girilenVeri))"
   ]
  },
  {
   "cell_type": "markdown",
   "id": "5ea38871",
   "metadata": {},
   "source": [
    "<div class=\"alert alert-info\"><b>Etkinlik:</b> Kullanıcıdan aldığınız isim, yaş, meslek bilgilerini .format() metodu ile ekrana tek satırda yazınız.</div>"
   ]
  },
  {
   "cell_type": "markdown",
   "id": "21d87697",
   "metadata": {},
   "source": [
    "**<font color=\"green\"> >> String (str)</font> Değişkeninin Metotları:**<br>\n",
    "Karakter dizisini (stringi) tamamen büyük harf, küçük harf, sadece ilk harfi büyük, sadece kelimelerin ilk harfi büyük veya tersine(büyüğü küçük-küçüğü büyük) olacak şekilde değiştirebiliriz."
   ]
  },
  {
   "cell_type": "code",
   "execution_count": null,
   "id": "a0593c6c",
   "metadata": {},
   "outputs": [],
   "source": [
    "metin = \"PytHON pRoGrAmLaMa dİLİ\"\n",
    "print(metin.upper())\n",
    "print(metin.lower()) #eğer Türkçe karakterler küçülmüyorsa casefold() metodunu kullanabilirsiniz.\n",
    "print(metin.capitalize())\n",
    "print(metin.title())\n",
    "print(metin.swapcase())"
   ]
  },
  {
   "cell_type": "markdown",
   "id": "2108d6a7",
   "metadata": {},
   "source": [
    "<div class=\"alert alert-info\"><b>Etkinlik:</b> \"Mavi VATAN Akdeniz\" sözcüğünü tamamen küçük, büyük vb. metodlarla işleyiniz.</div>"
   ]
  },
  {
   "cell_type": "markdown",
   "id": "8e3d6902",
   "metadata": {},
   "source": [
    "Karakter dizisindeki (string)  harfleri 'replace' metodu ile değiştirebiliriz."
   ]
  },
  {
   "cell_type": "code",
   "execution_count": null,
   "id": "e11d9a4a",
   "metadata": {},
   "outputs": [],
   "source": [
    "vatan = \"TÜRKİYE\"\n",
    "print(vatan.replace(\"ÜRKİYE\", \"ürkiye\"))\n",
    "print(vatan.replace(\"İYE\", \"\"))\n",
    "\n",
    "#Bir karakter birden çok ise kaç kez tekrarlayacağını da metotta parametre olarak girebiliriz.\n",
    "palindrom = \"KAZAK\"\n",
    "print(palindrom.replace(\"A\",\"I\",1))"
   ]
  },
  {
   "cell_type": "markdown",
   "id": "10ba9a5b",
   "metadata": {},
   "source": [
    "<div class=\"alert alert-info\"><b>Etkinlik:</b> input() foknsiyonu ile kullanıcıdan adını alarak büyük harf yapın, ardından kullanıcının adındaki Ç'leri C olarak, Ğ'leri G olarak, İ'leri I olarak, Ö'leri O olarak, Ü'leri U olarak değiştiriniz ve ekrana yeniden yazdırınız.</div>"
   ]
  },
  {
   "cell_type": "markdown",
   "id": "9df7feff",
   "metadata": {},
   "source": [
    "String tipinde bir değişkeni 'del' deyimi (komutu) ile hafızadan silebiliriz. Esasında bu deyim (komutu) her tipte değişken için geçerlidir."
   ]
  },
  {
   "cell_type": "code",
   "execution_count": null,
   "id": "f6738d86",
   "metadata": {},
   "outputs": [],
   "source": [
    "dil = \"Python\"\n",
    "del dil\n",
    "print(dil)"
   ]
  },
  {
   "cell_type": "markdown",
   "id": "3bd4ca98",
   "metadata": {},
   "source": [
    "String tipinde bir değişkende bir karakter veya karakter dizisinden ne kadar var 'count' metodu ile sayabiliriz."
   ]
  },
  {
   "cell_type": "code",
   "execution_count": null,
   "id": "7df11346",
   "metadata": {},
   "outputs": [],
   "source": [
    "ornekMetin = \"Dal sarkar kartal kalkar, kartal kalkar dal sarkar, dal kalkar kantar tartar.\"\n",
    "print(ornekMetin.count(\"a\"))\n",
    "print(ornekMetin.count(\"kartal\"))"
   ]
  },
  {
   "cell_type": "markdown",
   "id": "823c7040",
   "metadata": {},
   "source": [
    "String tipinde bir değişkenin içindeki karakterin sırasını 'find' metodu ile bulabiliriz."
   ]
  },
  {
   "cell_type": "code",
   "execution_count": null,
   "id": "d81537b4",
   "metadata": {},
   "outputs": [],
   "source": [
    "toprak = \"AAAAABBBBBBCCCCCCCCCCCCCCDDDDDDDDDDDDDDD\"\n",
    "print(toprak.index(\"C\")) #ilk geçtiği yeri bulmak için index kullanılır.\n",
    "print(toprak.rindex(\"A\")) #son geçtiği yeri bulmak için rindex kullanılır.\n",
    "print(toprak.find(\"X\")) #find metodu index'le aynı işe yarar fakat index metodu bulamazsa 'ValueError' hatası verir, find ise -1\n",
    "print(toprak.rfind(\"X\")) #find metodunun tersten arama yapanı."
   ]
  },
  {
   "cell_type": "markdown",
   "id": "e770cf5f",
   "metadata": {},
   "source": [
    "String tipinde bir değişkenin başındaki veya sonundaki boşlukları 'strip' metodu ile silebiliriz."
   ]
  },
  {
   "cell_type": "code",
   "execution_count": null,
   "id": "58bfc69d",
   "metadata": {},
   "outputs": [],
   "source": [
    "ornekMetin = \"    TÜRKİYE BÜYÜK MİLLET MECLİSİ     \"\n",
    "print(ornekMetin.strip())"
   ]
  },
  {
   "cell_type": "markdown",
   "id": "ddc35e6c",
   "metadata": {},
   "source": [
    "String tipinde bir değişkeni 'split' metodu ile istediğimiz yerden ayırarak bir listeye dönüştürebiliriz."
   ]
  },
  {
   "cell_type": "code",
   "execution_count": null,
   "id": "8cfb64de",
   "metadata": {},
   "outputs": [],
   "source": [
    "s1 = \"Türkiye Büyük Millet Meclisi\"\n",
    "s2 = \"Türkiye, 23 Ekim 1923, Ankara\"\n",
    "print(s1.split()) #split'in içini boş bırakırsan boşulklardan ayırır.\n",
    "print(s2.split(\", \")) #split'in içine tırnak içinde yazdığın ifadeyi baz alarak ayırır."
   ]
  },
  {
   "cell_type": "markdown",
   "id": "fc71d61d",
   "metadata": {},
   "source": [
    "Karakter dizilerinin (string) karakterlerine \"[ ]\" ile erişebiliriz. Köşeli parantezler arasına karakterin sıra (index) numarasını yazarız. Bu işlemlere **'dilimleme'** denir."
   ]
  },
  {
   "cell_type": "code",
   "execution_count": null,
   "id": "2ca7eec6",
   "metadata": {},
   "outputs": [],
   "source": [
    "ornek = \"Pythhon\"\n",
    "print(ornek[0]) #tek karakter için o karakterin sırasını girmeliyiz (dizilerde sıra 0(sıfır)dan başlar)\n",
    "print(ornek[0:3]) #aralık için iki nokta ile başlama ve bitiş index'ini girmeliyiz\n",
    "print(ornek[:2]) #başlangıç belirtmeseniz ilk sıradan başlar\n",
    "print(ornek[3:]) #bitiş belirtmeseniz karakter dizisinin sonuna kadar alır"
   ]
  },
  {
   "cell_type": "markdown",
   "id": "af40233c",
   "metadata": {},
   "source": [
    "<div class=\"alert alert-info\"><b>Etkinlik:</b> Adınızı çeşitli şekillerde dilimleyiniz.</div>"
   ]
  },
  {
   "cell_type": "markdown",
   "id": "d20327cc",
   "metadata": {},
   "source": [
    "Karakter dizilerini (string) dilimlerken karakter ilerleme sırasını belirleyebiliriz."
   ]
  },
  {
   "cell_type": "code",
   "execution_count": null,
   "id": "0414d512",
   "metadata": {},
   "outputs": [],
   "source": [
    "ornek = \"TÜRKİYE\"\n",
    "print(ornek[0:8:2]) #0. indexten başlayarak 7.indexe kadar 2'şer karakter ilerledik.\n",
    "print(ornek[-1:-8:-1]) #Tersten sıraladık. -1. indexten başlayarak -7.indexe kadar tersten 1'er karakter ilerledik."
   ]
  },
  {
   "cell_type": "markdown",
   "id": "2dce1b5a",
   "metadata": {},
   "source": [
    "<div class=\"alert alert-info\"><b>Etkinlik:</b> input() foknsiyonu ile kullanıcıdan alınan T.C. Numarasını ekrana tersten yazdırınız.</div>"
   ]
  },
  {
   "cell_type": "markdown",
   "id": "47251c9e",
   "metadata": {},
   "source": [
    "Karakter dizileri ile ilgili diğer operatör ve metotlara sonradan değineceğiz.<br>\n",
    "Karakter dizilerinin diğer metotlarını şöyle görüntüleyebilirsiniz:"
   ]
  },
  {
   "cell_type": "code",
   "execution_count": null,
   "id": "63267ec8",
   "metadata": {},
   "outputs": [],
   "source": [
    "print(dir(str))"
   ]
  },
  {
   "cell_type": "markdown",
   "id": "bc20e853",
   "metadata": {},
   "source": [
    "<font color=\"blue\" size=3> **2. Integer (int):**</font> Tamsayı değişken tipidir. Matematiksel işlemler yapmada kullanılır. Pozitif veya negatif olabilir. Çift tırnak (\"\") veya tek tırnak ('') arasına **<u>yazılmaz.</u>** En fazla 9223372036854775807 değerini alabilir. Örnek tamsayı tipinde değişkenler:"
   ]
  },
  {
   "cell_type": "code",
   "execution_count": null,
   "id": "c8007d72",
   "metadata": {},
   "outputs": [],
   "source": [
    "i1 = 99\n",
    "i2 = -99\n",
    "print(i1,i2,sep=\"\\n\")"
   ]
  },
  {
   "cell_type": "markdown",
   "id": "40eac104",
   "metadata": {},
   "source": [
    "Tipini bilmediğimiz değişkenler için tipini öğrenmek amacıyla 'type' foknsiyonunu kullanarak tipini görüntüleyelim."
   ]
  },
  {
   "cell_type": "code",
   "execution_count": null,
   "id": "c00838fa",
   "metadata": {},
   "outputs": [],
   "source": [
    "i = 1919\n",
    "print(type(i))"
   ]
  },
  {
   "cell_type": "markdown",
   "id": "84c2fe25",
   "metadata": {},
   "source": [
    "Integer (int) olmayan bir değişkeni integer'a dönüştürmek için 'int' fonksiyonu kullanılır. Fakat dönüştürülmek istenen veri tamamen rakamlardan (nümerik) oluşmalıdır, aksi halde hata verir."
   ]
  },
  {
   "cell_type": "code",
   "execution_count": null,
   "id": "cb451fd6",
   "metadata": {},
   "outputs": [],
   "source": [
    "metin = \"1923\"\n",
    "print(int(metin))\n",
    "print(type(int(metin)))"
   ]
  },
  {
   "cell_type": "markdown",
   "id": "9b89fa17",
   "metadata": {},
   "source": []
  },
  {
   "cell_type": "markdown",
   "id": "67764571",
   "metadata": {},
   "source": [
    "**<font color=\"green\"> >> Integer (int)</font> Değişkeninin Metotları:**<br>\n",
    "Tam sayıların 2'lik sayı sistemindeki basamak uzunluklarını bulmak için 'bit_length' metodu kullanılır."
   ]
  },
  {
   "cell_type": "code",
   "execution_count": null,
   "id": "c608663a",
   "metadata": {},
   "outputs": [],
   "source": [
    "i = 155\n",
    "print(i.bit_length())"
   ]
  },
  {
   "cell_type": "markdown",
   "id": "453d83f1",
   "metadata": {},
   "source": [
    "<div class=\"alert alert-info\"><b>Etkinlik:</b> input() foknsiyonu ile kullanıcıdan yaşını alarak önce integer'a çeviriniz sonra da 2'lik sayı sistemindeki basamak sayısını bularak ekrana yazdırınız.</div>"
   ]
  },
  {
   "cell_type": "markdown",
   "id": "e008d103",
   "metadata": {},
   "source": [
    "Tam sayılar ile ilgili diğer operatör ve metotlara sonradan değineceğiz.<br>\n",
    "Tam sayıların diğer metotlarını şöyle görüntüleyebilirsiniz:"
   ]
  },
  {
   "cell_type": "code",
   "execution_count": null,
   "id": "666b1a72",
   "metadata": {},
   "outputs": [],
   "source": [
    "print(dir(int))"
   ]
  },
  {
   "cell_type": "markdown",
   "id": "d9a0df29",
   "metadata": {},
   "source": [
    "<font color=\"blue\" size=3> **3. Float (float):**</font> Ondalıklı sayı değişken tipidir. **Ondalık ayıracı nokta (.) dır.** Matematiksel işlemler yapmada kullanılır. Pozitif veya negatif olabilir.<br>Çift tırnak (\" \") veya tek tırnak (' ') arasına **<u>yazılmaz.</u>** Örnek ondalıklı sayı tipinde değişkenler:"
   ]
  },
  {
   "cell_type": "code",
   "execution_count": null,
   "id": "548c0813",
   "metadata": {},
   "outputs": [],
   "source": [
    "f1 = 15.75\n",
    "f2 = -15.75\n",
    "print (f1,f2,sep=\"\\n\")"
   ]
  },
  {
   "cell_type": "markdown",
   "id": "d935046a",
   "metadata": {},
   "source": [
    "Tipini bilmediğimiz değişkenler için tipini öğrenmek amacıyla 'type' foknsiyonunu kullanarak tipini görüntüleyelim."
   ]
  },
  {
   "cell_type": "code",
   "execution_count": null,
   "id": "7248d051",
   "metadata": {},
   "outputs": [],
   "source": [
    "f = 1923.0\n",
    "print(type(f))"
   ]
  },
  {
   "cell_type": "markdown",
   "id": "229830d3",
   "metadata": {},
   "source": [
    "Float (float) olmayan bir değişkeni float'a dönüştürmek için 'float' foknsiyonu kullanılır. Fakat dönüştürülmek istenen veri tamamen rakamlardan (nümerik) oluşmalıdır, aksi halde hata verir."
   ]
  },
  {
   "cell_type": "code",
   "execution_count": null,
   "id": "162be4d8",
   "metadata": {},
   "outputs": [],
   "source": [
    "i = 1923\n",
    "print(float(i))\n",
    "print(type(float(i)))"
   ]
  },
  {
   "cell_type": "markdown",
   "id": "e6f8422c",
   "metadata": {},
   "source": [
    "**<font color=\"green\"> >> Float (float)</font> Değişkeninin Metotları:**<br>\n",
    "Birbirine bölününce ondalıklı sayıyı veren tam sayıları bulmak için 'as_integer_ratio' metodu kullanılır."
   ]
  },
  {
   "cell_type": "code",
   "execution_count": null,
   "id": "5f442e8b",
   "metadata": {},
   "outputs": [],
   "source": [
    "f1 = 7.5\n",
    "print(f1.as_integer_ratio())"
   ]
  },
  {
   "cell_type": "markdown",
   "id": "3359616f",
   "metadata": {},
   "source": [
    "<div class=\"alert alert-info\"><b>Etkinlik:</b> input() foknsiyonu ile noktalı bir şekilde ondalıklı sayı alarak float'a çeviriniz, ardından ondalık sayıyı veren tamsayıları bularak ekrana yazdırın.</div>"
   ]
  },
  {
   "cell_type": "markdown",
   "id": "565d383c",
   "metadata": {},
   "source": [
    "Ondalıklı sayılar ile ilgili diğer operatör ve metotlara sonradan değineceğiz.<br>\n",
    "Ondalıklı sayıların diğer metotlarını şöyle görüntüleyebilirsiniz:"
   ]
  },
  {
   "cell_type": "code",
   "execution_count": null,
   "id": "f58e962e",
   "metadata": {},
   "outputs": [],
   "source": [
    "print(dir(float))"
   ]
  },
  {
   "cell_type": "markdown",
   "id": "b6048428",
   "metadata": {},
   "source": [
    "<font color=\"blue\" size=3> **4. Boolean (bool):**</font> Mantıksal veri tipidir. Sadece 'True' (doğru) ve 'False' (yanlış) değerini alır. Esasında bir sorgulama sonucudur. Mantıksal bütün sorguların sonucu True veya False olur. Örnek boolean tipi sorgulamalar:"
   ]
  },
  {
   "cell_type": "code",
   "execution_count": null,
   "id": "70e83769",
   "metadata": {},
   "outputs": [],
   "source": [
    "b1 = True\n",
    "b2 = False\n",
    "print(b1,b2,sep=\"\\n\")"
   ]
  },
  {
   "cell_type": "markdown",
   "id": "6c91629b",
   "metadata": {},
   "source": [
    "Tipini bilmediğimiz değişkenler için tipini öğrenmek amacıyla 'type' foknsiyonunu kullanarak tipini görüntüleyelim."
   ]
  },
  {
   "cell_type": "code",
   "execution_count": null,
   "id": "4d558c30",
   "metadata": {},
   "outputs": [],
   "source": [
    "b1 = True\n",
    "b2 = False\n",
    "print(type(b1),type(b2),sep=\"\\n\")"
   ]
  },
  {
   "cell_type": "markdown",
   "id": "d3480cbf",
   "metadata": {},
   "source": [
    "<font color=\"blue\" size=3> **5. List (list):**</font> Liste demektir, elemanlardan oluşan çok değişkenli veri tipidir. Listeler köşeli parantez [ ] ile başlar ve biter. İlk elemanın sırası (index) 0'dır. Listedeki elemanların arasında virgül (,) konur. Listede str, int, float, bool veya list elemanları aynı anda olabilir.<br>\n",
    "**Özellikleri:**<br>\n",
    "- Listedeki elemanların sırası(index) vardır ve sıraları değiştirilebilir.<br>\n",
    "- Listeye eleman ekleme-çıkarma veya listeyi başka bir liste ile birleştirme yapılabilir.<br>\n",
    "- Aynı elemandan birkaç tane (duplicate) olabilir.\n",
    "- String veri tipinin **dilimleme** metotları aynen uygulanabilir.\n",
    "- Sonradan eleman girilmek üzere boş bir liste ( [] ) oluşturulabilir.<br>\n",
    "Örnek liste değişken tipinde veri:"
   ]
  },
  {
   "cell_type": "code",
   "execution_count": null,
   "id": "dea1cd75",
   "metadata": {},
   "outputs": [],
   "source": [
    "liste = [\"Python\",1994,3.10,True,[\"En Popüler\",\"Programlama Dili\",1]]\n",
    "print(liste)\n",
    "print(liste[2])\n",
    "print(liste[1:4])\n",
    "print(type(liste))"
   ]
  },
  {
   "cell_type": "markdown",
   "id": "32f51f47",
   "metadata": {},
   "source": [
    "Sadece string veri tipi bir listeye dönüştürülebilir. Bunun için 'list' foknsiyonu kullanılır."
   ]
  },
  {
   "cell_type": "code",
   "execution_count": null,
   "id": "2fd141e6",
   "metadata": {},
   "outputs": [],
   "source": [
    "s = \"Türkiye 2023\"\n",
    "print(list(s),type(list(s)),sep=\"\\n\")"
   ]
  },
  {
   "cell_type": "markdown",
   "id": "bb73ec5d",
   "metadata": {},
   "source": [
    "Bir sayı listesi oluşturmak için 'range()' (aralık) foknsiyonu ile sayı listesi oluşturulabilir. Bunun için 'list()' ve 'range()' fonksiyonu kullanılır. 'range()' fonksiyonu liste tipinden bağımsız başka şekillerde de kullanılabilir."
   ]
  },
  {
   "cell_type": "code",
   "execution_count": null,
   "id": "49fd3a15",
   "metadata": {},
   "outputs": [],
   "source": [
    "l = list(range(1,16))\n",
    "print(l)"
   ]
  },
  {
   "cell_type": "markdown",
   "id": "4652121e",
   "metadata": {},
   "source": [
    "<div class=\"alert alert-info\"><b>Etkinlik:</b> -5 ile +5 arasındaki sayılardan oluşan bir liste oluşurunuz.</div>"
   ]
  },
  {
   "cell_type": "markdown",
   "id": "f0b4a6e9",
   "metadata": {},
   "source": [
    "Listelerin (list) eleman sayısını 'len' foknsiyonu ile öğrenebiliriz."
   ]
  },
  {
   "cell_type": "code",
   "execution_count": null,
   "id": "f5a81309",
   "metadata": {},
   "outputs": [],
   "source": [
    "l = [\"Pazartesi\",\"Salı\",\"Çarşamba\",\"Perşembe\",\"Cuma\",\"Cumartesi\",\"Pazar\"]\n",
    "print(len(l))"
   ]
  },
  {
   "cell_type": "markdown",
   "id": "0e748497",
   "metadata": {},
   "source": [
    "**<font color=\"green\"> >> List (list)</font> Değişkeninin Metotları:**<br>\n",
    "Listelere 'append' metodu ile **listenin sonuna** eklenmek üzere yeni eleman eklenebilir."
   ]
  },
  {
   "cell_type": "code",
   "execution_count": null,
   "id": "15058a57",
   "metadata": {},
   "outputs": [],
   "source": [
    "l = [\"Pazartesi\",\"Salı\",\"Çarşamba\",\"Perşembe\",\"Cuma\",\"Cumartesi\"]\n",
    "l.append(\"Pazar\")\n",
    "print(l)"
   ]
  },
  {
   "cell_type": "markdown",
   "id": "b7d81ded",
   "metadata": {},
   "source": [
    "Listedeki bir elemanın sırası 'index' metodu ile bulunabilir."
   ]
  },
  {
   "cell_type": "code",
   "execution_count": null,
   "id": "a84f190b",
   "metadata": {},
   "outputs": [],
   "source": [
    "l = [\"Pazartesi\",\"Salı\",\"Çarşamba\",\"Perşembe\",\"Cuma\",\"Cumartesi\"]\n",
    "print(l.index(\"Perşembe\"))"
   ]
  },
  {
   "cell_type": "markdown",
   "id": "bd4f5849",
   "metadata": {},
   "source": [
    "<div class=\"alert alert-info\"><b>Etkinlik:</b> Adınızı list() foknsiyonu ile listeye çevirdikten sonra listenin sonuna yaşınızı sayı olarak ekleyiniz ve yaşınızın listedeki sırasını bulunuz.</div>"
   ]
  },
  {
   "cell_type": "markdown",
   "id": "ac3d1c11",
   "metadata": {},
   "source": [
    "Listelere 'insert' metodu ile **listenin istenilen sırasına(index)** eklenmek üzere yeni eleman eklenebilir. Insert metodu 'insert(eklenmek istenen sıranın indexi,eklenmek istenen değer)' olarak çalışmaktadır."
   ]
  },
  {
   "cell_type": "code",
   "execution_count": null,
   "id": "a73580bb",
   "metadata": {},
   "outputs": [],
   "source": [
    "l = [\"Pazartesi\",\"Çarşamba\",\"Perşembe\",\"Cuma\",\"Cumartesi\"]\n",
    "l.insert(1,\"Salı\")\n",
    "l.insert(6,\"Pazar\")\n",
    "print(l)"
   ]
  },
  {
   "cell_type": "markdown",
   "id": "eeaca1e3",
   "metadata": {},
   "source": [
    "Listeden bir elemana değeriyle erişilerek silinebilir. Bunun için 'remove' metodu kullanılır. Remove metodunu kullanırken silmek istediğiniz değerin listedeki sırasını bilmenize gerek yoktur. Eğer aynı değerden birkaç tane varsa sırası (index) en küçük olanı (ilk sırada olanı) siler."
   ]
  },
  {
   "cell_type": "code",
   "execution_count": null,
   "id": "ff78a890",
   "metadata": {},
   "outputs": [],
   "source": [
    "l = [\"Pazartesi\",\"Salı\",\"Çarşamba\",\"Perşembe\",\"Cuma\",\"Cumartesi\",\"Pazar\",\"Ocak\",\"Şubat\",\"Ocak\"]\n",
    "l.remove(\"Ocak\")\n",
    "print(l)"
   ]
  },
  {
   "cell_type": "markdown",
   "id": "26ff92af",
   "metadata": {},
   "source": [
    "Listeden bir elemanı sırasına(index) erişilerek silinebilir. Bunun için iki yöntem vardır; 'pop' ve 'del' metotları kullanılır.<br>\n",
    "Pop metodu ile belirttiğiniz sıradaki(index) eleman silinir. İndex numarası belirtilmezse listenin sonundaki elemanı siler.<br>\n",
    "Del metodu ile belirttiğiniz sıradaki(index) eleman silinir. İndex numarası belirtilmezse **ilgili liste değişkenini tamamen ortadan kaldırır.**"
   ]
  },
  {
   "cell_type": "code",
   "execution_count": null,
   "id": "b06ead02",
   "metadata": {},
   "outputs": [],
   "source": [
    "l = [\"Pazartesi\",\"Salı\",\"Çarşamba\",\"Perşembe\",\"Cuma\",\"Cumartesi\",\"Pazar\",\"Ocak\",\"Ocak\"]\n",
    "l.pop(7)\n",
    "del l[0]\n",
    "print(l)"
   ]
  },
  {
   "cell_type": "markdown",
   "id": "8894f25b",
   "metadata": {},
   "source": [
    "<div class=\"alert alert-info\"><b>Etkinlik:</b> 1'den 10'a kadar tamsayıların bulunduğu bir listeden 7 sayısını siliniz ve aynı sıraya tekrar ekleyiniz.</div>"
   ]
  },
  {
   "cell_type": "markdown",
   "id": "4c846016",
   "metadata": {},
   "source": [
    "Listedeki tüm elemanları 'clear' metodu ile silebiliriz. Bu metodla listenin içi boşalır ve ilgili liste değişkeni kullanılmaya devam edilir. Yani liste değişkeni ortadan kalkmaz."
   ]
  },
  {
   "cell_type": "code",
   "execution_count": null,
   "id": "21638f61",
   "metadata": {},
   "outputs": [],
   "source": [
    "l = [\"Pazartesi\",\"Salı\",\"Çarşamba\",\"Perşembe\",\"Cuma\",\"Cumartesi\",\"Pazar\"]\n",
    "l.clear()\n",
    "print(l)"
   ]
  },
  {
   "cell_type": "markdown",
   "id": "80933f4b",
   "metadata": {},
   "source": [
    "Liste elemanları başka bir değişkene 'copy' metodu ile liste olarak kopyalanabilir."
   ]
  },
  {
   "cell_type": "code",
   "execution_count": null,
   "id": "fe70cc1d",
   "metadata": {},
   "outputs": [],
   "source": [
    "l1 = [\"Pazartesi\",\"Salı\",\"Çarşamba\",\"Perşembe\",\"Cuma\",\"Cumartesi\",\"Pazar\"]\n",
    "l2 =l1.copy()\n",
    "print(l2)"
   ]
  },
  {
   "cell_type": "markdown",
   "id": "1ccaef26",
   "metadata": {},
   "source": [
    "Liste elemanları 'sort' metodu ile A'dan Z'ye veya küçükten büyüğe doğru sıralanabilir."
   ]
  },
  {
   "cell_type": "code",
   "execution_count": null,
   "id": "2aea5c10",
   "metadata": {},
   "outputs": [],
   "source": [
    "l = [\"Pazartesi\",\"Salı\",\"Çarşamba\",\"Perşembe\",\"Cuma\",\"Cumartesi\",\"Pazar\"]\n",
    "l.sort()\n",
    "print(l)"
   ]
  },
  {
   "cell_type": "code",
   "execution_count": null,
   "id": "47a0b97c",
   "metadata": {},
   "outputs": [],
   "source": [
    "l = [3,4,5,1,2,6,7]\n",
    "l.sort()\n",
    "print(l)"
   ]
  },
  {
   "cell_type": "markdown",
   "id": "e7e03a86",
   "metadata": {},
   "source": [
    "Liste elemanları 'sort' metodu ile Z'den A'ya veya büyükten küçüğe doğru da sıralanabilir."
   ]
  },
  {
   "cell_type": "code",
   "execution_count": null,
   "id": "c23a056a",
   "metadata": {},
   "outputs": [],
   "source": [
    "l = [\"Pazartesi\",\"Salı\",\"Çarşamba\",\"Perşembe\",\"Cuma\",\"Cumartesi\",\"Pazar\"]\n",
    "l.sort(reverse=True)\n",
    "print(l)"
   ]
  },
  {
   "cell_type": "code",
   "execution_count": null,
   "id": "a56bb919",
   "metadata": {},
   "outputs": [],
   "source": [
    "l = [3,4,5,1,2,6,7]\n",
    "l.sort(reverse=True)\n",
    "print(l)"
   ]
  },
  {
   "cell_type": "markdown",
   "id": "6ed622c6",
   "metadata": {},
   "source": [
    "Liste elemanları 'reverse' metodu ile tersine çevrilebilir."
   ]
  },
  {
   "cell_type": "code",
   "execution_count": null,
   "id": "11b51ea3",
   "metadata": {},
   "outputs": [],
   "source": [
    "l = [\"Pazartesi\",\"Salı\",\"Çarşamba\",\"Perşembe\",\"Cuma\",\"Cumartesi\",\"Pazar\"]\n",
    "l.reverse()\n",
    "print(l)"
   ]
  },
  {
   "cell_type": "markdown",
   "id": "3e600ac0",
   "metadata": {},
   "source": [
    "<div class=\"alert alert-info\"><b>Etkinlik:</b> Adınızı list() foknsiyonu ile listeye çevirdikten sonra isminizdeki harfleri A'dan Z'ye, Z'den A'ya ve tersten olmak üzere farklı şekillerde sıralayınız.</div>"
   ]
  },
  {
   "cell_type": "markdown",
   "id": "7c43897e",
   "metadata": {},
   "source": [
    "Listedeki elemanlardan kaçar tane olduğu 'count' metodu ile bulunabilir."
   ]
  },
  {
   "cell_type": "code",
   "execution_count": null,
   "id": "7df64b49",
   "metadata": {},
   "outputs": [],
   "source": [
    "l = [1,1,1,1,2,2,2,2,2,3,3,3,3,3,3,4,5,6,7]\n",
    "print(l.count(1))\n",
    "print(l.count(5))"
   ]
  },
  {
   "cell_type": "markdown",
   "id": "efda8250",
   "metadata": {},
   "source": [
    "Listedeki elemanlardan sayısal olarak en büyük veya alfabetik olarak en sonda olan 'max' foknsiyonu ile, sayısal olarak en küçük veya alfabetik olarak en önde olan 'min' foknsiyonu ile bulunabilir."
   ]
  },
  {
   "cell_type": "code",
   "execution_count": null,
   "id": "700a0aab",
   "metadata": {},
   "outputs": [],
   "source": [
    "l = [\"A\",\"B\",\"C\",\"D\",\"E\",\"F\",\"G\",\"Z\"]\n",
    "print(max(l))\n",
    "print(min(l))"
   ]
  },
  {
   "cell_type": "code",
   "execution_count": null,
   "id": "0fc4e598",
   "metadata": {},
   "outputs": [],
   "source": [
    "l = [101,345,543,786,908,123,434]\n",
    "print(max(l))\n",
    "print(min(l))"
   ]
  },
  {
   "cell_type": "markdown",
   "id": "f8f1e938",
   "metadata": {},
   "source": [
    "<font color=\"blue\" size=3> **6. Tuple (tuple):**</font> Demet demektir. Liste değişken tipi gibi elemanlardan oluşan çok değişkenli veri tipidir. Demetler normal parantez ( ) ile başlar ve biter. İlk elemanın sırası (index) 0'dır. Demetteki  elemanların arasında virgül (,) konur. Demette str, int, float, bool veya list elemanları aynı anda olabilir.<br>\n",
    "**Özellikleri:**<br>\n",
    "- Demetteki elemanların sırası(index) vardır ve sıraları **değiştirilemez**.<br>\n",
    "- Demete eleman ekleme-çıkarma **yapılamaz** ama başka bir demetle ile birleştirme yapılabilir.<br>\n",
    "- Aynı elemandan birkaç tane (duplicate) olabilir.<br>\n",
    "- String veri tipinin **dilimleme** metotları aynen uygulanabilir.<br>\n",
    "Örnek demet veri tipi değişkeni:"
   ]
  },
  {
   "cell_type": "code",
   "execution_count": null,
   "id": "f4e2385c",
   "metadata": {},
   "outputs": [],
   "source": [
    "yazAylari = (\"Haziran\",\"Temmuz\",\"Ağustos\")\n",
    "print(yazAylari)\n",
    "print(yazAylari[1])\n",
    "print(yazAylari[0:2])\n",
    "print(type(yazAylari))"
   ]
  },
  {
   "cell_type": "markdown",
   "id": "60aee67c",
   "metadata": {},
   "source": [
    "Sadece string veya liste veri tipi bir demete dönüştürülebilir. Bunun için 'tuple' foknsiyonu kullanılır."
   ]
  },
  {
   "cell_type": "code",
   "execution_count": null,
   "id": "6e300736",
   "metadata": {},
   "outputs": [],
   "source": [
    "d = \"Tükiye 2023\"\n",
    "print(tuple(d),type(tuple(d)),sep=\"\\n\")"
   ]
  },
  {
   "cell_type": "markdown",
   "id": "10d79e56",
   "metadata": {},
   "source": [
    "Demetlerin eleman sayısı 'len' foknsiyonu ile bulunabilir."
   ]
  },
  {
   "cell_type": "code",
   "execution_count": null,
   "id": "279fe223",
   "metadata": {},
   "outputs": [],
   "source": [
    "d = (\"Aralık\",\"Ocak\",\"Şubat\")\n",
    "print(len(d))"
   ]
  },
  {
   "cell_type": "markdown",
   "id": "ce87179b",
   "metadata": {},
   "source": [
    "**<font color=\"green\"> >> Tuple (tuple)</font> Değişkeninin Metotları:**<br>\n",
    "Demetlerde 'index' metodu ile elemanın sırası bulunabilir."
   ]
  },
  {
   "cell_type": "code",
   "execution_count": null,
   "id": "95cf83de",
   "metadata": {},
   "outputs": [],
   "source": [
    "d = (\"Aralık\",\"Ocak\",\"Şubat\")\n",
    "print(d.index(\"Ocak\"))"
   ]
  },
  {
   "cell_type": "markdown",
   "id": "91501d8a",
   "metadata": {},
   "source": [
    "Demetlerde 'count' metodu ile hangi elemandan kaç tane olduğu bulunabilir."
   ]
  },
  {
   "cell_type": "code",
   "execution_count": null,
   "id": "6868afa2",
   "metadata": {},
   "outputs": [],
   "source": [
    "d = (1,1,1,1,2,2,2,3,3,3,3,3,3,3,4,4,4,5)\n",
    "print(d.count(3))"
   ]
  },
  {
   "cell_type": "markdown",
   "id": "cdb54bc1",
   "metadata": {},
   "source": [
    "<font color=\"blue\" size=3> **7. Set (set):**</font> Küme demektir. Liste değişken tipi gibi elemanlardan oluşan çok değişkenli veri tipidir. Kümeler kıvırcıklı parantez { } ile başlar ve biter. Küme elemanlarında sıra (index) yoktur. Kümedeki  elemanların arasında virgül (,) konur. Kümede str, int, float veya bool elemanları aynı anda olabilir.<br>\n",
    "**Özellikleri:**<br>\n",
    "- Kümedeki elemanların **sırası(index) yoktur** ve sıraları **değiştirilemez**.<br>\n",
    "- Kümeye eleman ekleme-çıkarma veya başka bir küme ile birleştirme yapılabilir.<br>\n",
    "- **Aynı elemandan birkaç tane (duplicate) olamaz.**<br>\n",
    "- **Dilimleme** metotları **uygulanamaz**.<br>\n",
    "- Kümelerin içinde list veya tuple tipinde elemanları **olamaz.**<br>\n",
    "Örnek küme veri tipi değişkeni:"
   ]
  },
  {
   "cell_type": "code",
   "execution_count": null,
   "id": "3ad60072",
   "metadata": {},
   "outputs": [],
   "source": [
    "k = {1,2,3,\"Türkiye\"}\n",
    "print(k,len(k),type(k),sep=\"\\n\")"
   ]
  },
  {
   "cell_type": "markdown",
   "id": "e5a08f28",
   "metadata": {},
   "source": [
    "Sadece string, list veya tuple veri tipi bir kümeye dönüştürülebilir. Bunun için 'set' foknsiyonu kullanılır."
   ]
  },
  {
   "cell_type": "code",
   "execution_count": null,
   "id": "e522d596",
   "metadata": {},
   "outputs": [],
   "source": [
    "s = \"Python\"\n",
    "l =[1,2,3]\n",
    "t=(\"a\",\"b\",\"c\")\n",
    "print(set(s))\n",
    "print(set(l))\n",
    "print(set(d))"
   ]
  },
  {
   "cell_type": "markdown",
   "id": "316b6491",
   "metadata": {},
   "source": [
    "Bir sayı kümesi tanımlamak için range() (aralık) foknsiyonu ile küme tanımlanabilir. Bunun için 'set()' ve 'range()' foknsiyon kullanılır."
   ]
  },
  {
   "cell_type": "code",
   "execution_count": null,
   "id": "822a63a7",
   "metadata": {},
   "outputs": [],
   "source": [
    "k = set(range(1,10)) #1'den 10'a kadar olan sayılardan bir küme oluşturduk.\n",
    "print(k)"
   ]
  },
  {
   "cell_type": "markdown",
   "id": "46505ac6",
   "metadata": {},
   "source": [
    "**<font color=\"green\"> >> Set (set)</font> Değişkeninin Metotları:**<br>\n",
    "Kümelere 'add' metodu ile eleman eklenebilir."
   ]
  },
  {
   "cell_type": "code",
   "execution_count": null,
   "id": "4c4bcb40",
   "metadata": {},
   "outputs": [],
   "source": [
    "k = {\"T\",\"Ü\",\"R\",\"K\",\"İ\",\"Y\",\"E\"}\n",
    "k.add(1923)\n",
    "print(k)"
   ]
  },
  {
   "cell_type": "markdown",
   "id": "b63a0338",
   "metadata": {},
   "source": [
    "Kümelerden 'remove' metodu ile eleman silinebilir. Silmek istediğiniz eleman yok ise **hata verir.**"
   ]
  },
  {
   "cell_type": "code",
   "execution_count": null,
   "id": "69545cf8",
   "metadata": {},
   "outputs": [],
   "source": [
    "k = {\"T\",\"Ü\",\"R\",\"K\",\"İ\",\"Y\",\"E\",1923}\n",
    "k.remove(1923)\n",
    "print(k)"
   ]
  },
  {
   "cell_type": "markdown",
   "id": "234e5997",
   "metadata": {},
   "source": [
    "Kümelerden 'discard' metodu ile de eleman silinebilir. Silmek istediğiniz eleman yok ise **hata vermez**."
   ]
  },
  {
   "cell_type": "code",
   "execution_count": null,
   "id": "270f174f",
   "metadata": {},
   "outputs": [],
   "source": [
    "k = {\"T\",\"Ü\",\"R\",\"K\",\"İ\",\"Y\",\"E\",1923}\n",
    "k.discard(\"İ\")\n",
    "k.discard(\"Y\")\n",
    "k.discard(\"E\")\n",
    "k.discard(2023)\n",
    "print(k)"
   ]
  },
  {
   "cell_type": "markdown",
   "id": "45c18c80",
   "metadata": {},
   "source": [
    "Kümeler 'clear' metodu ile temizlenebilir."
   ]
  },
  {
   "cell_type": "code",
   "execution_count": null,
   "id": "df291bcb",
   "metadata": {},
   "outputs": [],
   "source": [
    "k = {\"T\",\"Ü\",\"R\",\"K\",\"İ\",\"Y\",\"E\",1923}\n",
    "k.clear()\n",
    "print(k)"
   ]
  },
  {
   "cell_type": "markdown",
   "id": "4cb96ae5",
   "metadata": {},
   "source": [
    "Kümeler 'update' metodu ile birleştirilebilir veya 'union' ile birleşik yeni bir küme oluşturulabilir."
   ]
  },
  {
   "cell_type": "code",
   "execution_count": null,
   "id": "e533da88",
   "metadata": {},
   "outputs": [],
   "source": [
    "k1 = {\"T\",\"Ü\",\"R\",\"K\"}\n",
    "k2 = {\"İ\",\"Y\",\"E\"}\n",
    "k3 = k1.union(k2)\n",
    "print(k1,k3,sep=\"\\n\")\n",
    "\n",
    "k1.update(k2)\n",
    "print(k1)"
   ]
  },
  {
   "cell_type": "markdown",
   "id": "2cd11285",
   "metadata": {},
   "source": [
    "Kümelerin 'intersection' metodu ile kesişimleri, 'difference' metodu ile farkları bulunabilir."
   ]
  },
  {
   "cell_type": "code",
   "execution_count": null,
   "id": "2fd2e7ac",
   "metadata": {},
   "outputs": [],
   "source": [
    "k1 = {\"P\",\"Y\",\"T\",\"H\",\"O\",\"N\"}\n",
    "k2 = {\"F\",\"A\",\"Y\",\"T\",\"O\",\"N\"}\n",
    "print(k1.intersection(k2))\n",
    "print(k1.difference(k2))"
   ]
  },
  {
   "cell_type": "markdown",
   "id": "8945081e",
   "metadata": {},
   "source": [
    "<font color=\"blue\" size=3> **8. Frozenset (frozenset):**</font> Kısıtlanmış küme demektir. Liste değişken tipi gibi elemanlardan oluşan çok değişkenli veri tipidir. Kısıtlanmış kümeler bir listenin başına 'frozenset' foknsiyonu girilmesi ile oluşur. Küme elemanlarında sıra (index) yoktur. Kümedeki  elemanların arasında virgül (,) konur. Kümede str, int, float veya bool elemanları aynı anda olabilir.<br>\n",
    "**Özellikleri:**<br>\n",
    "- Kısıtlanmış kümedeki elemanların **sırası(index) yoktur** ve sıraları **değiştirilemez**.<br>\n",
    "- Kısıtlanmış kümeye eleman **ekleme-çıkarma veya başka bir liste tipi değişkenle birleştirme <u>yapılamaz</u>**.<br>\n",
    "- **Aynı elemandan birkaç tane (duplicate) olamaz.**<br>\n",
    "- **Dilimleme** metotları **uygulanamaz**.<br>\n",
    "- Kıtılanmış kümelerin içinde list veya tuple tipinde elemanları **olamaz.**<br>\n",
    "Örnek kısıtlanmış küme veri tipi değişkeni:"
   ]
  },
  {
   "cell_type": "code",
   "execution_count": null,
   "id": "d0738134",
   "metadata": {},
   "outputs": [],
   "source": [
    "fs = frozenset([\"pazartesi\",\"salı\",\"çarşamba\",\"perşembe\",\"cuma\",\"cumartesi\",1,2,3,4,5,6])\n",
    "print (fs)"
   ]
  },
  {
   "cell_type": "markdown",
   "id": "42bb73c6",
   "metadata": {},
   "source": [
    "<font color=\"blue\" size=3> **9. Dictionary (dict):**</font> Sözlük demektir. Küme değişken tipi gibi fakat 2 boyutlu elemanlardan oluşan çok değişkenli veri tipidir. Sözlükler kıvırcıklı parantez ile başlar ve biter. Sözlüklerde her eleman 2 öğeden oluşur. İlki 'key' (anahtar), ikincisi 'value' (değer)'dir. Öğelerin arasına : konur. Eleman sıraları değiştirilemez, ekleme çıkarma yapılabilir. Sözlüklerde öğelerin arasında virgül (,) konur. Sözlükte str, int, float veya bool elemanları aynı anda olabilir.<br>\n",
    "Örnek kısıtlanmış küme veri tipi değişkeni:"
   ]
  },
  {
   "cell_type": "code",
   "execution_count": null,
   "id": "de063f11",
   "metadata": {},
   "outputs": [],
   "source": [
    "sozluk = {\"Python\":\"Bir programlama dilidir.\",\n",
    "          \"Yazar\":\"Guido Van Rossum\",\n",
    "          1994:\"Python'ın yayınlandığı yıl.\",\n",
    "          2018:\"Van Rossum'un Python yönetiminiden istifa ettiği yıldır.\"}\n",
    "print (sozluk[\"Yazar\"])"
   ]
  },
  {
   "cell_type": "markdown",
   "id": "7d4757db",
   "metadata": {},
   "source": [
    "## <font color=\"Navy\">Python Gömülü (Standart) Kütüphaneler</font>"
   ]
  },
  {
   "cell_type": "markdown",
   "id": "0b1bf44a",
   "metadata": {},
   "source": []
  },
  {
   "cell_type": "code",
   "execution_count": null,
   "id": "2750ef79",
   "metadata": {},
   "outputs": [],
   "source": []
  },
  {
   "cell_type": "markdown",
   "id": "053fea5d",
   "metadata": {},
   "source": [
    "## <font color=\"Navy\">Operatörler (İşleçler)</font>"
   ]
  },
  {
   "cell_type": "markdown",
   "id": "4c550d0c",
   "metadata": {},
   "source": [
    "**Operatör (İşleç) :** Bilgisayarda işlemleri yürütüp gerçekleştiren (sonuçlandıran) öğelerdir. Python programlama dilinde:\n",
    "1. **Aritmetiksel (Matematiksel),**\n",
    "2. **Atama,**\n",
    "3. **Karşılaştırma (Kimlik-Üyelik),**\n",
    "4. **Mantıksal,**\n",
    "5. **Bit**<br>\n",
    "işleçleri bulunmaktadır. İşleçler sembol-simge olabileceği gibi bağşaç ve deyimlerden de oluşur."
   ]
  },
  {
   "cell_type": "markdown",
   "id": "d7e5dddd",
   "metadata": {},
   "source": [
    "<font color=\"blue\" size=3>**1. Aritmetiksel (Matematiksel) İşleçler**</font><br>\n",
    "Programlama dillerinde aritmetik işlemlerinin yapılabilmesi için kullanılan işleçlerdir."
   ]
  },
  {
   "cell_type": "markdown",
   "id": "068d37f0",
   "metadata": {},
   "source": [
    "|<font size=2> **İŞLEÇ** |<font size=2> **İŞLEVİ**  |<font size=2> **AÇIKLAMA**    |<font size=2> **ÖRNEK**  |<font size=2> **ÇIKTI**    |\n",
    "|:-:|:-:|:-|:-:|:-:|\n",
    "|<font size=2> **+** |<font size=2> **Toplama** |<font size=2> Sayısal değişkenleri (integer, float vd.) matematiksel olarak toplar, sayısal olmayanları (string, list vd.) birleşitirir.|<font size=2> 3+5<br>\"3\"+\"5\"|<font size=2>8<br>'35'|\n",
    "|<font size=2> **-** |<font size=2> **Çıkarma** |<font size=2> Sayısal değişkenleri (integer, float vd.) matematiksel olarak çıkarır, sayısal olmayanlarda (string, list vd.) **hata verir**.|<font size=2> 2023-1923|<font size=2>100|\n",
    "|<font size=2> <b> * </b> |<font size=2> **Çarpma** |<font size=2> Sayısal değişkenleri (integer, float vd.) matematiksel olarak çarpar, sayısal olmayanlarda (string, list vd.) değişkeni kere yazdırır.|<font size=2> $$10*5$$<br>$$\"C\"*3$$|<font size=2> 50<br><br>'CCC'|\n",
    "|<font size=2> <b> / <b> |<font size=2> **Bölme** |<font size=2> Sayısal değişkenleri (integer, float vd.) matematiksel olarak böler, bölme işleminin sonucu her zaman 'float' tipidir.|<font size=2> 8/4|<font size=2>2.0|\n",
    "|<font size=2> <b> // <b> |<font size=2> **Bölüm** |<font size=2> Sayısal değişkenleri (integer, float vd.) matematiksel olarak böler ve bölüm kısmını verir. İşleminin sonucu her zaman işleme sokulan veri tipidir.|<font size=2> 13//5<br> 13.5//5|<font size=2>2<br>2.0|\n",
    "|<font size=2> <b> % <b> |<font size=2> **Kalan** |<font size=2> Diğer adı mod almadır. Sayısal değişkenleri (integer, float vd.) matematiksel olarak böler ve kalan kısmını verir. İşleminin sonucu her zaman işleme sokulan veri tipidir.|<font size=2> 13%5|<font size=2>3|\n",
    "|<font size=2> <b> ** <b> |<font size=2> **Üssü** |<font size=2> Sayısal değişkenleri (integer, float vd.) matematiksel olarak kuvvetini verir. İşleminin sonucu her zaman işleme sokulan veri tipidir.|<font size=2> 5**3|<font size=2>125|"
   ]
  },
  {
   "cell_type": "markdown",
   "id": "7837feb5",
   "metadata": {},
   "source": [
    "Aritmetiksel işleçler için örnekler:"
   ]
  },
  {
   "cell_type": "code",
   "execution_count": null,
   "id": "2aac5d7d",
   "metadata": {},
   "outputs": [],
   "source": [
    "toplam = 16+5\n",
    "birlestirme = \"16\"+\"5\"\n",
    "fark = 16-5\n",
    "carpim = 16*5\n",
    "cogaltma = \"16\"*5\n",
    "bolme = 16/5\n",
    "bolum = 16//5\n",
    "kalan = 16%5\n",
    "karesi = 16**2\n",
    "\n",
    "print (\"Toplam:{}\\nBirleştirme:{}\\nFark:{}\\nÇarpım: {}\\nBölme: {}\\nBölüm: {}\\nKalan: {}\\nKaresi; {}\\nÇoğaltılmış String: {}\"\n",
    "       .format(toplam,birlestirme,fark,carpim,bolme,bolum,kalan,karesi,cogaltma))"
   ]
  },
  {
   "cell_type": "code",
   "execution_count": null,
   "id": "5b4a68bd",
   "metadata": {},
   "outputs": [],
   "source": [
    "toplam = 16+5\n",
    "birlestirme = \"16\"+\"5\"\n",
    "fark = 16-5\n",
    "carpim = 16*5\n",
    "cogaltma = \"16\"*5\n",
    "bolme = 16/5\n",
    "bolum = 16//5\n",
    "kalan = 16%5\n",
    "karesi = 16**2\n",
    "\n",
    "print (\"Toplam:{}, Birleştirme:{}, Fark:{}, Çarpım: {}, Bölme: {}, Bölüm: {}, Kalan: {}, Karesi; {}, Çoğaltılmış String: {}\"\n",
    "       .format(toplam,birlestirme,fark,carpim,bolme,bolum,kalan,karesi,cogaltma))"
   ]
  },
  {
   "cell_type": "markdown",
   "id": "7247cf28",
   "metadata": {},
   "source": [
    "<div class=\"alert alert-info\"><b>Etkinlik:</b> Dünyanın en hızlı roketi ile dünyanın ekvator çevresinde bir tam turu toplam kaç dakikada tamamlanır? Roket hızını internetten araştırınız(Pi=3.14, Dünyanın ekvatoral yarıçapı: 6378 km)</div>"
   ]
  },
  {
   "cell_type": "code",
   "execution_count": null,
   "id": "5bf73f58",
   "metadata": {},
   "outputs": [],
   "source": [
    "#Roket Etkinliğinin Çözümü\n",
    "rokethizi = 532000\n",
    "ekvator = 6378\n",
    "pi = 3.14\n",
    "\n",
    "cevre = 2*pi*ekvator\n",
    "esure = 60*cevre/rokethizi #dakikaya çevirmek için ile çarptım.\n",
    "print (\"Dünyanın ekvator hizasındaki çevresini\",esure,\"dakikada tamamlar.\")\n",
    "\n",
    "#Roket Etkinliğinin Şık Çözümü\n",
    "h,r,p = 532000,6378,3.14\n",
    "print (\"Dünyanın ekvator hizasındaki çevresini\",round(60*2*p*r/h,2),\"dakikada tamamlar.\")"
   ]
  },
  {
   "cell_type": "markdown",
   "id": "5a94c2b3",
   "metadata": {},
   "source": [
    "<div class=\"alert alert-info\"><b>Etkinlik:</b> Babanızın yaşından annenizin yaşını çıkardıktan sonra kendi yaşınızı ekleyiniz ve evde yaşayan kişi sayısıyla çarpınız. Çıkan sayıyı kendi yaşınıza bölününce kalanın karesini alınız. Sonuç kaç?</div>"
   ]
  },
  {
   "cell_type": "markdown",
   "id": "b3285aa8",
   "metadata": {},
   "source": [
    "**<font color=\"green\"> >> Aritmetiksel (Matematiksel) Bazı Fonskiyonlar:</font>**<br>\n",
    "- Bir sayı aralığında rasgele sayı üretmek için **'randint()'** fonskiyonu kullanılır. Örnek: randint(1,100)\n",
    "- Verilen bir sayı dizisinin toplamı **'sum()'** fonskiyonu ile alınır. Örnek: sum(1,3,5,7,12)\n",
    "- Bir sayı kümesindeki en büyük değeri bulmak için **'max()'** fonskiyonu kullanılır.\n",
    "- Bir sayı kümesindeki en küçük değeri bulmak için **'min()'** fonskiyonu kullanılır.\n",
    "- Bir sayının mutlak değeri (pozitif değeri) **'abs()'** fonskiyonu ile alınır.\n",
    "- Bir sayının hem bölümünü hem de kalanını aynı anda bulmak için **'divmod()'** fonskiyonu kullanılır. Örnek: divmod(10,3) yazarsak (3,1) olarak sonuç çıkar.\n",
    "- Bir sayıyı yuvarlamak için **'round()'** fonskiyonu kullanılır.\n",
    "- Bir sayının üssünü almak için **'pow()'** fonskiyonu kullanılır. Örnek: pow(5,2)\n",
    "- Bir aralıktaki sayıları ele almak için **'range()'** fonskiyonu kullanılır. Örnek: range(-10,10)\n",
    "- Bir sayının 2'li sayı sistemindeki değerini bulmak için **'bin()'** fonskiyonu kullanılır.\n",
    "- Bir sayının 8'li sayı sistemindeki değerini bulmak için **'oct()'** fonskiyonu kullanılır.\n",
    "- Bir sayının 16'lı sayı sistemindeki değerini bulmak için **'hex()'** fonskiyonu kullanılır."
   ]
  },
  {
   "cell_type": "markdown",
   "id": "7d3d6ce7",
   "metadata": {},
   "source": [
    "<font color=\"blue\" size=3>**2. Atama İşleçleri**</font><br>\n",
    "Programlama dillerinde değişkenlerinin değerlerinin belirlenmesi için kullanılan işleçlerdir."
   ]
  },
  {
   "cell_type": "markdown",
   "id": "b914c26a",
   "metadata": {},
   "source": [
    "|<font size=2> **İŞLEÇ** |<font size=2> **İŞLEVİ**  |<font size=2> **AÇIKLAMA**    |<font size=2> **ÖRNEK**  |<font size=2> **ÇIKTI**    |\n",
    "|:-:|:-:|:-|:-:|:-:|\n",
    "|<font size=2> **=** |<font size=2> **Eşitle** |<font size=2> Değişkene yazılan değeri eşitler. Sağdaki değeri soldaki değişkene atar.|<font size=2> i=2|<font size=2>2|\n",
    "|<font size=2> **+=** |<font size=2> **Toplayarak Eşitle** |<font size=2> Değişkenin **varolan değerine** eşittirin sağındaki değeri ekleyerek eşitler.|<font size=2> i+=10|<font size=2>12|\n",
    "|<font size=2> **-=** |<font size=2> **Çıkararak Eşitle** |<font size=2> Değişkenin **varolan değerinden** eşittirin sağındaki değeri çıkararak eşitler.|<font size=2> i-=5|<font size=2>7|\n",
    "|<font size=2> <b>*=</b> |<font size=2> **Çarparak Eşitle** |<font size=2> Değişkenin **varolan değerini** eşittirin sağındaki değerle çarparak eşitler.|<font size=2> i*=8|<font size=2>56|\n",
    "|<font size=2> <b>/=</b> |<font size=2> **Bölerek Eşitle** |<font size=2> Değişkenin **varolan değerini** eşittirin sağındaki değere bölerek eşitler.|<font size=2> i/=4|<font size=2>14|\n",
    "|<font size=2> <b>%=</b> |<font size=2> **Kalana (Mod'a) Eşitle** |<font size=2> Değişkenin **varolan değerini** eşittirin sağındaki değere bölerek kalana eşitler.|<font size=2> i%=8|<font size=2>6|\n",
    "|<font size=2> <b>//=</b> |<font size=2> **Bölüm'e Eşitle** |<font size=2> Değişkenin **varolan değerini** eşittirin sağındaki değere bölerek bölüme eşitler.|<font size=2> i//=3|<font size=2>2|"
   ]
  },
  {
   "cell_type": "markdown",
   "id": "13802dd2",
   "metadata": {},
   "source": [
    "Atama işleçleri için örnekler:"
   ]
  },
  {
   "cell_type": "code",
   "execution_count": null,
   "id": "f93d9321",
   "metadata": {},
   "outputs": [],
   "source": [
    "i=16\n",
    "print(i)\n",
    "i+=4\n",
    "print(i)\n",
    "i-=5\n",
    "print(i)\n",
    "i*=2\n",
    "print(i)\n",
    "i/=3\n",
    "print(i)\n",
    "i%=6\n",
    "print(i)\n",
    "i//=3\n",
    "print(i)"
   ]
  },
  {
   "cell_type": "markdown",
   "id": "d73d3295",
   "metadata": {},
   "source": [
    "<div class=\"alert alert-info\"><b>Etkinlik:</b> Üç basamaklı en büyük sayıdan iki basamaklı en büyük sayıyı çıkarınız, sonra çıkan sonucu en büyük rakama bölünüz, ardından çıkan sonucu 4 ile çarpınız, elde edilen sonucun yaşınıza bölümünden kalanını bulunuz, çıkan sonuca  5 ekleyiniz. Sonuç kaç?</div>"
   ]
  },
  {
   "cell_type": "markdown",
   "id": "9ba3bf82",
   "metadata": {},
   "source": [
    "<font color=\"blue\" size=3>**3. Karşılaştırma İşleçleri**</font><br>\n",
    "Programlama dillerinde değişkenleri&değerleri karşılaştırarak Doğru (True) veya Yanlış (False) bulma işlemidir. Karşılaştırma işleçlerinden True veya False (boolean değer) haricinde bir çıktı olmaz."
   ]
  },
  {
   "cell_type": "markdown",
   "id": "3b55012d",
   "metadata": {},
   "source": [
    "|<font size=2> **İŞLEÇ** |<font size=2> **İŞLEVİ**  |<font size=2> **AÇIKLAMA**    |<font size=2> **ÖRNEK**  |<font size=2> **ÇIKTI**    |\n",
    "|:-:|:-:|:-|:-:|:-:|\n",
    "|<font size=2> **==** |<font size=2> **Eşit mi?** |<font size=2> Eşittirlerin sağındaki ve solundaki değerleri karşılaştırır. Eşitse True, değilse False değeri verir.|<font size=2> \"TR\"==\"TR\"<br>3==5|<font size=2>True<br>False|\n",
    "|<font size=2> **!=** |<font size=2> **Farklı mı?** |<font size=2> Eşittirlerin sağındaki ve solundaki değerleri karşılaştırır. Farklıysa True, değilse False değeri verir.|<font size=2> \"TR\"!=\"TR\"<br>3!=5|<font size=2>False<br>True|\n",
    "|<font size=2> **<** |<font size=2> **Küçük mü?** |<font size=2> Eşittirlerin sağındaki ve solundaki değerleri karşılaştırır. Soldaki sağdakinden küçükse True, değilse False değeri verir. Sadece sayısal değerler için kullanılır.|<font size=2> 3<5<br>5<3|<font size=2>True<br>False|\n",
    "|<font size=2> **<=** |<font size=2> **Küçük veya Eşit mi?** |<font size=2> Eşittirlerin sağındaki ve solundaki değerleri karşılaştırır. Soldaki sağdakinden küçük veya eşitse True, değilse False değeri verir.|<font size=2> 5<=5<br>5<=3|<font size=2>True<br>False|\n",
    "|<font size=2> **>** |<font size=2> **Büyük mü?** |<font size=2> Eşittirlerin sağındaki ve solundaki değerleri karşılaştırır. Soldaki sağdakinden büyükse True, değilse False değeri verir. Sadece sayısal değerler için kullanılır.|<font size=2> 3>5<br>5>3|<font size=2>False<br>True|\n",
    "|<font size=2> **>=** |<font size=2> **Büyük veya Eşit mi?** |<font size=2> Eşittirlerin sağındaki ve solundaki değerleri karşılaştırır. Soldaki sağdakinden büyük veya eşitse True, değilse False değeri verir.|<font size=2> 5>=5<br>5>=7|<font size=2>True<br>False|"
   ]
  },
  {
   "cell_type": "markdown",
   "id": "e317bb7f",
   "metadata": {},
   "source": [
    "Karşılaştırma işleçleri için örnekler:"
   ]
  },
  {
   "cell_type": "code",
   "execution_count": null,
   "id": "b691655b",
   "metadata": {},
   "outputs": [],
   "source": [
    "sonuc = 3==5\n",
    "print(sonuc)\n",
    "sonuc = 3!=5\n",
    "print(sonuc)\n",
    "sonuc = \"TÜRKİYE\"==\"TR\"\n",
    "print(sonuc)\n",
    "sonuc = \"TÜRKİYE\"!=\"TR\"\n",
    "print(sonuc)\n",
    "print(\"------\")\n",
    "sonuc = 3<5\n",
    "print(sonuc)\n",
    "sonuc = 3>5\n",
    "print(sonuc)\n",
    "sonuc = 3<=5\n",
    "print(sonuc)\n",
    "sonuc = 3>=5\n",
    "print(sonuc)"
   ]
  },
  {
   "cell_type": "markdown",
   "id": "08d22805",
   "metadata": {},
   "source": [
    "<div class=\"alert alert-info\"><b>Etkinlik:</b> Türkiye'nin yıllık ekonomik büyüme oranı ile Dünya ekonomisinin ortalama büyümesi ile karşılaştırınız. Tüm karşılaştırma operatörleri ile deneyip ekrana yazdırınız.</div>"
   ]
  },
  {
   "cell_type": "markdown",
   "id": "c2cdb2f4",
   "metadata": {},
   "source": [
    "**<font color=\"green\"> >> Kimlik ve Üyelik Türü Karşılaştırmalar:</font>**<br>\n",
    "Değişkenlerin veya değerlerinin 'ne' olduğu veya 'ne' içerdiği ile ilgili karşılaştırmalardır."
   ]
  },
  {
   "cell_type": "markdown",
   "id": "25a2be3f",
   "metadata": {},
   "source": [
    "|<font size=2> **KARŞILAŞTIRMA** |<font size=2> **TİP**  |<font size=2> **AÇIKLAMA**    |<font size=2> **ÖRNEK**  |<font size=2> **ÇIKTI**    |\n",
    "|:-:|:-:|:-|:-:|:-:|\n",
    "|<font size=2> **is** |<font size=2> **Kimlik** |<font size=2> İki değişkenin veya nesnenin aynı olması durumunda TRUE değeri verir. Değilse False.|<font size=2> a is a|<font size=2>True|\n",
    "|<font size=2> **is not** |<font size=2> **Kimlik** |<font size=2> İki değişkenin veya nesnenin farklı olması durumunda TRUE değeri verir. Değilse False.|<font size=2> a is not a|<font size=2>False|\n",
    "|<font size=2> **in** |<font size=2> **Üyelik** |<font size=2> Solundaki değişken veya nesne, sağındaki değişkenin veya nesnenin içinde var ise TRUE değeri verir. Değilse False.|<font size=2> \"Türkiye\" in \"i\"|<font size=2>True|\n",
    "|<font size=2> **not in** |<font size=2> **Üyelik** |<font size=2> Solundaki değişken veya nesne, sağındaki değişkenin veya nesnenin içinde yok ise TRUE değeri verir. Değilse False.|<font size=2> \"Türkiye\" not in \"i\"|<font size=2>False|"
   ]
  },
  {
   "cell_type": "markdown",
   "id": "51b3673a",
   "metadata": {},
   "source": [
    "Kimlik ve üyelik türü karşılaştırmalara örnekler verelim."
   ]
  },
  {
   "cell_type": "code",
   "execution_count": null,
   "id": "04d22b9f",
   "metadata": {},
   "outputs": [],
   "source": [
    "s1 = \"İSTİKLAL HARBİ\"\n",
    "s2 = \"KURTULUŞ SAVAŞI\"\n",
    "q = \"U\"\n",
    "print(s1 is s2, s1 is not s2, s1 in q, s2 not in q)"
   ]
  },
  {
   "cell_type": "markdown",
   "id": "0a7656c4",
   "metadata": {},
   "source": [
    "<div class=\"alert alert-info\"><b>Etkinlik:</b> Kullanıcıdan aldığınız verinin her karakterini Türk alfabesi ile karşılaştırınız ve Türk alfabesinde olmayan değerleri ekrana yazdırınız.</div>"
   ]
  },
  {
   "cell_type": "markdown",
   "id": "33a61ebc",
   "metadata": {},
   "source": [
    "**<font color=\"green\"> >> String Değişken Tipine Ait Bazı Karşılaştırma Metotları:</font>**<br>"
   ]
  },
  {
   "cell_type": "markdown",
   "id": "45ae8909",
   "metadata": {},
   "source": [
    "|<font size=2> **KARŞILAŞTIRMA** |<font size=2> **TİP**  |<font size=2> **AÇIKLAMA**    |<font size=2> **ÖRNEK**  |<font size=2> **ÇIKTI**    |\n",
    "|:-:|:-:|:-|:-:|:-:|\n",
    "|<font size=2> **endswith()** |<font size=2> **string** |<font size=2> Değişken belirli bir değer ile bitiyorsa TRUE değeri verir. Değilse False.|<font size=2> \"TR\".endswith(\"R\")|<font size=2>False|\n",
    "|<font size=2> **startswith()** |<font size=2> **string** |<font size=2> Değişken belirli bir değer ile başlıyorsa TRUE değeri verir. Değilse False.|<font size=2> \"TR\".startswith(\"T\")|<font size=2>True|\n",
    "|<font size=2> **isalnum()** |<font size=2> **string** |<font size=2> Değişken tamamen harf veya rakamlardan oluşuyorsa TRUE değeri verir. Değilse False.|<font size=2> \"TR1923\".isalnum()|<font size=2>True|\n",
    "|<font size=2> **isalpha()** |<font size=2> **string** |<font size=2> Değişken tamamen harflerden oluşuyorsa TRUE değeri verir. Değilse False.|<font size=2> \"TR1923\".isalpha()|<font size=2>False|\n",
    "|<font size=2> **isnumeric()** |<font size=2> **string** |<font size=2> Değişken tamamen rakamlardan (float veya integer) oluşuyorsa TRUE değeri verir. Değilse False.|<font size=2> \"1920\".isnumeric()|<font size=2>True|\n",
    "|<font size=2> **isdecimal()** |<font size=2> **string** |<font size=2> Değişken tamamen ondalık sayılardan oluşuyorsa TRUE değeri verir. Değilse False.|<font size=2> \"19.23\".isdecimal()|<font size=2>True|\n",
    "|<font size=2> **isdigit()** |<font size=2> **string** |<font size=2> Değişken tamamen rakamlardan oluşuyorsa TRUE değeri verir. Değilse False.|<font size=2> \"1923\".isdigit()|<font size=2>True|\n",
    "|<font size=2> **islower()** |<font size=2> **string** |<font size=2> Değişkendeki tüm harfler küçükse TRUE değeri verir. Değilse False.|<font size=2> \"TR\".islower()|<font size=2>False|\n",
    "|<font size=2> **isupper()** |<font size=2> **string** |<font size=2> Değişkendeki tüm harfler büyükse TRUE değeri verir. Değilse False.|<font size=2> \"TR\".isupper()|<font size=2>True|\n",
    "|<font size=2> **istitle()** |<font size=2> **string** |<font size=2> Değişkendeki tüm harfler büyük harfle başlıyor ve diğerleri küçükse TRUE değeri verir. Değilse False.|<font size=2> \"TR\".istitle()|<font size=2>False|\n",
    "|<font size=2> **isspace()** |<font size=2> **string** |<font size=2> Değişken tamamen boşluklardan oluşuyorsa TRUE değeri verir. Değilse False.|<font size=2> \"TR\".isspace()|<font size=2>False|"
   ]
  },
  {
   "cell_type": "code",
   "execution_count": null,
   "id": "fbd47c6e",
   "metadata": {},
   "outputs": [],
   "source": [
    "print(\"TÜRKİYE\".endswith(\"E\"))\n",
    "print(\"TÜRKİYE\".startswith(\"X\"))\n",
    "print(\"TÜRKİYE1923\".isalnum())\n",
    "print(\"TÜRKİYE\".isalpha())\n",
    "print(\"1923\".isnumeric())\n",
    "print(\"19.23\".isdecimal())\n",
    "print(\"1923\".isdigit())\n",
    "print(\"TÜRKİYE\".islower())\n",
    "print(\"TÜRKİYE\".isupper())\n",
    "print(\"Türkiye\".istitle())\n",
    "print(\"      \".isspace())"
   ]
  },
  {
   "cell_type": "markdown",
   "id": "75d3c191",
   "metadata": {},
   "source": [
    "<div class=\"alert alert-info\"><b>Etkinlik:</b> Kullanıcıdan aldığınız verinin her karakterini Türk alfabesi ile karşılaştırınız ve Türk alfabesinde olmayan değerleri ekrana yazdırınız. <b>Değerleri ekrana yazdırırken harf ve nümerikleri ayrı liste olarak yazdırınız.</b></div>"
   ]
  },
  {
   "cell_type": "markdown",
   "id": "c8bc5ff7",
   "metadata": {},
   "source": [
    "<font color=\"blue\" size=3>**4. Mantıksal İşleçler**</font><br>\n",
    "Birden fazla karşılaştırma işleci kullanılacağı zaman karşılaştırmaların birlikte test edilmesini sağlayan işleçlerdir. \"VE(and) (bütün durumlar birlikte doğruysa)\", \"VEYA(or) (bütün durumlardan en az biri doğruysa)\" ve \"DEĞİL(not) (durumun tersi)\" olarak 3 tanedir. Sonuçları her zaman True veya False olur."
   ]
  },
  {
   "cell_type": "markdown",
   "id": "880926b6",
   "metadata": {},
   "source": [
    "|<font size=2> **İŞLEÇ** |<font size=2> **İŞLEVİ**  |<font size=2> **AÇIKLAMA**    |<font size=2> **ÖRNEK**  |<font size=2> **ÇIKTI**    |\n",
    "|:-:|:-:|:-|:-:|:-:|\n",
    "|<font size=2> **and** |<font size=2> **VE** |<font size=2> Koşulların birlikte doğru olmasını test eder. Hepsi doğru ise True değeri verir. Herhangi birinin yanlış olması False değerini verir. |<font size=2> \"TR\"==\"TR\" and \"TR\"!=\"TC\"|<font size=2>True|\n",
    "|<font size=2> **or** |<font size=2> **VEYA** |<font size=2> Koşulların herhangi birinin doğru olmasını test eder. Herhangi biri doğru ise True değeri verir. Hiçbiri doğru değilse False değerini verir. |<font size=2> \"TR\"==\"TR\" or \"TR\"!=\"TC\"|<font size=2>True|\n",
    "|<font size=2> **not** |<font size=2> **DEĞİL** |<font size=2> Koşulun tersini test eder. Tersi doğru ise True değeri verir. Yanlış ise False değerini verir. |<font size=2> \"TR\"==\"TR\" or \"TR\"!=\"TC\"|<font size=2>True|"
   ]
  },
  {
   "cell_type": "code",
   "execution_count": null,
   "id": "b9d59fb8",
   "metadata": {},
   "outputs": [],
   "source": [
    "i = 1923\n",
    "s = \"TR\"\n",
    "l = [\"T\",\"Ü\",\"R\",\"K\",\"İ\",\"Y\",\"E\",1923]\n",
    "print (i==1923 and s==\"TR\")\n",
    "print (i==19 and s==\"TR\")\n",
    "print (i==19 or s==\"TR\")\n",
    "print (not i==19 or not s==\"TR\")\n",
    "print (not i==1923 and not s==\"TR\")\n",
    "print (not i==1923 or not s==\"TR\")\n",
    "print (s in l and i in l)\n",
    "print (s in l or i in l)"
   ]
  },
  {
   "cell_type": "markdown",
   "id": "53c70839",
   "metadata": {},
   "source": [
    "<div class=\"alert alert-info\"><b>Etkinlik:</b> Türk alfabesi ve İngiliz alfabesi olarak iki ayrı liste oluşturunuz. Sonra kullancıdan harf verisi alınız. Kullanıcının yazdığı harfin iki alfabede de arayıp sonucu ekrana yazan algoritmayı yazınız.</div>"
   ]
  },
  {
   "cell_type": "markdown",
   "id": "4cd6ea18",
   "metadata": {},
   "source": [
    "<font color=\"blue\" size=3><b>5. Bit İşleçler: </b></font> <font color=\"red\"> Sadece integer tip için kullanılabilir!</font><br>\n",
    "Bilgisayarlar, her türlü bilgiyi bit adı verilen ikili rakamlar akışı olarak depolar. Bu bitler arasında karşılaştırmalar bitsel işleçler ile yapılır. Devre kartları gibi fiziksel cihazları kontrol etmede, sıkıştırma, şifreleme ve hata algılama gibi algoritmaları uygulamak için bitsel operatörleri kullanılır. Mantıksal işleçler gibidir.\n"
   ]
  },
  {
   "cell_type": "markdown",
   "id": "88bdfa1a",
   "metadata": {},
   "source": [
    "|<font size=2> **İŞLEÇ** |<font size=2> **İŞLEVİ**  |<font size=2> **AÇIKLAMA**    |<font size=2> **ÖRNEK**  |<font size=2> **ÇIKTI**    |\n",
    "|:-:|:-:|:-|:-:|:-:|\n",
    "|<font size=2> <b> & </b> |<font size=2> <b> and </b> |<font size=2> Karşılıklı bitleri kontrol ederek ikisi de 1 olanları açar, diğerlerini kapatır. |<font size=2> 10 & 10 <br> 10 & 5|<font size=2> 10 <br> 0 |\n",
    "|<font size=2> <b> I </b> |<font size=2> <b> or </b> |<font size=2> Karşılıklı bitleri kontrol ederek herhangi biri 1 olanları açar, diğerlerini kapatır. |<font size=2> 10 l 10 <br> 10 I 5|<font size=2> 10 <br> 15 |\n",
    "|<font size=2> <b> ^ </b> |<font size=2> <b> xor </b> |<font size=2> Karşılıklı bitleri kontrol ederek karışılıklı 0-0, 1-0 veya 0-1 olanları açar, diğerlerini kapatır. |<font size=2> 10 ^ 10 <br> 10 ^ 5|<font size=2> 0 <br> 15 |\n",
    "|<font size=2> <b> ~ </b> |<font size=2> <b> not </b> |<font size=2> Karşılıklı bitleri kontrol ederek tersine çevirir. |<font size=2> ~10 <br> ~5|<font size=2> -11 <br> -6 |"
   ]
  },
  {
   "cell_type": "code",
   "execution_count": null,
   "id": "b17f145d",
   "metadata": {},
   "outputs": [],
   "source": [
    "a = 10\n",
    "b = 5\n",
    "c=10\n",
    "print(a&b)\n",
    "print(a&c)\n",
    "print(a|b)\n",
    "print(a|c)\n",
    "print(a^b)\n",
    "print(a^c)\n",
    "print(~b)"
   ]
  },
  {
   "cell_type": "markdown",
   "id": "916b0274",
   "metadata": {},
   "source": [
    "Bitsel işleçlerin çalışma mantığı:<br>\n",
    "<img src=\"https://files.realpython.com/media/and.ef7704d02d6f.gif\">\n",
    "<img src=\"https://files.realpython.com/media/or.7f09664e2d15.gif\">\n",
    "<img src=\"https://files.realpython.com/media/xor.8c17776dd501.gif\">\n",
    "<img src=\"https://files.realpython.com/media/not.7edac5691829.gif\">"
   ]
  },
  {
   "cell_type": "markdown",
   "id": "c6aa2639",
   "metadata": {},
   "source": [
    "## <font color=\"Navy\">Karar Yapısı</font>"
   ]
  },
  {
   "cell_type": "markdown",
   "id": "866dd605",
   "metadata": {},
   "source": [
    "Tüm programlama dillerinde karar yapısı ile belirli bir koşulun gerçekleşmesi veya gerçekleşmemesi durumunda yapılacak işlemler sıralanır. Tüm dillerde temel karar yapısı \"if\" bloğudur. **\"if\" kelime olarak \"eğer\" anlamına gelmektedir. \"Eğer şart gerçekleşirse (doğruysa-True) veya gerçekleşmezse (yanlışsa-False)\" şeklinde çalışır.** Koşul yapıları boolean veri tipi ile çalışır. Şart gerçekleşmişse True, gerçekleşmemişse False değeri kabul eder ve koşula göre işlem bloğuna gider. **\"if\" kullanılan ifadenin sonuna \":\" işareti getirilmezse blok çalışmaz, program hata verir.**"
   ]
  },
  {
   "cell_type": "code",
   "execution_count": null,
   "id": "9170a552",
   "metadata": {},
   "outputs": [],
   "source": [
    "ates = 39\n",
    "if ates>37.5: print(\"Ateş Yüksek\") #ateş 39 olduğu için bu print çalışır.\n",
    "if ates<=37.5: print(\"Ateş Normal\") #ateş 39 olduğu için bu print çalışmaz."
   ]
  },
  {
   "cell_type": "markdown",
   "id": "43a56465",
   "metadata": {},
   "source": [
    "Eğer \"if\" ifadesinden sonra bir satırdan daha fazla kod yazılacaksa alt satırdan başlayarak sıralanır. Örnek:"
   ]
  },
  {
   "cell_type": "code",
   "execution_count": null,
   "id": "b5096651",
   "metadata": {},
   "outputs": [],
   "source": [
    "ates = 39\n",
    "durum = \"Düşük\"\n",
    "if ates>37.5:\n",
    "    durum=\"Yüksek\"\n",
    "    print(\"Ateşiniz: \",durum)\n",
    "if ates<=37.5:\n",
    "    durum=\"Düşük\"\n",
    "    print(\"Ateşiniz: \",durum)"
   ]
  },
  {
   "cell_type": "markdown",
   "id": "e1ab1071",
   "metadata": {},
   "source": [
    "Koşul yapısı olan if kullanılırken eğer ortada 2 ihtimal var ise tekrar if bloğu ile şart yazmaya gerek yoktur. Bunun için **else** bloğu kullanılır. **Else 'Değilse' anlamına gelir.** Örnek:"
   ]
  },
  {
   "cell_type": "code",
   "execution_count": null,
   "id": "b07c04f7",
   "metadata": {},
   "outputs": [],
   "source": [
    "ates = 39\n",
    "if ates>37.5: print(\"Ateş Yüksek\") \n",
    "else: print(\"Ateş Normal\") #else bloğu\n",
    "\n",
    "durum = \"Düşük\"\n",
    "if ates>37.5:\n",
    "    durum=\"Yüksek\"\n",
    "    print(\"Ateşiniz: \",durum)\n",
    "else:                                 #else bloğu\n",
    "    durum=\"Düşük\"\n",
    "    print(\"Ateşiniz: \",durum)"
   ]
  },
  {
   "cell_type": "markdown",
   "id": "a0c98684",
   "metadata": {},
   "source": [
    "Eğer if kullanırken ortada 2 ihtimalden daha fazla ihtimal varsa **'elif'** (eğer değilse) kullanımı ile şartlar birbirine bağlanır. 'elif' ile **bir şartın gerçekleşmediği durumda diğer şarta bakar, gerçekleştiği durumda bakmaz.** Örnek:"
   ]
  },
  {
   "cell_type": "code",
   "execution_count": null,
   "id": "5ea3bca5",
   "metadata": {},
   "outputs": [],
   "source": [
    "ates = 39\n",
    "durum = \"Düşük\"\n",
    "if ates>37.5:\n",
    "    durum=\"Yüksek\"\n",
    "    print(\"Ateşiniz: \",durum)\n",
    "elif ates<=35:                 #elif bloğu, öncesindeki şartın gerçkleşmediği durumda çalışır.\n",
    "    durum=\"Düşük\"\n",
    "    print(\"Ateşiniz: \",durum)\n",
    "else:\n",
    "    durum=\"Orta\"\n",
    "    print(\"Ateşiniz: \",durum)"
   ]
  },
  {
   "cell_type": "code",
   "execution_count": null,
   "id": "b4e80e45",
   "metadata": {},
   "outputs": [],
   "source": [
    "#Yukarıdaki örneği elif ile yapmazsak mantıksal karşılaştırma ile yapabiliriz.\n",
    "ates = 39\n",
    "durum = \"Düşük\"\n",
    "if ates>37.5:\n",
    "    durum=\"Yüksek\"\n",
    "    print(\"Ateşiniz: \",durum)\n",
    "if ates<=35:\n",
    "    durum=\"Düşük\"\n",
    "    print(\"Ateşiniz: \",durum)\n",
    "if ates>35 and ates<=37.5:      #and işleci\n",
    "    durum=\"Orta\"\n",
    "    print(\"Ateşiniz: \",durum)"
   ]
  },
  {
   "cell_type": "code",
   "execution_count": null,
   "id": "f483f880",
   "metadata": {},
   "outputs": [],
   "source": [
    "#Art arda birçok elif kullanılabilir.\n",
    "puan = 73\n",
    "if puan>=0 and puan<45: print(\"Zayıf\")\n",
    "elif puan>=0 and puan<55: print(\"Geçer\")\n",
    "elif puan>=0 and puan<70: print(\"Orta\")\n",
    "elif puan>=0 and puan<85: print(\"İyi\")\n",
    "elif puan>=0 and puan<=100: print(\"Pekiyi\") #son blokta else kullanmadık çünkü 100'den büyük not girilince \"pekiyi\" yazmaması gerekir.\n",
    "else: print(\"Lütfen 0-100 arasında not giriniz!\")"
   ]
  },
  {
   "cell_type": "markdown",
   "id": "c5279870",
   "metadata": {},
   "source": [
    "Yukarıdaki örneği elif değil if ile yaparsanız elif'in önemini anlamış olursunuz."
   ]
  },
  {
   "cell_type": "markdown",
   "id": "dc0061e9",
   "metadata": {},
   "source": [
    "<div class=\"alert alert-info\"><b>Etkinlik:</b> Gelir düzeyine göre 'düşük', 'orta' ve 'yüksek' olarak sınıflama yapan bir algoritma kodlayınız. (Gelir 9000'den az ise düşük, 9000 ile 17000 arasında ise orta, 17000'dan fazla ise yüksek olarak baz alınmalıdır.) </div>"
   ]
  },
  {
   "cell_type": "markdown",
   "id": "53af7d8e",
   "metadata": {},
   "source": [
    "İç İçe If kullanılabilir. Koşul içine koşul eklenebilir. Unutulmaması gereken bir üst düzeydeki koşulu gerçekleşmesine bağlı olarak gerçekleşir."
   ]
  },
  {
   "cell_type": "code",
   "execution_count": null,
   "id": "011de255",
   "metadata": {},
   "outputs": [],
   "source": [
    "if puan>=0 and puan<=100:\n",
    "    if puan<45: print(\"Zayıf\")\n",
    "    elif puan<55: print(\"Geçer\")\n",
    "    elif puan<70: print(\"Orta\")\n",
    "    elif puan<85: print(\"İyi\")\n",
    "    else puan<=100: print(\"Pekiyi\")\n",
    "else: print(\"Lütfen 0-100 arasında not giriniz!\")"
   ]
  },
  {
   "cell_type": "markdown",
   "id": "6ecc28eb",
   "metadata": {},
   "source": [
    "<div class=\"alert alert-info\"><b>Etkinlik:</b> Kullanıcıya belirti soruları sorarak <a href=\"https://orduism.saglik.gov.tr/Resim/317391/0/kovid-resimjpg.png\" target=\"_blank\">Covid-Nezle-Grip-Aleri Tablosuna</a> göre teşhis edip sonucu ekrana yazdırınız.</div>"
   ]
  },
  {
   "cell_type": "markdown",
   "id": "cc889cea",
   "metadata": {},
   "source": [
    "İf yapısı string, integer, float, boolean, list gibi veri tiplerinde de kullanılabilir. Örnekler:"
   ]
  },
  {
   "cell_type": "code",
   "execution_count": null,
   "id": "71d2d825",
   "metadata": {},
   "outputs": [],
   "source": [
    "sifre = input(\"Şifre Giriniz: \")\n",
    "sifreTekrar = input(\"Şifrenizi Tekrar Giriniz: \")\n",
    "if sifre == sifreTekrar: print(\"Şifre onaylandı.\")\n",
    "if sifre != sifreTekrar: print(\"Şifreleri aynı giriniz.\")"
   ]
  },
  {
   "cell_type": "code",
   "execution_count": null,
   "id": "a58befcf",
   "metadata": {},
   "outputs": [],
   "source": [
    "yas = int(input(\"Lütfen yaşınızı giriniz: \"))\n",
    "if not yas>=11: print(\"Bu oyunu oynayamazsınız.\") #eğerdeğilse kalıbını kullandık.\n",
    "else: print(\"Bu oyun için uygun yaştasınız, yönlendiriliyorsunuz...\")"
   ]
  },
  {
   "cell_type": "code",
   "execution_count": null,
   "id": "f779ff7f",
   "metadata": {},
   "outputs": [],
   "source": [
    "yas = int(input(\"Lütfen yaşınızı giriniz: \"))\n",
    "sonuc = yas>=11 #burada sonuc true veya false boolean tipi bir değer alır.\n",
    "print(sonuc)\n",
    "if sonuc: print(\"Bu oyun için uygun yaştasınız, yönlendiriliyorsunuz...\")\n",
    "else: print(\"Bu oyunu oynayamazsınız.\")"
   ]
  },
  {
   "cell_type": "code",
   "execution_count": null,
   "id": "7249101f",
   "metadata": {},
   "outputs": [],
   "source": [
    "i = int(input(\"0'dan 9'a kadar bir rakam yazınız.\"))\n",
    "liste = [0,1,2,3,4,5,6,7,8,9]\n",
    "if i in liste: print(i,\" sayısını girdiniz.\")\n",
    "else: print(\"0-9 arasında bir sayı girmediniz.\")"
   ]
  },
  {
   "cell_type": "code",
   "execution_count": null,
   "id": "e5b550d3",
   "metadata": {},
   "outputs": [],
   "source": [
    "ePosta = input(\"e-Posta Adresinizi Giriniz: \")\n",
    "if not \"@\" in list(ePosta):\n",
    "    print(\"E-posta adresinde @ işareti olmak zorundadır.\")"
   ]
  },
  {
   "cell_type": "markdown",
   "id": "41cb5889",
   "metadata": {},
   "source": [
    "<div class=\"alert alert-info\"><b>Etkinlik:</b> Kodlarda sabit olarak tanımlanan kullanıcı adı ve şifre ile girilen bilgileri karşılaştırarak ekrana \"Yanlış Kullanıcı Adı veya Şifre\" veya \"Giriş Başarılı\" bilgilerini bastıran bir algoritmanın kodunu yazınız.</div>"
   ]
  },
  {
   "cell_type": "code",
   "execution_count": null,
   "id": "36e1b149",
   "metadata": {},
   "outputs": [],
   "source": [
    "#Örnek problemin çözümü\n",
    "kuladi = \"abcd@gmail.com\"\n",
    "sifre = \"12345\"\n",
    "girilen_kuladi = input(\"Kullanıcı Adınızı Giriniz: \")\n",
    "girilen_sifre = input(\"Şifrenizi Giriniz: \")\n",
    "\n",
    "if kuladi == girilen_kuladi and sifre == girilen_sifre:\n",
    "    print (\"Giriş Başarılı\")\n",
    "else:\n",
    "    print (\"Yanlış Kullanıcı Adı veya Şifre\")\n",
    "\n",
    "#Örnek problemin farklı çözümü\n",
    "kuladi = \"abcd@gmail.com\"\n",
    "sifre = \"12345\"\n",
    "girilen_kuladi = input(\"Kullanıcı Adınızı Giriniz: \")\n",
    "\n",
    "if kuladi != girilen_kuladi:\n",
    "    print (\"Böyle bir kullanıcımız bulunmamaktadır.\")\n",
    "else:\n",
    "    girilen_sifre = input(\"Şifrenizi Giriniz: \")\n",
    "    if sifre != girilen_sifre:\n",
    "        print (\"Yanlış Şifre Girdiniz. Tekrar baştan deneyiniz.\")\n",
    "    else:\n",
    "        print (\"Giriş Başarılı.\")"
   ]
  },
  {
   "cell_type": "markdown",
   "id": "7ca2efde",
   "metadata": {},
   "source": [
    "## <font color=\"Navy\">Döngüler</font>"
   ]
  },
  {
   "cell_type": "markdown",
   "id": "93935610",
   "metadata": {},
   "source": [
    "**Döngü:** Bir program içerisinde bir işlem tekrarlayan şekilde yapılması gerektiğinde kodları tek tek yazmak yerine kullanılan yapılardır. İki tür döngü vardır. **Sayaçlı döngüler (for)**, yani kaç kere döneceği belli olan döngüler ve **koşullu döngüler (while)**, yani koşul gerçekleşene kadar (kaç kere döneceği belli değil belki 1 belki 99) tekrarlayan döngüler."
   ]
  },
  {
   "cell_type": "markdown",
   "id": "1132b961",
   "metadata": {},
   "source": [
    "<font color=\"blue\" size=3><b>1. For Döngüsü (Sayaçlı Döngü)</b></font><br>\n",
    "Kodun belirli bir sayıda tekrar etmesi gereken durumlarda kullanılan döngü türüdür. Örnekler:"
   ]
  },
  {
   "cell_type": "code",
   "execution_count": null,
   "id": "ad076685",
   "metadata": {},
   "outputs": [],
   "source": [
    "for i in range(6): print(i) #0'den 5'e kadar ekrana sayıları yazar. i varsayılan olarak 0'dır."
   ]
  },
  {
   "cell_type": "code",
   "execution_count": null,
   "id": "3a02ca75",
   "metadata": {},
   "outputs": [],
   "source": [
    "for i in range(1,10): print(i) #1'den 9'a kadar ekrana sayıları yazar."
   ]
  },
  {
   "cell_type": "code",
   "execution_count": null,
   "id": "71bca18d",
   "metadata": {},
   "outputs": [],
   "source": [
    "for i in range(-10,11): print(i) # -10'dan 10'a kadar ekrana sayıları yazar."
   ]
  },
  {
   "cell_type": "code",
   "execution_count": null,
   "id": "29b27c50",
   "metadata": {},
   "outputs": [],
   "source": [
    "for i in range(1,21,2): print(i) # 1'den 20'ya kadar olan sayıları 2'şer atlayarak yazar (1-3-5-7...)"
   ]
  },
  {
   "cell_type": "code",
   "execution_count": null,
   "id": "1d1496d2",
   "metadata": {},
   "outputs": [],
   "source": [
    "for i in range(0,21,2): print(i) # 0'dan 20'ya kadar olan sayıları 2'şer atlayarak yazar (0-2-4-6...)"
   ]
  },
  {
   "cell_type": "code",
   "execution_count": null,
   "id": "730b12f5",
   "metadata": {},
   "outputs": [],
   "source": [
    "for i in range(0,21,3): print(i) # 0'dan 20'ya kadar olan sayıları 3'er atlayarak yazar (0-2-4-6...)"
   ]
  },
  {
   "cell_type": "markdown",
   "id": "c0619fce",
   "metadata": {},
   "source": [
    "For döngüsü listedeki elemanlar içinde de döndürülebilir. Bu şekilde kullanılınca listenin eleman sayısı kadar döner ve her döngüde listenin bir elemanını ele alır."
   ]
  },
  {
   "cell_type": "code",
   "execution_count": null,
   "id": "ede3a83a",
   "metadata": {},
   "outputs": [],
   "source": [
    "gunler = [\"Pazartesi\",\"Salı\",\"Çarşamba\",\"Perşembe\",\"Cuma\",\"Cumartesi\",\"Pazar\"]\n",
    "for i in gunler: #for döngüsünde aksi belirtilmedikçe ilk olarak 0'dan başlar.Yani i=0 olur.\n",
    "    print (i)"
   ]
  },
  {
   "cell_type": "code",
   "execution_count": null,
   "id": "e0c3026b",
   "metadata": {},
   "outputs": [],
   "source": [
    "gunler = [\"Pazartesi\",\"Salı\",\"Çarşamba\",\"Perşembe\",\"Cuma\",\"Cumartesi\",\"Pazar\"]\n",
    "for i in gunler:\n",
    "    if i.startswith(\"P\"): print (i)"
   ]
  },
  {
   "cell_type": "code",
   "execution_count": null,
   "id": "0850941c",
   "metadata": {},
   "outputs": [],
   "source": [
    "ozelKarakterler = [\"!\",\"'\",\"+\",\"-\",\"*\",\"/\",\"%\",\"&\",\"(\",\")\",\"=\",\"?\",\".\",\";\",\":\"]\n",
    "guvenliParola = input(\"Güvenli Bir Parola Giriniz: \")\n",
    "for karakter in guvenliParola:\n",
    "    if not karakter in ozelKarakterler:\n",
    "        print(\"Güvenli Şifre için özel karakterler kullanılmalıdır. Örnek:\")\n",
    "        print(ozelKarakterler)\n",
    "    else: print(\"Tebrikler Güvenli Şire Oluşturuldu\")"
   ]
  },
  {
   "cell_type": "code",
   "execution_count": null,
   "id": "7977140a",
   "metadata": {},
   "outputs": [],
   "source": [
    "ciftSayilar =[]\n",
    "son = int(input(\"Kaça kadar olan çift sayılar lazım?: \"))\n",
    "for i in range(0,son,2):\n",
    "    ciftSayilar.append(i)\n",
    "print(ciftSayilar)"
   ]
  },
  {
   "cell_type": "code",
   "execution_count": null,
   "id": "652740ab",
   "metadata": {},
   "outputs": [],
   "source": [
    "#üstteki algoritmanın farklı bir çözümü\n",
    "ciftSayilar =[]\n",
    "son = int(input(\"Kaça kadar olan çift sayılar lazım?: \"))\n",
    "for i in range(son):\n",
    "    if i%2==0: ciftSayilar.append(i)\n",
    "print(ciftSayilar)"
   ]
  },
  {
   "cell_type": "markdown",
   "id": "77e70425",
   "metadata": {},
   "source": [
    "<div class=\"alert alert-info\"><b>Etkinlik:</b> Taş kağıt makas oyunu yapınız.</div>"
   ]
  },
  {
   "cell_type": "markdown",
   "id": "1dedb722",
   "metadata": {},
   "source": [
    "**Döngüyü belirli bir adımda durdurmak ve çıkmak isterseniz** 'break' deyimi (komutu) ile **durdurmak ve bir sonraki döngü adımına geçmek isterseniz** 'continue' deyimi (komutu) ile yapabilirsiniz. Bu deyimler koşul yapılarında da kullanılabilir."
   ]
  },
  {
   "cell_type": "code",
   "execution_count": null,
   "id": "b1f3c1dd",
   "metadata": {},
   "outputs": [],
   "source": [
    "#girilen sayının asal sayı olup olmadığını test edelim\n",
    "sayi = int(input(\"Asal testine sokulacak sayıyı giriniz: \"))\n",
    "for i in range(2,sayi):\n",
    "    if sayi%i==0:\n",
    "        print(\"Asal Değildir\")\n",
    "        break\n",
    "        print(\"Break çalıştı ise buradan sonrası artık çalışmaz ve döngüden tamamen çıkar dolayısıyla bu satır ekrana gelmez.\")\n",
    "    if i==sayi-1: print(\"Asaldır\")"
   ]
  },
  {
   "cell_type": "code",
   "execution_count": null,
   "id": "26010fb5",
   "metadata": {},
   "outputs": [],
   "source": [
    "#girilen sayının asal sayı olup olmadığını test edelim\n",
    "sayi = int(input(\"Asal testine sokulacak sayıyı giriniz: \"))\n",
    "for i in range(2,sayi):\n",
    "    if sayi%i!=0:\n",
    "        if i==sayi-1: print(\"Asaldır\")\n",
    "        continue\n",
    "        print(\"Contiune çalışınca buradan sonrası artık çalışmaz, bir sonraki döngüye geçer.Dolayısıyla bu satır ekrana gelmez.\")\n",
    "    else:\n",
    "        print(\"Asal Değildir.\")\n",
    "        break"
   ]
  },
  {
   "cell_type": "markdown",
   "id": "c500b150",
   "metadata": {},
   "source": [
    "<div class=\"alert alert-info\"><b>Etkinlik:</b> 0'dan 200'e kadar olan asal sayıları bulan algoritmayı kodlayınız.</div>"
   ]
  },
  {
   "cell_type": "code",
   "execution_count": null,
   "id": "e4a9d5c7",
   "metadata": {},
   "outputs": [],
   "source": [
    "#Asal sayı probleminin çözümü\n",
    "asal = \"Evet\"\n",
    "for i in range(2,201): #Range fonksiyonu ile başlangıç ve bitiş aralığını belirlenir.Son sayıyının bir eksiğine kadar tekrarlar.\n",
    "    for k in range(2,i):\n",
    "        if i%k == 0:\n",
    "            asal = \"Hayır\"\n",
    "            break\n",
    "        else: asal = \"Evet\"\n",
    "    if asal ==\"Evet\": print (i)\n",
    "        \n",
    "#Örnek problemin farklı çözümü\n",
    "asal = \"Evet\"\n",
    "asallar = []\n",
    "for i in range(2,201):\n",
    "    for k in range(2,i):\n",
    "        if i%k == 0:\n",
    "            asal = \"Hayır\"\n",
    "            break\n",
    "        else: asal = \"Evet\"\n",
    "    if asal ==\"Evet\": asallar.append (i)\n",
    "print (asallar)"
   ]
  },
  {
   "cell_type": "markdown",
   "id": "3ec5a5ca",
   "metadata": {},
   "source": [
    "<div class=\"alert alert-info\"><b>Etkinlik:</b> Ekrana for döngüsü ile '*' sembolünden 20x20 boyutunda kare çiziniz.</div>"
   ]
  },
  {
   "cell_type": "markdown",
   "id": "852ca41b",
   "metadata": {},
   "source": [
    "<div class=\"alert alert-info\"><b>Etkinlik:</b> Yıldız karakteri ve boşluk (\"* \") 1 birim kabul edilmektedir. Buna göre bu birimle 20 (en) x 10 (boy) biriminde ekrana dikdörtgen çizen algoritmayı kodlayınız.</div>"
   ]
  },
  {
   "cell_type": "code",
   "execution_count": null,
   "id": "9fdfd180",
   "metadata": {},
   "outputs": [],
   "source": [
    "#Etkinlik çözümü\n",
    "for i in range(1,11):\n",
    "    if i==1 or i==10:\n",
    "        print (\"* \"*20)\n",
    "    else:\n",
    "        print (\"*\",\" \"*35,\"*\")"
   ]
  },
  {
   "cell_type": "markdown",
   "id": "796d83ca",
   "metadata": {},
   "source": [
    "<div class=\"alert alert-info\"><b>Etkinlik:</b> Yıldız karakteri ve boşluk (\"* \") 1 birim kabul edilmektedir. Buna göre bu birimle kullanıcının girdiği en x boy biriminde ekrana dikdörtgen çizen algoritmayı kodlayınız.</div>"
   ]
  },
  {
   "cell_type": "code",
   "execution_count": null,
   "id": "ac7af3ab",
   "metadata": {},
   "outputs": [],
   "source": [
    "#Etkinlik çözümü\n",
    "en = int(input(\"En'i Giriniz: \"))\n",
    "boy = int(input(\"Boy'u Giriniz: \"))\n",
    "\n",
    "for i in range(1,boy+1):\n",
    "    if i==1 or i==boy:\n",
    "        print (\"* \"*en)\n",
    "    else:\n",
    "        print (\"*\",\" \"*(en*2-(boy//2)),\"*\")"
   ]
  },
  {
   "cell_type": "markdown",
   "id": "1587cb4e",
   "metadata": {},
   "source": [
    "<font color=\"blue\" size=3><b>2. While Döngüsü (Koşullu Döngü-'olana kadar')</b></font><br>\n",
    "Koşul **sağlandığı** sürece tekrar eden döngü türüdür. Koşulun sağlandığı her kontrolden sonra döngü içindeki işlemler bir kez yapılır. Koşulun **sağlanmadığı** durumda döngüye girilmez. Koşuldan önce 'not' getirilerek \"koşul sağlanmadığı sürece tekrar eden döngü\" mantığı ile de döngü yapılabilir.<br>\n",
    "Sağlanması imkansız bir durum yaratarak **sürekli döngü** haline getirebilirsiniz. Örnekler:"
   ]
  },
  {
   "cell_type": "code",
   "execution_count": null,
   "id": "69747c92",
   "metadata": {},
   "outputs": [],
   "source": [
    "#toplamı 1923 olan iki sayı yazılana kadar tekrar eden döngü\n",
    "i = 1923\n",
    "toplam = 0\n",
    "while toplam!=i:\n",
    "    toplam = 0\n",
    "    sayi1=int(input(\"1.Sayıyı giriniz: \"))\n",
    "    sayi2=int(input(\"2.Sayıyı giriniz: \"))\n",
    "    toplam = sayi1+sayi2\n",
    "    if toplam!=i: print (\"Girdiğiniz sayıların toplamı: \",toplam,\"\\n1923'ü bulana kadar tekrar ediniz.\")\n",
    "    else: print(\"Tebrikler!\")"
   ]
  },
  {
   "cell_type": "code",
   "execution_count": null,
   "id": "4a8b194b",
   "metadata": {},
   "outputs": [],
   "source": [
    "#toplamı 1923 olan iki sayı yazılana kadar tekrar eden döngü (FARKLI ÇÖZÜM)\n",
    "i = 1923\n",
    "toplam = 0\n",
    "while toplam!=i:\n",
    "    toplam = 0\n",
    "    for j in range(1,3):\n",
    "        toplam+=int(input(\"{}.Sayıyı giriniz: \".format(j)))\n",
    "    if toplam!=i: print (\"Girdiğiniz sayıların toplamı: \",toplam,\"\\n1923'ü bulana kadar tekrar ediniz.\")\n",
    "    else: print(\"Tebrikler!\")"
   ]
  },
  {
   "cell_type": "code",
   "execution_count": null,
   "id": "5e20a436",
   "metadata": {},
   "outputs": [],
   "source": [
    "# while döngüsünde not, break ve contiune kullanılabilir.\n",
    "eposta = \"abcd@hotmail.com\"\n",
    "sifre = \"abcd1234\"\n",
    "giris =\"Başarısız\"\n",
    "denemeSayisi = 0\n",
    "while not giris==\"Başarılı\":\n",
    "    if denemeSayisi ==3:\n",
    "        print (\"3 kere başarısız deneme yaptığınız için bağlantınız banlanmıştır.\")\n",
    "        break\n",
    "    s1 = input(\"Kullanıcı E-Posta Giriniz: \")\n",
    "    s2 = input(\"Şifre Giriniz: \")\n",
    "    denemeSayisi +=1\n",
    "    if s1!=eposta or s2!=sifre: continue\n",
    "    if s1==eposta and s2==sifre:\n",
    "        print(\"Yönlendiriliyorsunuz.\")\n",
    "        giris=\"Başarılı\""
   ]
  },
  {
   "cell_type": "markdown",
   "id": "fdb08228",
   "metadata": {},
   "source": [
    "<div class=\"alert alert-info\"><b>Etkinlik:</b> Kişinin 1 ile 100 arasında aklından tuttuğu sayıyı en hızlı bulan tahmin etme oyununu yapınız. Oyunda kullanıcıya tuttuğun sayı küçük mü, büyük mü diye sorularak sonuca gidilir.</div>"
   ]
  },
  {
   "cell_type": "code",
   "execution_count": null,
   "id": "48101fe7",
   "metadata": {},
   "outputs": [],
   "source": [
    "#Sayı bulma oyunu çözümü\n",
    "import math #sayıyı yukarı yuvarlamak için math kütüphanesinden ceil fonksiyonunu kullanacağız\n",
    "print (\"1 ile 100 arasında bir sayı aklınızdan tutunuz.\")\n",
    "cevap,sayi=\"E\",50\n",
    "cevap=input(f'1.Soru: Tuttuğun sayı {sayi} sayısından büyük mü? (E/H)').upper()\n",
    "for i in range(2,8):\n",
    "    if cevap==\"E\":\n",
    "        sayi+=int(math.ceil(50/2**(i-1)))\n",
    "        cevap=input(f'{i}.Soru: Tuttuğun sayı {sayi} sayısından büyük mü? (E/H)').upper()\n",
    "    else:\n",
    "        sayi-=int(math.ceil(50/2**(i-1)))\n",
    "        cevap=input(f'{i}.Soru: Tuttuğun sayı {sayi} sayısından büyük mü? (E/H)').upper()\n",
    "    if sayi==1 or sayi==99: break\n",
    "if cevap==\"E\": print(\"Tuttuğunuz sayi: \",sayi+1)\n",
    "else: print(\"Tuttuğunuz sayi: \",sayi)"
   ]
  },
  {
   "cell_type": "markdown",
   "id": "f4561938",
   "metadata": {},
   "source": [
    "Döngülerde ve karar yapılarında (if, for ve while) bir de **'pass' deyimi**(komutu) vardır. Bu deyim genelde taslak kodlar yazarken kullanılır. Continue deyimi(komutu) gibidir fakat contiune deyimi(komutu) döngüyü başa döndürürken pass deyimi ile satır es geçilir sonraki satırdan devam eder."
   ]
  },
  {
   "cell_type": "code",
   "execution_count": null,
   "id": "4fcd6137",
   "metadata": {},
   "outputs": [],
   "source": [
    "i=1\n",
    "while i<15\n",
    "    if i%2==0:\n",
    "        pass\n",
    "    else:\n",
    "        print(i,\" sayısı tek sayıdır.\")\n",
    "    i+=1 #i'yi kendimiz manuel olarak artırdık. While döngüsünde sayaç olmadığı için."
   ]
  },
  {
   "cell_type": "markdown",
   "id": "733c961a",
   "metadata": {},
   "source": [
    "<div class=\"alert alert-info\"><b>Etkinlik:</b> While ve for döngülerini kullanarak yıldız (' * ') sembolü ile ekrana 12 satırlık 'Kelebek Motifi' modeli çiziniz. Örnek çıktı aşağıdaki gibidir.</div>"
   ]
  },
  {
   "cell_type": "raw",
   "id": "00b319be",
   "metadata": {},
   "source": [
    "*            *\n",
    "**          **\n",
    "***        ***\n",
    "****      ****\n",
    "*****    *****\n",
    "******  ******\n",
    "*****    *****\n",
    "****      ****\n",
    "***        ***\n",
    "**          **\n",
    "*            *"
   ]
  },
  {
   "cell_type": "code",
   "execution_count": null,
   "id": "73dc4397",
   "metadata": {},
   "outputs": [],
   "source": [
    "#kelebek motifi while döngüsü\n",
    "satir=1\n",
    "sonsatir=12\n",
    "while satir<=sonsatir:\n",
    "    if satir<=int(sonsatir/2): print(\"*\"*satir,\" \"*(sonsatir-2*satir),\"*\"*satir)\n",
    "    else: print(\"*\"*(sonsatir-satir),\" \"*(satir-(int(sonsatir/2)))*2,\"*\"*(sonsatir-satir))\n",
    "    satir+=1"
   ]
  },
  {
   "cell_type": "code",
   "execution_count": null,
   "id": "4a33d7ed",
   "metadata": {},
   "outputs": [],
   "source": [
    "#kelebek motifi for döngüsü\n",
    "sonsatir=12\n",
    "for i in range(1,sonsatir+1):\n",
    "    if i<=int(sonsatir/2): print(\"*\"*i,\" \"*(sonsatir-2*i),\"*\"*i)\n",
    "    else: print(\"*\"*(sonsatir-i),\" \"*(i-int((sonsatir/2)))*2,\"*\"*(sonsatir-i))"
   ]
  },
  {
   "cell_type": "markdown",
   "id": "e7af0519",
   "metadata": {},
   "source": [
    "<div class=\"alert alert-info\"><b>Etkinlik:</b> Döngüleri kullanarak standart bir hesap makinesi yapınız.</div>"
   ]
  },
  {
   "cell_type": "markdown",
   "id": "1c9d06e2",
   "metadata": {},
   "source": [
    "<div class=\"alert alert-info\"><b>Etkinlik:</b> e-Ticaret sitesine ürün ve fiyat verisi giren bir satıcıya sistemden sorulan 'Kaç adet ürün gireceksiniz?' sorusunun ardından sırayla ürün ve fiyatı soruları gelmeye başlıyor ve satıcı bu bilgileri giriyor. Sonunda kendisine girdiği-ürün fiyat bilgileri gösterilip onaylatılıyor. Bu akışı gerçekleştiren kodları yazınız. (İpucu: Dictionary - sözlük liste tipini kullanmanız gerekir.)</div>"
   ]
  },
  {
   "cell_type": "markdown",
   "id": "db78bb56",
   "metadata": {},
   "source": [
    "<div class=\"alert alert-warning\"><b>İŞLEMLERİ KOLAYLAMAK İÇİN BAZI İPUCULAR:</b></div>"
   ]
  },
  {
   "cell_type": "code",
   "execution_count": null,
   "id": "06086d40",
   "metadata": {},
   "outputs": [],
   "source": [
    "#hızlı integer listeler oluşturmak için\n",
    "liste = [i for i in range(1,11)]  #bu örnek bir kompakt sözdizimidir.\n",
    "print(liste)"
   ]
  },
  {
   "cell_type": "code",
   "execution_count": null,
   "id": "4f062ebe",
   "metadata": {},
   "outputs": [],
   "source": [
    "#listelerden istenilen elemanları seçmek için\n",
    "liste = [\"Pazartesi\",\"Salı\",\"Çarşamba\",\"Perşembe\",\"Cuma\",\"Cumartesi\",\"Pazar\"]  #bu örnek bir kompakt sözdizimidir.\n",
    "print([eleman for eleman in liste if \"a\" in eleman])"
   ]
  },
  {
   "cell_type": "code",
   "execution_count": null,
   "id": "52b23d0e",
   "metadata": {},
   "outputs": [],
   "source": [
    "#listelerden istenilen elemanları seçmek için\n",
    "liste = [\"Pazartesi\",\"Salı\",\"Çarşamba\",\"Perşembe\",\"Cuma\",\"Cumartesi\",\"Pazar\"]  #bu örnek bir kompakt sözdizimidir.\n",
    "print([eleman for eleman in liste if eleman.endswith(\"a\")])"
   ]
  },
  {
   "cell_type": "code",
   "execution_count": null,
   "id": "75d26ebf",
   "metadata": {},
   "outputs": [],
   "source": [
    "#birden çok değişkeni aynı anda atama\n",
    "i,s,f,l = 1923,\"TÜRKİYE\",23.04,[\"A\",\"N\",\"A\",\"V\",\"A\",\"T\",\"A\",\"N\"]\n",
    "print(i,s,f,l,sep=\"\\n\")"
   ]
  },
  {
   "cell_type": "code",
   "execution_count": null,
   "id": "43e932d1",
   "metadata": {},
   "outputs": [],
   "source": [
    "#liste tipi değişkenler (list,tuple,set,dictionary) için kompakt söz dizimleri\n",
    "sayilar = [i for i in range(1,11)] #1'den 10'a kadar olan sayılardan bir liste oluşturduk.\n",
    "karesi = [j**2 for j in sayilar]  #'sayilar' listesindeki sayıların karesinden yeni bir liste oluşturduk.\n",
    "print(karesi)"
   ]
  },
  {
   "cell_type": "code",
   "execution_count": null,
   "id": "175b9b4a",
   "metadata": {},
   "outputs": [],
   "source": [
    "#enumerate() fonksiyonu ile for döngüsünü kullanarak liste tipi elemanlara sıralı sayılar atanabilir.\n",
    "plakalar = [\"İstanbul\",\"İzmir\",\"Kastamonu\"]\n",
    "for i,j in enumerate(plakalar,34):\n",
    "    print(i,j)"
   ]
  },
  {
   "cell_type": "code",
   "execution_count": null,
   "id": "c2f9b0d4",
   "metadata": {},
   "outputs": [],
   "source": [
    "#zip fonksiyonu ile liste tipi değişkenler (list,tuple,set,dictionary) birleştirilir.\n",
    "meyveler = [\"muz\",\"elma\",\"karpuz\"]\n",
    "adetler = [5,8,2]\n",
    "kilolar = [1.5, 2.1, 3.8]\n",
    "\n",
    "for meyve, adet, kilo in zip(meyveler,adetler,kilolar): #birleştirme yapılırken listelerdeki en az eleman sayısı kadar eleman birleştirilir.\n",
    "    print(f\"Meyve adı: {meyve}, Adet: {adet}, Kilo: {kilo}\")"
   ]
  },
  {
   "cell_type": "markdown",
   "id": "4505d606",
   "metadata": {},
   "source": [
    "## <font color=\"Navy\">Fonksiyonlar</font>"
   ]
  },
  {
   "cell_type": "markdown",
   "id": "470bce99",
   "metadata": {},
   "source": [
    "Programlama dilinde fonksiyonlar **belirli görevleri yaparak sonucunu döndüren** bir ifade bloğudur. Şimdiye kadar gördüğümüz print(), input(), len() vb. deyimler fonksiyondur.<br>\n",
    "Fonksiyonlar **tekrar tekrar yapılan işleri <u><b>yeniden yazmamak</b></u>, ortak görevleri bir araya getirmek veya çok özel durumları gerçekleştirmek için** kullanılır. Böylece temiz, basit, anlaşılır ve profesyonel bir kod yazabiliriz.<br>\n",
    "Fonksiyonlar girdi olarak parametreler kullanır, çıktı olarak ise bir ifade bloğu ortaya çıkarır.<br>\n",
    "**Parametre,** fonksiyonun değer üretmesi için gerekli **değer veya değişken girdileridir.**\n",
    "\n",
    "Fonksiyon Yapısı:"
   ]
  },
  {
   "cell_type": "markdown",
   "id": "cf937cab",
   "metadata": {},
   "source": [
    "<img src=\"https://media.geeksforgeeks.org/wp-content/uploads/20220721172423/51.png\"> </img>"
   ]
  },
  {
   "cell_type": "markdown",
   "id": "8ce803f8",
   "metadata": {},
   "source": [
    "Fonksiyonlar sayesinde global (kodun tamamında geçerli) değişkenler kullanmamıza gerek kalmaz. Her fonksiyon içinde yeni değişkenler (globalde kullanılmayan) oluşturabiliriz. Fonksiyon içinde oluşturduğumuz değişken isimleri global değildir ve başka bir fonksiyonda yeninden değişken isimleri kullanılabilir.<br>\n",
    "Örneğin, bir programda yüzlerce for döngüsü kullanılır. Fonksiyonları kullanmazsak her for döngüsü için farklı bir global sayaç değeri tanımlamak gerekir. for i in ..., for x in ...., for y in ....., gibi. Fakat bu kodları fonksiyon halinde yazarsak her bir fonksiyonda for i in..., for i in..., şeklinde kullanabiliriz çünkü i değerleri birbirinden etkilenmez.<br>\n",
    "Örnek Fonksiyonlar:"
   ]
  },
  {
   "cell_type": "code",
   "execution_count": null,
   "id": "39cc5916",
   "metadata": {},
   "outputs": [],
   "source": [
    "#Parametresiz fonksiyon örneği\n",
    "def merhaba():\n",
    "    print (\"Merhaba Fonksiyonlar\") #print fonsiyonunun kendi içinde return olduğu için return yazmadık.\n",
    "    \n",
    "merhaba()"
   ]
  },
  {
   "cell_type": "code",
   "execution_count": null,
   "id": "4c4ce6dd",
   "metadata": {},
   "outputs": [],
   "source": [
    "#Parametreli fonksiyon örneği\n",
    "def islem(i1, i2):\n",
    "    sonuc = (i1*i2) + (i1//i2)\n",
    "    return (sonuc)\n",
    "islem(10,2)"
   ]
  },
  {
   "cell_type": "code",
   "execution_count": null,
   "id": "25735b24",
   "metadata": {},
   "outputs": [],
   "source": [
    "#Fonksiyonlardaki değişkenler fonksiyon dışında tanınan bir değişken değildir. (Global değildir)\n",
    "def islem(i1, i2):\n",
    "    sonuc = (i1*i2) + (i1//i2)\n",
    "    return (sonuc)\n",
    "islem(10,2)\n",
    "print(i1,i2,sonuc) #bu satır hata verir. kapatmak için başına # koyunuz"
   ]
  },
  {
   "cell_type": "code",
   "execution_count": null,
   "id": "8c600040",
   "metadata": {},
   "outputs": [],
   "source": [
    "#Parametreli fonksiyonlarda girdi değişken tipini belirleme\n",
    "def asal(sayi: int): #parametre olarak değişken tipi belirleyerek girdi parametresini integer\n",
    "    durum = \"Asal\"\n",
    "    for i in range(2,sayi):\n",
    "        if sayi%i==0:\n",
    "            durum = \"Asal Değil\"\n",
    "            break\n",
    "    return (durum)\n",
    "asal(int(input(\"Bir Tam Sayı Giriniz: \")))"
   ]
  },
  {
   "cell_type": "code",
   "execution_count": null,
   "id": "1ded0f67",
   "metadata": {},
   "outputs": [],
   "source": [
    "#Parametreli fonksiyonlarda uygun olmayan girdi değişken tipi ile hata verir.\n",
    "def asal(sayi: int): #parametre olarak değişken tipi belirleyerek girdi parametresini integer olarak\n",
    "    durum = \"Asal\"\n",
    "    for i in range(2,sayi):\n",
    "        if sayi%i==0:\n",
    "            durum = \"Asal Değil\"\n",
    "            break\n",
    "    return (durum)\n",
    "asal(float(input(\"Bir Tam Sayı Giriniz: \"))) #parametre olarak uygun değişken tipi vermezsek program hata verir. (Bkz. float)"
   ]
  },
  {
   "cell_type": "code",
   "execution_count": null,
   "id": "1b73033a",
   "metadata": {},
   "outputs": [],
   "source": [
    "#Fonksiyonlarda parametreleri argümanlarla (değeri belirli olan değişken) çalıştırmak.\n",
    "def islem(sayi: int, yil=2022):#parametre olarak değişken tipi belirleyerek girdi parametresini integer olarak\n",
    "    dYili = yil-sayi\n",
    "    return (print(f'Doğum yılınız: {dYili}'))\n",
    "islem(int(input(\"Yaşınızı Giriniz: \"))) #parametre olarak uygun değişken tipi vermezsek program hata verir. (Bkz. float)"
   ]
  },
  {
   "cell_type": "code",
   "execution_count": null,
   "id": "f1c67765",
   "metadata": {},
   "outputs": [],
   "source": [
    "#Fonksiyonlarda parametreleri argümanlarla (değeri belirli olan değişken) çalıştırmak.\n",
    "def islem(sayi: int, yil=2022):#parametre olarak değişken tipi belirleyerek girdi parametresini integer olarak\n",
    "    dYili = yil-sayi\n",
    "    return (print(f'Doğum yılınız: {dYili}'))\n",
    "islem(int(input(\"Yaşınızı Giriniz: \"))) #parametre olarak uygun değişken tipi vermezsek program hata verir. (Bkz. float)"
   ]
  },
  {
   "cell_type": "markdown",
   "id": "d29a3de1",
   "metadata": {},
   "source": [
    "<div class=\"alert alert-info\"><b>Etkinlik:</b> Büyük bir çiftliğe bir dişi, bir erkek olmak üzere yeni doğmuş bir tavşan çift konur. Her tavşan çifti doğduktan bir ay sonra yetişkin hâle gelmekte ve her ay bir dişi, bir erkek olmak üzere yeni bir tavşan çifti doğurmaktadır. Tavşanların hiç ölmediği varsayıldığında çiftlikte bir yıl sonra kaç çift tavşanımız olur?<br>\n",
    "<b> Bu soru 1202 yılında yazılan 'Liber Abaci (Hesap Kitabı)' isimli kitapta yazar 'Leonardo Fibonacci' tarafından sorulmuştur. Sorunun çözümü ünlü Fibonacci Dizisidir.</b></div>"
   ]
  },
  {
   "cell_type": "markdown",
   "id": "8d4c36cc",
   "metadata": {},
   "source": [
    "<font color=\"blue\" size=2><b>Fibonacci Serisi:</b></font> Bir terimin değerinin kendinden önceki 2 terimin toplamına eşit olmasıdır. Fibonacci serisinde ilk terim 1'dir. Aşağıdaki görselde  daha iyi anlaşılır: <br>\n",
    "<img src=\"https://i.stack.imgur.com/dGsrZ.gif\"> </img>"
   ]
  },
  {
   "cell_type": "code",
   "execution_count": null,
   "id": "18747206",
   "metadata": {},
   "outputs": [],
   "source": [
    "#Tavşan Sorusu - Fibonacci Serisi Çözümü\n",
    "def fibonacci(n: int):\n",
    "    terim1,terim2=0,1\n",
    "    if n!=1:\n",
    "        for i in range(2,n+1):\n",
    "            fibDegeri=terim1+terim2\n",
    "            terim1,terim2 = terim2,fibDegeri\n",
    "    else: fibDegeri=terim1+terim2\n",
    "    return(fibDegeri)\n",
    "print(fibonacci(12)) #12.Ay'ı istediği için 12'yi girdik"
   ]
  },
  {
   "cell_type": "code",
   "execution_count": null,
   "id": "da9623f5",
   "metadata": {},
   "outputs": [],
   "source": [
    "#Fibonacci serisi\n",
    "def fibonacci(n: int):\n",
    "    terim1,terim2=0,1\n",
    "    if n!=1:\n",
    "        for i in range(2,n+1):\n",
    "            fiboDegeri=terim1+terim2\n",
    "            print(f'{i}.terim: {fiboDegeri}')\n",
    "            terim1,terim2 = terim2,fiboDegeri\n",
    "    else:\n",
    "        fiboDegeri=\"1. Terim: \",terim1+terim2,\"\"\n",
    "        return(fiboDegeri)\n",
    "fibonacci(int(input(\"Fibonacci'yi kaç terimini yazdıralım?(Giriniz): \")))"
   ]
  },
  {
   "cell_type": "code",
   "execution_count": null,
   "id": "57524948",
   "metadata": {},
   "outputs": [],
   "source": []
  }
 ],
 "metadata": {
  "kernelspec": {
   "display_name": "Python 3 (ipykernel)",
   "language": "python",
   "name": "python3"
  },
  "language_info": {
   "codemirror_mode": {
    "name": "ipython",
    "version": 3
   },
   "file_extension": ".py",
   "mimetype": "text/x-python",
   "name": "python",
   "nbconvert_exporter": "python",
   "pygments_lexer": "ipython3",
   "version": "3.10.5"
  }
 },
 "nbformat": 4,
 "nbformat_minor": 5
}
