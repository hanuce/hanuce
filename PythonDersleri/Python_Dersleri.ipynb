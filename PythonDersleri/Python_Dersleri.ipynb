{
 "cells": [
  {
   "cell_type": "markdown",
   "id": "e98f2229-fab1-4825-8a7e-0dd4405db377",
   "metadata": {},
   "source": [
    "<font color=\"MidnightBlue\" size=\"6\"><b>PYTHON DERSLERİ</b></font>\n",
    "***\n",
    "> H.N. ÇETİNKAYA - Güncelleme: 04.11.2022<br>\n",
    "***"
   ]
  },
  {
   "cell_type": "markdown",
   "id": "8edbf03d-b020-42b1-b8ac-63bd8415bd50",
   "metadata": {},
   "source": [
    "<font color=\"MidnightBlue\" size=\"6\"><b>İçindekiler</b></font>\n",
    "1. [Algoritma Nedir?](#1)     \n",
    "    1. [Algoritma Türleri](#1.1)\n",
    "1. [Programlama Dili Nedir?](#2)\n",
    "1. [Python Programlama Dili](#3)\n",
    "    1. [Söz Dizimi (Syntax)](#3.1)\n",
    "    1. [Deyim (Komut) (Statement)](#3.2)\n",
    "    1. [İşleçler (Operatörler) (Operators)](#3.3)\n",
    "    1. [Fonksiyonlar (Funcitons)](#3.4)\n",
    "    1. [Metot (Method)](#3.5)\n",
    "    1. [İfade (Expressions)](#3.6)\n",
    "1. [Print() Fonksiyonu ile İlk Kodumuzu Yazalım](#4)\n",
    "    1. [Print() Fonksiyonunun Kullanımları](#4.1)\n",
    "1. [Değişken, Değişkeni İsimlendirme, Değişkene Değer Atama](#5)\n",
    "1. [Değişken Tipleri](#6)\n",
    "    1. [String (str)](#6.1)\n",
    "        1. [Input() Fonksiyonu ile Kullanıcıdan Veri Alma](#6.1.1)\n",
    "        1. [String (str) Değişkeninin Metotları](#6.1.2)\n",
    "    1. [Integer (int)](#6.2)\n",
    "        1. [Integer (int) Değişkeninin Metotları](#6.2.1)\n",
    "    1. [Float (float)](#6.3)\n",
    "        1. [Float (float) Değişkeninin Metotları](#6.3.1)\n",
    "    1. [Boolean (bool)](#6.4)\n",
    "    1. [List (list)](#6.5)\n",
    "        1. [List (list) Değişkeninin Metotları](#6.6.1)\n",
    "    1. [Tuple (tuple)](#6.5)\n",
    "        1. [Tuple (tuple) Değişkeninin Metotları](#6.6.1)\n",
    "    1. [Set (set)](#6.7)\n",
    "        1. [Set (set) Değişkeninin Metotları](#6.7.1)\n",
    "    1. [Frozenset (frozenset)](#6.8)\n",
    "    1. [Dictionary (dict)](#6.9)\n",
    "        1. [Dictionary (dict) Değişkeninin Metotları](#6.9.1)\n",
    "1. [Operatörler (İşleçler)](#7)     \n",
    "    1. [Aritmetiksel (Matematiksel) İşleçler](#7.1)\n",
    "        1. [Aritmetiksel Bazı Gömülü Fonksiyonlar](#7.1.1)\n",
    "    1. [Atama İşleçleri](#7.2)\n",
    "    1. [Karşılaştırma İşleçleri](#7.3)\n",
    "        1. [Kimlik ve Üyelik Türü Karşılaştırmalar](#7.3.1)\n",
    "        1. [String Değişken Tipine Ait Bazı Karşılaştırma Metotları](#7.3.2)\n",
    "    1. [Mantıksal İşleçler](#7.4)\n",
    "    1. [Bit İşleçler](#7.5)\n",
    "1. [Python Modülleri (Kütüphaneler)](#8)\n",
    "    1. [Math Modülü](#8.1)\n",
    "        1. [Math Modülü ile Gelen Bazı Fonksiyonlar](#8.1.1)\n",
    "    1. [Random Modülü](#8.2)\n",
    "        1. [Random Modülü ile Gelen Bazı Fonksiyonlar](#8.2.1)\n",
    "    1. [Time ve Datetime Modülü](#8.3)\n",
    "        1. [Time ve Datetime Modülü ile Gelen Bazı Fonksiyonlar](#8.3.1)\n",
    "    1. [OS (İşletim Sistemi) Modülü](#8.4)\n",
    "        1. [OS (İşletim Sistemi) Modülü ile Gelen Bazı Fonksiyonlar](#8.4.1)\n",
    "    1. [Turtle Modülü](#8.5)\n",
    "        1. [Turtle Modülü ile Gelen Bazı Fonksiyonlar](#8.5.1)\n",
    "1. [Karar Yapısı](#9)\n",
    "    1. [IF Yapısı](#9.1)\n",
    "    1. [ELIF Yapısı](#9.2)\n",
    "    1. [ELSE Yapısı](#9.3)\n",
    "1. [Döngüler](#10)\n",
    "    1. [For Döngüsü (Sayaçlı Döngü)](#10.1)\n",
    "    1. [While Döngüsü (Koşullu Döngü)](#10.2)\n",
    "    1. [Döngülere Ait Bazı Kompakt Söz Dizimleri (Comprehensions)](#10.3)\n",
    "1. [Fonksiyonlar](#11)\n",
    "    1. [Fibonacci Serisi](#11.1)"
   ]
  },
  {
   "cell_type": "markdown",
   "id": "e1299f4d",
   "metadata": {},
   "source": [
    "# <a id=\"1\"></a><font color=\"Navy\"><b>Algoritma Nedir?</b></font>"
   ]
  },
  {
   "cell_type": "markdown",
   "id": "0a5b8e14-be11-435b-afc2-c07c57cc9cb9",
   "metadata": {},
   "source": [
    "**Algoritma,** belirli bir problemi çözmek veya belirli bir amaca ulaşmak için çözüm yolunun adım adım tasarlanmasıdır. Daha iyi anlamak için <a href=\"https://www.youtube.com/watch?v=FN2RM-CHkuI\" target=\"_blank\">Josh Darnit'in (2017) çocuklarıyla yaptığı 'Kesin Talimatlar' videosunu izleyebilirsiniz.</a> Algoritmalar doğal dil (satır kod), sözde kod veya akış şeması ile ifade edilebilirler. Örnekler aşağıda verilmiştir.<br>\n",
    "**Algoritma Yazım Örnekleri**<br><img src=\"img/algoritmalar.png\"></img><br>\n",
    "**Akış Şeması Örneği** (Torun, 2021)<br><img src=\"img/algoritma_nedir_11.png\"></img><br>\n",
    "<div class=\"alert alert-info\"><b>Etkinlik:</b> Elinde kalem olan bir kişiye, yüzü duvara dönük veya gözü kapalı olan başka bir kişi hazırladığı algoritmik komutları dikdörtgen çizmesi (yazı tahtasına veya kağıda) için verir. Etkinlik roller değiştirilerek tekrarlanır.</div>"
   ]
  },
  {
   "cell_type": "markdown",
   "id": "70d4063f-fe03-4d44-8a22-b7e1a7bace3d",
   "metadata": {},
   "source": [
    "## <a id=\"1.1\"></a><font color=\"maroon\">Algoritma Türleri</font>\n",
    "1. **Kaba Kuvvet Algoritması:** Bir problemi çözmek için en basit yaklaşımdır. Kaba kuvvet algoritması, çözümü bulmak için tüm yolları denemektir. Uzun süren bir yöntemdir.\n",
    "\n",
    "2. **Geri İzleme Algoritması:** Geri izleme algoritması temel olarak çözüme giden küçük adımlarla çözümü aramaktır. Bu algoritmada bir adım başarısız olduğunda hata olan adıma geri döneriz ve yeni bir yol oluştururuz. Problem çözülene kadar bu işleme devam ederiz.\n",
    "\n",
    "3. **Özyinelemeli Algoritma:** Özyinelemeli bir algoritma işlemleri tekrarlamayı temel alır. Bu algoritmada, bir problem onu oluşturan en küçük örüntü parçasına bölünür ve örüntüsel olarak problemi çözmesi beklenen işlemler tekrar tekrar yapılır. Küçük parçalara bölerken ana problemin çözümü ile aynı örüntüye göre bölünmesi esastır.\n",
    "\n",
    "4. **Arama Algoritmaları:** Arama algoritmaları, veri yapılarındaki (metin, sayı, grafik vb.) elemanları veya eleman gruplarını aramak için kullanılan genel yaklaşımlardır. Birçok yaklaşım vardır. Genel olarak 'bilmeden arama' ve 'bilerek arama' olarak gruplandırılırlar (Evren, 2009)\n",
    " - Doğrusal Arama\n",
    " - İkili Arama\n",
    " - Enine Arama\n",
    " - Derin Arama\n",
    " - Ve diğerleri...\n",
    "\n",
    "5. **Sıralama Algoritmaları:** Sıralama, bir grup verinin ihtiyaca göre belirli bir şekilde düzenlenmesidir. Bu işlevi yerine getirmeye yardımcı olan algoritmalara sıralama algoritmaları denir. Genel olarak sıralama algoritmaları, veri gruplarını artan veya azalan bir şekilde sıralamak için kullanılır.\n",
    " - Hızlı Sıralama\n",
    " - Ağaç Sıralama\n",
    " - İplik Sıralama\n",
    " - Cüce\n",
    " - Eklemeli\n",
    " - Birleştirmeli\n",
    " - Ve diğerleri...\n",
    "\n",
    "6. **Böl ve Fethet Algoritması:** Bu algoritma, bir problemi alt problemlere bölerken ikiye böler, sonra tekrar ikiye böler bu şekilde sorun çözülene kadar devam eder. Aşağıdaki üç adımdan oluşur; böl, çöz, birleştir\n",
    "\n",
    "7. **Açgözlü (Greedy) Algoritma:** Bu tür bir algoritmada çözüm parçaları oluşturulurken sonuca en yakın olan ve mümkün olabilen seçimler yapılır. Örneğin para üstü verirken yaklaşımımız.\n",
    "\n",
    "8. **Dinamik Programlama Algoritması:** Bu algoritma, problemin alt probleminlerinin aynı parçalarının tekrar tekrar çözülmesini önlemek için halihazırda bulunan çözümü kullanma yaklaşımıdır. Ana problemle örtüşen daha küçük alt problemlere bölünür ve her örtüşen problem ayrı olarak yeniden çözülmez, hali hazırdaki çözümü kullanır.\n",
    "\n",
    "9. **Rastgele Algoritma:** Rastgele algoritmada, sonucu çıkarmak veya sonuca karar vermek için rasgele sayılar kullanarak fayda sağlama yaklaşımıdır. Örneğin matematikte değer vererek sonucu bulma\n",
    "\n",
    "10. **Karma İşlemi (Karım) (Hashing) Algoritması:** Karma işlemi algoritmaları, arama algoritmasına benzer şekilde çalışır. Veriler anahtar kimlikler (ID) ile işaretlenmiştir ve algoritma anahtar kimlikleri (ID) içeren bir dizine sahiptir. Arama yapılan verilerde anahtar kimliklere (ID) arama yapılır.\n",
    "\n",
    "11. Ayrıca bakınız:\n",
    "- Şifreleme Algoritmaları<br>\n",
    "- Veri Sıkıştırma Algoritmaları<br>\n",
    "- Ve diğerleri.."
   ]
  },
  {
   "cell_type": "markdown",
   "id": "17734022",
   "metadata": {},
   "source": [
    "<div class=\"alert alert-info\"><b>Etkinlik:</b> T.C. Kimlik numaranızı <a href=\"https://upload.wikimedia.org/wikipedia/commons/thumb/3/3f/Azer.gif/300px-Azer.gif\" target=\"_blank\">Sezar Şifreleme</a> ile şifreledikten sonra 16'lık sayı sistemi ile saklayınız. Kalem-Kağıt etkinliğidir.<br><br>\n",
    "<b>Araştırma Ödevi:</b> Google'ın \"Bunu mu demek istediniz?\" öneri algoritması hangi tür algoritmalarla çalışıyor?<br>\n",
    "<b>Araştırma Ödevi:</b> Netflix Prize nedir, araştırınız?</div></div>"
   ]
  },
  {
   "cell_type": "markdown",
   "id": "51106353",
   "metadata": {},
   "source": [
    "# <a id=\"2\"></a><font color=\"Navy\"><b>Proglamlama Dili Nedir?</b></font>"
   ]
  },
  {
   "cell_type": "markdown",
   "id": "f24e4965",
   "metadata": {},
   "source": [
    "**Programlama Dili,** bir **algoritmayı** ifade etmek amacıyla, bilgisayara ne yapmasını istediğini anlattığımız (kodladığımız) yoldur. Programlama dilleri ile yazdığımız kodlar makine koduna (binary (yani 0 ve 1)) çevrilir ve kodladığımız algoritma bilgisayar tarafından çalıştırılır. Her dilin kendine ait bir sözdizimi (öğeleri) vardır. Programlama dilleri, makine koduna çevrilmesi yönünden ikiye ayrılır: <br><br>\n",
    "**1. Derlenen (Compiler) Diller:** Yazımı(syntax) makine diline yakın olan dillerdir. Dilin yazım şekli makine diline yakın olduğu için yazılmış kodun bütünü hızlıca makine koduna (binary) çevrilir. C, C++, Fortran, R dilleri derlenen dillere örnektir.<br>\n",
    "**2. Yorumlanan (Interpreter) Diller:** Yazımı(syntax) makine diline yakın olmayan ama yazımı kolay olan böylelikle daha karmaşık ve zor programlamaları kolayca yapabilmemize imkan sağlayan dillerdir. Bu diller önce yorumlama dediğimiz işlemle kısım kısım (satır satır) kodları makine dilinde dener, hata bulursa derlemeyi durdurur, hata yoksa kodların tamamı makine koduna (binary) çevrilmiş olur. Python, Ruby, Java, C# bu dillere örnektir.<br><br>\n",
    "<div class=\"alert alert-warning\"> <b>Tarihte kabul edilen ilk programlamanın 1883 yılında Ada LOVELACE tarafından sayısal olarak yazıldığını biliyor muydunuz?</b></div>"
   ]
  },
  {
   "cell_type": "markdown",
   "id": "0a578137",
   "metadata": {},
   "source": [
    "# <a id=\"3\"></a><font color=\"Navy\"><b>Python Programlama Dili</b></font>"
   ]
  },
  {
   "cell_type": "markdown",
   "id": "c49b9966",
   "metadata": {},
   "source": [
    "Python 1991 yılında Guido Van Rossum tarafından geliştirilen bir yüksek seviyeli programlama dilidir.<br>Python, diğer programlama dillerine göre daha kolay bir sözdizim (syntax: yazım kuralı) yapısına sahiptir. Bu sebeple python yıllar içinde popüler hale gelmiştir.<br>\n",
    "Programlama dillerinin kullanımına göre yaygınlık sıralamasını <a href=\"https://www.tiobe.com/tiobe-index/\" target=\"_blank\">TIOBE (Programalama Topluluğu Dizini) sitesinden</a> öğrenebilirsiniz.\n",
    "Hemen hemen tüm programlama dilleri sözdizimi, komut, değişken, operatör, fonksiyon, metot ve ifade konseptinden oluşur."
   ]
  },
  {
   "cell_type": "markdown",
   "id": "2e72c3dc",
   "metadata": {},
   "source": [
    "## <a id=\"3.1\"></a><font color=\"maroon\">Söz Dizimi (Syntax)</font>\n",
    "Programlama dillerinin <b>yazım kurallarına sözdizimi (syntax)</b> denir. Dile ait tüm öğeler (komutlar, parantezler, tırnak işareti vb. tüm noktalama işaretleri, işleçler, ...) yazım kuralları içerisinde yazılmak zorundadır. Uygun yazılmaz ise programdan hata alınır.<br>\n",
    "## <a id=\"3.2\"></a><font color=\"maroon\">Deyim (Komut) (Statement)</font>\n",
    "Programlama dilinde **anahtar sözcüklerle (if ..., for ..., while ..., def, is, ,in vb.) oluşturulan anlamlı öbeklere deyim (komut)** denir. Genelde her satır kod bir anlamlı öbektir yani sözdizimsel deyimdir.<br>\n",
    "## <a id=\"3.3\"></a><font color=\"maroon\">Değişken (Variable)</font>\n",
    "Programlama dilinde **verileri bellekte tutmak için kullanılan hafıza birimleridir.** Değişkenler sayı, metin, karakterler, listeler vb. gibi değerleri içerebilir. İçerdiği veri tipi nedeniyle değişken tipleri de mevcuttur.<br>\n",
    "## <a id=\"3.4\"></a><font color=\"maroon\">Operatörler (İşleçler) (Operators)</font>\n",
    "Değerler veya değişkenler üzerinde **işlem yapıp sonuçlandıran öğelere operatörler(işleçler)** denir. Örneğin; toplama, çıkarma vb. sayısal işlemler ve \"aynı mı?\", \"aynı değil mi?\" gibi işlemler.<br>\n",
    "## <a id=\"3.5\"></a><font color=\"maroon\">Fonksiyonlar (Functions)</font>\n",
    "Ana programa **belirli bir değer(ler) dönderen veya görevleri gerçekleştiren deyimler (komutlar) bütününe fonksiyon** denir. Örneğin print() bir fonksiyondur, print(3+5) yazarsak bize 8 değerini döndürür ve ekrana yazar.<br>\n",
    "## <a id=\"3.6\"></a><font color=\"maroon\">Metot (Method)</font>\n",
    "Programlama diline ait **öğeler (değişken, deyim vb.) ile bağımlı olan alt fonksiyonlara metot** denir.<br>\n",
    "## <a id=\"3.7\"></a><font color=\"maroon\">İfade (Expressions)</font>\n",
    "Değeri hesaplanabilen (değerlendirilebilen) sözdizimsel deyimlere (komutlara) **ifade** denir. 3+5 gibi basit bir deyim de ifade olabilirken birden çok fonksiyon ve deyim içeren ifadeler de olabilir.<br>\n",
    "Programlama dillerine göre örnek syntax'lar aşağıda verilmiştir."
   ]
  },
  {
   "cell_type": "code",
   "execution_count": null,
   "id": "bc2bc7aa-71ae-4275-bd5c-1a48e4aebe45",
   "metadata": {},
   "outputs": [],
   "source": [
    "# Java Syntax Örneği\n",
    "public class Main {\n",
    "  public static void main(String[] args) {\n",
    "    System.out.println(\"Merhaba Dünya\");\n",
    "  }\n",
    "}"
   ]
  },
  {
   "cell_type": "code",
   "execution_count": null,
   "id": "898d1994-5dd7-4ca3-aecd-c8c1a3370303",
   "metadata": {},
   "outputs": [],
   "source": [
    "# C# Syntax Örneği\n",
    "using System;\n",
    "namespace MerhabaDunya\n",
    "{\n",
    "  class Program\n",
    "  {\n",
    "    static void Main(string[] args)\n",
    "    {\n",
    "      Console.WriteLine(\"Merhaba Dünya\");    \n",
    "    }\n",
    "  }\n",
    "}"
   ]
  },
  {
   "cell_type": "code",
   "execution_count": null,
   "id": "a507c7df-d2cb-4bd4-9ccd-fb5240460681",
   "metadata": {},
   "outputs": [],
   "source": [
    "# Python Syntax Örneği\n",
    "print(\"Merhaba Dünya!\")"
   ]
  },
  {
   "cell_type": "markdown",
   "id": "2103bbc8-5887-4537-8267-853f41c7d35f",
   "metadata": {},
   "source": [
    "# <a id=\"4\"></a><font color=\"navy\"><b>Print() Fonksiyonu ile İlk Kodumuzu Yazalım</b></font>\n",
    "***print()*** fonksiyonu ekrana yazdırma(bastırma) işlevidir. Parantez arasına yazılanlar ekrana çıktı olarak verilir."
   ]
  },
  {
   "cell_type": "code",
   "execution_count": null,
   "id": "97146a76",
   "metadata": {},
   "outputs": [],
   "source": [
    "print (\"Merhaba Dünya\")"
   ]
  },
  {
   "cell_type": "markdown",
   "id": "b8b94ed9",
   "metadata": {},
   "source": [
    "<div class=\"alert alert-info\"><b>Etkinlik:</b> print() fonksiyonu ile ekrana \"Merhaba Dünya\" yazınız.</div>"
   ]
  },
  {
   "cell_type": "markdown",
   "id": "baf2c7d2-5d40-4339-8bf1-a63ded4a5133",
   "metadata": {},
   "source": [
    "## <a id=\"4.1\"></a><font color=\"maroon\">Print() Fonksiyonunun Kullanımları</font>"
   ]
  },
  {
   "cell_type": "markdown",
   "id": "def98cf9",
   "metadata": {},
   "source": [
    "Eğer print ile yazacağınız metinde zaten çift tırnak (\") kullanmanız gerekiyorsa tek tırnak işaretiyle de print komutunu kullanabilirsiniz."
   ]
  },
  {
   "cell_type": "code",
   "execution_count": null,
   "id": "9c952325",
   "metadata": {},
   "outputs": [],
   "source": [
    "print ('Bastığın yerleri \"toprak!\" diyerek geçme, tanı!')"
   ]
  },
  {
   "cell_type": "markdown",
   "id": "ed20c107",
   "metadata": {},
   "source": [
    "Çok satırlı bir çıktınız varsa üç tırnak işareti ile yapabilirsiniz."
   ]
  },
  {
   "cell_type": "code",
   "execution_count": null,
   "id": "f17a58e5",
   "metadata": {},
   "outputs": [],
   "source": [
    "print(\"\"\"\n",
    "Dalgalan sen de şafaklar gibi ey şanlı hilâl;\n",
    "Olsun artık dökülen kanlarımın hepsi helâl.\n",
    "Ebediyen sana yok, ırkıma yok izmihlâl:\n",
    "Hakkıdır, hür yaşamış bayrağımın hürriyet;\n",
    "Hakkıdır, Hakk’a tapan milletimin istiklâl!\n",
    "\"\"\")"
   ]
  },
  {
   "cell_type": "markdown",
   "id": "41b734de",
   "metadata": {},
   "source": [
    "Sayıları tırnaksız yazabilir,aynı satır içinde virgülle ayrılmış şekilde çift tırnaklar kullanabilirsiniz."
   ]
  },
  {
   "cell_type": "code",
   "execution_count": null,
   "id": "753b5cfd",
   "metadata": {},
   "outputs": [],
   "source": [
    "print(\"Türkiye Cumhuriyeti\",23,\"Nisan\",\"1923\",\"yılında kurulmuştur.\")"
   ]
  },
  {
   "cell_type": "markdown",
   "id": "cb772c47",
   "metadata": {},
   "source": [
    "Virgülle ayrılmış yazımlarda \"sep\" parametresi ile aralara ayıraç (seperator) tanımlayabilirsiniz."
   ]
  },
  {
   "cell_type": "code",
   "execution_count": null,
   "id": "dc06fc63",
   "metadata": {},
   "outputs": [],
   "source": [
    "print(\"www\",\"meb\",\"gov\",\"tr\",sep=\".\")"
   ]
  },
  {
   "cell_type": "markdown",
   "id": "56b44e6a",
   "metadata": {},
   "source": [
    "<div class=\"alert alert-info\"><b>Etkinlik:</b> TBMM kelimesindeki her haften sonra sep metodu ile nokta koyunuz.</div>"
   ]
  },
  {
   "cell_type": "markdown",
   "id": "24e1e44a",
   "metadata": {},
   "source": [
    "Alt alta yazmak için üç tane çift tırnak kullanmak istemezseniz \"\\n\" ile alt satıra geçme kaçış dizisini kullanabilirsiniz."
   ]
  },
  {
   "cell_type": "code",
   "execution_count": null,
   "id": "a4f4de64",
   "metadata": {},
   "outputs": [],
   "source": [
    "print(\"Korkma, sönmez bu şafaklarda yüzen al sancak;\",\"Sönmeden yurdumun üstünde tüten en son ocak\",sep=\"\\n\")"
   ]
  },
  {
   "cell_type": "code",
   "execution_count": null,
   "id": "e78a1c63",
   "metadata": {},
   "outputs": [],
   "source": [
    "print(\"Birinci Satır\",\"İkinci Satır\",\"Üçüncü Satır\",sep=\"\\n\")"
   ]
  },
  {
   "cell_type": "markdown",
   "id": "cef5c2be",
   "metadata": {},
   "source": [
    "<div class=\"alert alert-info\"><b>Etkinlik:</b> Aile bireylerinizin adını ekrana alt alta bastıran kodu yazınız.</div>"
   ]
  },
  {
   "cell_type": "markdown",
   "id": "7e63578c",
   "metadata": {},
   "source": [
    "Print ile yazılan satırın sadece sonunda gerçekleşmesini istediklerimizi şöyle tanımlayabiliriz."
   ]
  },
  {
   "cell_type": "code",
   "execution_count": null,
   "id": "4a08f5ce",
   "metadata": {},
   "outputs": [],
   "source": [
    "print(\"Ben ezelden\",\"beridir hür yaşadım,\",\"hür yaşarım.\",end='\\n')\n",
    "print (\"Hangi çılgın\",\"bana zincir vuracakmış?\",\"Şaşarım!\",end='')\n",
    "print (\"Kükremiş sel gibiyim; bendimi çiğner, aşarım;\")"
   ]
  },
  {
   "cell_type": "markdown",
   "id": "2f83c7cb",
   "metadata": {},
   "source": [
    "Tırnak içinde yazılan metnin her karakteriyle birbirinden ayrıymış gibi işlem yaptırmak için * işlecini kullanabiliriz."
   ]
  },
  {
   "cell_type": "code",
   "execution_count": null,
   "id": "9124ec37",
   "metadata": {},
   "outputs": [],
   "source": [
    "print(*\"TBMM\",sep=\".\")\n",
    "print(*\"TÜRKİYE\",sep=\"\\n\")"
   ]
  },
  {
   "cell_type": "markdown",
   "id": "743f07d5",
   "metadata": {},
   "source": [
    "Dinamik metinler için kıvırcıklı parantezler ile format metodunu kullanabiliriz."
   ]
  },
  {
   "cell_type": "code",
   "execution_count": null,
   "id": "d5cd6814",
   "metadata": {},
   "outputs": [],
   "source": [
    "print(\"{} programlama dili {} türden bir dilidir ve {} yılında kullanıma sunulmuştur.\".format(\"Python\",\"yorumlanan\",1994))"
   ]
  },
  {
   "cell_type": "markdown",
   "id": "37b9bca6-888f-49f3-bbeb-d4362b30ee8b",
   "metadata": {},
   "source": [
    "Dinamik metinler için format metodundan daha kullanışlı olan 'f string' yöntemi değişkenler konusu ile anlatılacaktır.<br>\n",
    "Python programlama dilindeki öğelerin sahip olduğu tüm metotları görmek için \"dir(öğe)\" fonksiyonunu çalıştırabilirsiniz."
   ]
  },
  {
   "cell_type": "code",
   "execution_count": null,
   "id": "b7bce0fe",
   "metadata": {},
   "outputs": [],
   "source": [
    "print(*dir(print),sep=\"\\n\")"
   ]
  },
  {
   "cell_type": "markdown",
   "id": "8b6f3063",
   "metadata": {},
   "source": [
    "<div class=\"alert alert-info\"><b>Etkinlik:</b> print() fonksiyonu ile * sembolünü kullanarak ekrana 10 satırlık bir <b>dikdörtgen</b> çiziniz.<br>\n",
    "<b>Etkinlik:</b> print() fonksiyonu ile * sembolünü kullanarak ekrana 10 satırlık bir <b>üçgen</b> çiziniz.</div>"
   ]
  },
  {
   "cell_type": "markdown",
   "id": "63dfd2d2",
   "metadata": {},
   "source": [
    "# <a id=\"5\"></a><font color=\"Navy\"><b>Değişken, Değişkeni İsimlendirme, Değişkene Değer Atama</b></font>"
   ]
  },
  {
   "cell_type": "markdown",
   "id": "876def4d",
   "metadata": {},
   "source": [
    "**Değişken (variable),** bir programda verilerin veya bilgilerin saklandığı hafıza birimleridir. <br>\n",
    "**Değişkene isim verirken**, programlama diline ait öğeler kullanılamaz. Örneğin \"print\" adında bir değişkeniniz olamaz.<br>\n",
    "Yasaklı diğer öğeleri de listelemek için pythonda şu kodu yazabiliriz."
   ]
  },
  {
   "cell_type": "code",
   "execution_count": null,
   "id": "d14ec5a1",
   "metadata": {},
   "outputs": [],
   "source": [
    "import keyword\n",
    "print(keyword.kwlist)"
   ]
  },
  {
   "cell_type": "markdown",
   "id": "2a273f24",
   "metadata": {},
   "source": [
    "Ayrıca değişken isimleri **rakamla başlayamaz, Türkçe karakterler (ÜĞİŞÇÖ, üğışçö) genelde kullanılamaz, tüm özel karakterler (alt tire _ hariç) de kullanılamaz.** Python Türkçe karakterleri kullandırır, bu konuda nadir dillerden biridir. Bir diğer özelliği de büyük-küçük harf duyarlı olmasıdır. Yani 'ad' değişkeni ile 'AD' değişkeni birbirinden farklı değişkenler olarak kullanılabilir.<br>\n",
    "**Değişkene değer atama** \"=\" oepratörü (işleci) ile yapılır sağdaki veriyi soldaki değişkene atar (tanımlar)."
   ]
  },
  {
   "cell_type": "code",
   "execution_count": null,
   "id": "5ea56057",
   "metadata": {},
   "outputs": [],
   "source": [
    "#Doğru değişken isimlendirmeleri\n",
    "degisken1 = \"Hakkıdır\"\n",
    "degisken_1 = \"Hür Yaşamış\"\n",
    "DEGISKEN = \"Bayrağımın\"\n",
    "_degisken = \"Hürriyet!\"\n",
    "\n",
    "print(degisken1,degisken_1,DEGISKEN,_degisken)"
   ]
  },
  {
   "cell_type": "code",
   "execution_count": null,
   "id": "1ad69e33",
   "metadata": {},
   "outputs": [],
   "source": [
    "#Yanlış değişken isimlendirmeleri\n",
    "1degisken = \"Yanlış\"\n",
    "degisken-1 = \"Değişken\"\n",
    "D E.GI/S*KEN = \"İsimlendirmesi\""
   ]
  },
  {
   "cell_type": "markdown",
   "id": "985931df",
   "metadata": {},
   "source": [
    "<div class=\"alert alert-info\"><b>Etkinlik:</b> Doğru bir değişken adı ile TC Kimlik numaranızı,  Adınızı ve e-posta adresinizi bir değişkene atayınız ve ekrana bastırınız.</div>"
   ]
  },
  {
   "cell_type": "markdown",
   "id": "c25f3ff1",
   "metadata": {},
   "source": [
    "Değişkenleri isimlendirirken sonrasında **kolay hatırlayacağımız, basit, anlaşılır ve mantığa uygun** isimler vermek önemlidir. Bu sebeple değişken isimlendirme standartları (teamülleri) vardır. Bunlar:"
   ]
  },
  {
   "cell_type": "code",
   "execution_count": null,
   "id": "5cbaf413",
   "metadata": {},
   "outputs": [],
   "source": [
    "#1.Pascal Standartı: Değişkenin her kelimesini büyük harfle yazmak.\n",
    "MeclisKurulusYili = \"1920\"\n",
    "print(MeclisKurulusYili)\n",
    "\n",
    "#2.Deve Standartı: Değişkenin ilk harfini küçük diğer kelimelerin ilk harfini büyük yazmak.\n",
    "meclisKurulusYili = 1920\n",
    "print(meclisKurulusYili)\n",
    "\n",
    "#3.Yılan Standartı: Değişkenin her kelimesinin arasına alt tire (_) koymak.\n",
    "meclis_kurulus_yili = '1920' #veya\n",
    "iMeclis_Kurulus_Yili = 1920 #veya\n",
    "MECLIS_KURULUS_YILI = \"1920\"\n",
    "print(meclis_kurulus_yili,Meclis_Kurulus_Yili,MECLIS_KURULUS_YILI)"
   ]
  },
  {
   "cell_type": "markdown",
   "id": "1b2f0a1d",
   "metadata": {},
   "source": [
    "# <a id=\"6\"></a><font color=\"Navy\"><b>Değişken Tipleri</b></font>"
   ]
  },
  {
   "cell_type": "markdown",
   "id": "dfe0cec6-05e5-42d8-b135-c10351efc47b",
   "metadata": {},
   "source": [
    "## <a id=\"6.1\"></a><font color=\"maroon\">String (str)</font> "
   ]
  },
  {
   "cell_type": "markdown",
   "id": "73f12c3c",
   "metadata": {},
   "source": [
    "Karakter dizisi, metin, dize demektir. Çift tırnak (\" \") veya tek tırnak (' ') arasında yazılan herşey string olur."
   ]
  },
  {
   "cell_type": "code",
   "execution_count": null,
   "id": "353dd363",
   "metadata": {},
   "outputs": [],
   "source": [
    "#Örnek string tipinde değişkenler\n",
    "karakterDizisi1 = \"M.Ö. 209 yılında Mete Han tarafından kurulan Türk Ordusu 'Kurtuluş Savaşı'ndan beri hep muzafferdir.\"\n",
    "karakterDizisi2 = 'Kurtuluş Savaşı \"1919-1923\" yılları arasında gerçekleşmiştir.'\n",
    "print(karakterDizisi1,karakterDizisi2)"
   ]
  },
  {
   "cell_type": "markdown",
   "id": "ae7ddf56",
   "metadata": {},
   "source": [
    "Tipini bilmediğimiz değişken tipini öğrenmek-almak için kullanılan 'type' fonksiyonunu kullanarak tipini görüntüleyelim."
   ]
  },
  {
   "cell_type": "code",
   "execution_count": null,
   "id": "7f9e258f",
   "metadata": {},
   "outputs": [],
   "source": [
    "dTipi1 = \"TÜRKİYE\"\n",
    "dTipi2 = '1923'\n",
    "print(type(dTipi1))\n",
    "print(type(dTipi2))"
   ]
  },
  {
   "cell_type": "markdown",
   "id": "c8db5d13",
   "metadata": {},
   "source": [
    "Karakter dizisi (string) olmayan bir değişkeni stringe dönüştürmek için 'str' fonksiyonu kullanılır."
   ]
  },
  {
   "cell_type": "code",
   "execution_count": null,
   "id": "6321826b",
   "metadata": {},
   "outputs": [],
   "source": [
    "degisken = 1923 #Tırnak arasına yazılmadığı için string değildir.\n",
    "print(type(degisken),type(str(degisken)),sep=\"\\n\")"
   ]
  },
  {
   "cell_type": "markdown",
   "id": "a6479c23",
   "metadata": {},
   "source": [
    "Karakter dizilerinin (string) uzunluğunu 'len' fonksiyonu ile öğrenebiliriz."
   ]
  },
  {
   "cell_type": "code",
   "execution_count": null,
   "id": "ffebb86d",
   "metadata": {},
   "outputs": [],
   "source": [
    "misra = \"\"\"\n",
    "Arkadaş! Yurduma alçakları uğratma sakın;\n",
    "Siper et gövdeni, dursun bu hayâsızca akın.\n",
    "Doğacaktır sana va’dettiği günler Hakk’ın...\n",
    "Kim bilir, belki yarın... belki yarından da yakın.\n",
    "\"\"\"\n",
    "print(len(misra))"
   ]
  },
  {
   "cell_type": "markdown",
   "id": "48943e38",
   "metadata": {},
   "source": [
    "<div class=\"alert alert-info\"><b>Etkinlik:</b> Adınızın karakter uzunluğunu len fonksiyonu ile bulunuz.</div>"
   ]
  },
  {
   "cell_type": "markdown",
   "id": "7f0e6ad6",
   "metadata": {},
   "source": [
    "Çok sık kullanılan bir yöntem olan **print(f' ') yöntemi** stringler ile kullanılabilir. Örnek:"
   ]
  },
  {
   "cell_type": "code",
   "execution_count": null,
   "id": "519e54d2",
   "metadata": {},
   "outputs": [],
   "source": [
    "isim=\"TÜRKİYE\"\n",
    "dogumYili=1923\n",
    "dogumYeri=\"Ankara\"\n",
    "print(f'{isim} Cumhuriyeti {dogumYili} yılında {dogumYeri} şehrinde kurulmuştur.')"
   ]
  },
  {
   "cell_type": "markdown",
   "id": "0db9ef5c",
   "metadata": {},
   "source": [
    "### <a id=\"6.1.1\"></a><font color=\"DarkMagenta\">Input() Fonksiyonu ile Kullanıcıdan Veri Alma</font>"
   ]
  },
  {
   "cell_type": "markdown",
   "id": "727b7ffd-7741-473c-8cf2-73632256f408",
   "metadata": {},
   "source": [
    "***input()*** fonksiyonu kullanıcıdan veri almamızı sağlar. Kullanıcının verisini girmesini bekler, veri girildikten sonra enter(giriş) tuşuna basınca girilen veriyi hafızaya alır. İnput ile alınan veri bir değişkene atanırsa, girilen değer değişkene atanır.<br>\n",
    "**Input fonksiyonu ile kullanıcıdan alınan her veri <u>string</u> veri türündedir.**"
   ]
  },
  {
   "cell_type": "code",
   "execution_count": null,
   "id": "8a82ce70",
   "metadata": {},
   "outputs": [],
   "source": [
    "girilenVeri = input(\"Lütfen Yaşınızı Giriniz: \")\n",
    "print(\"{} yaşındasınız.\".format(girilenVeri))"
   ]
  },
  {
   "cell_type": "markdown",
   "id": "5ea38871",
   "metadata": {},
   "source": [
    "<div class=\"alert alert-info\"><b>Etkinlik:</b> Kullanıcıdan aldığınız isim, yaş, meslek bilgilerini .format() metodu ile ekrana tek satırda yazınız.</div>"
   ]
  },
  {
   "cell_type": "markdown",
   "id": "21d87697",
   "metadata": {},
   "source": [
    "### <a id=\"6.1.2\"></a><font color=\"DarkMagenta\">String (str) Değişkeninin Metotları:</font>"
   ]
  },
  {
   "cell_type": "markdown",
   "id": "3c886547-0062-4955-8982-d0faff9a3cc8",
   "metadata": {},
   "source": [
    "Karakter dizisini (stringi) tamamen büyük harf, küçük harf, sadece ilk harfi büyük, sadece kelimelerin ilk harfi büyük veya tersine(büyüğü küçük-küçüğü büyük) olacak şekilde değiştirebiliriz."
   ]
  },
  {
   "cell_type": "code",
   "execution_count": null,
   "id": "a0593c6c",
   "metadata": {},
   "outputs": [],
   "source": [
    "metin = \"PytHON pRoGrAmLaMa dİLİ\"\n",
    "print(metin.upper())\n",
    "print(metin.lower()) #eğer Türkçe karakterler küçülmüyorsa casefold() metodunu kullanabilirsiniz.\n",
    "print(metin.capitalize())\n",
    "print(metin.title())\n",
    "print(metin.swapcase())"
   ]
  },
  {
   "cell_type": "markdown",
   "id": "2108d6a7",
   "metadata": {},
   "source": [
    "<div class=\"alert alert-info\"><b>Etkinlik:</b> \"Mavi VATAN Akdeniz\" sözcüğünü tamamen küçük, büyük vb. metodlarla işleyiniz.</div>"
   ]
  },
  {
   "cell_type": "markdown",
   "id": "8e3d6902",
   "metadata": {},
   "source": [
    "Karakter dizisindeki (string)  harfleri 'replace' metodu ile değiştirebiliriz."
   ]
  },
  {
   "cell_type": "code",
   "execution_count": null,
   "id": "e11d9a4a",
   "metadata": {},
   "outputs": [],
   "source": [
    "vatan = \"TÜRKİYE\"\n",
    "print(vatan.replace(\"ÜRKİYE\", \"ürkiye\"))\n",
    "print(vatan.replace(\"İYE\", \"\"))\n",
    "\n",
    "#Bir karakter birden çok ise kaç kez tekrarlayacağını da metotta parametre olarak girebiliriz.\n",
    "palindrom = \"KAZAK\"\n",
    "print(palindrom.replace(\"A\",\"I\",1))"
   ]
  },
  {
   "cell_type": "markdown",
   "id": "10ba9a5b",
   "metadata": {},
   "source": [
    "<div class=\"alert alert-info\"><b>Etkinlik:</b> input() foknsiyonu ile kullanıcıdan adını alarak büyük harf yapın, ardından kullanıcının adındaki Ç'leri C olarak, Ğ'leri G olarak, İ'leri I olarak, Ö'leri O olarak, Ü'leri U olarak değiştiriniz ve ekrana yeniden yazdırınız.</div>"
   ]
  },
  {
   "cell_type": "markdown",
   "id": "9df7feff",
   "metadata": {},
   "source": [
    "String tipinde bir değişkeni 'del' deyimi (komutu) ile hafızadan silebiliriz. Esasında bu deyim (komutu) her tipte değişken için geçerlidir."
   ]
  },
  {
   "cell_type": "code",
   "execution_count": null,
   "id": "f6738d86",
   "metadata": {},
   "outputs": [],
   "source": [
    "dil = \"Python\"\n",
    "del dil\n",
    "print(dil)"
   ]
  },
  {
   "cell_type": "markdown",
   "id": "3bd4ca98",
   "metadata": {},
   "source": [
    "String tipinde bir değişkende bir karakter veya karakter dizisinden ne kadar var 'count' metodu ile sayabiliriz."
   ]
  },
  {
   "cell_type": "code",
   "execution_count": null,
   "id": "7df11346",
   "metadata": {},
   "outputs": [],
   "source": [
    "ornekMetin = \"Dal sarkar kartal kalkar, kartal kalkar dal sarkar, dal kalkar kantar tartar.\"\n",
    "print(ornekMetin.count(\"a\"))\n",
    "print(ornekMetin.count(\"kartal\"))"
   ]
  },
  {
   "cell_type": "markdown",
   "id": "823c7040",
   "metadata": {},
   "source": [
    "String tipinde bir değişkenin içindeki karakterin sırasını 'find' metodu ile bulabiliriz."
   ]
  },
  {
   "cell_type": "code",
   "execution_count": null,
   "id": "d81537b4",
   "metadata": {},
   "outputs": [],
   "source": [
    "toprak = \"AAAAABBBBBBCCCCCCCCCCCCCCDDDDDDDDDDDDDDD\"\n",
    "print(toprak.index(\"C\")) #ilk geçtiği yeri bulmak için index kullanılır.\n",
    "print(toprak.rindex(\"A\")) #son geçtiği yeri bulmak için rindex kullanılır.\n",
    "print(toprak.find(\"X\")) #find metodu index'le aynı işe yarar fakat index metodu bulamazsa 'ValueError' hatası verir, find ise -1\n",
    "print(toprak.rfind(\"X\")) #find metodunun tersten arama yapanı."
   ]
  },
  {
   "cell_type": "markdown",
   "id": "e770cf5f",
   "metadata": {},
   "source": [
    "String tipinde bir değişkenin başındaki veya sonundaki boşlukları 'strip' metodu ile silebiliriz."
   ]
  },
  {
   "cell_type": "code",
   "execution_count": null,
   "id": "58bfc69d",
   "metadata": {},
   "outputs": [],
   "source": [
    "ornekMetin = \"    TÜRKİYE BÜYÜK MİLLET MECLİSİ     \"\n",
    "print(ornekMetin.strip())"
   ]
  },
  {
   "cell_type": "markdown",
   "id": "ddc35e6c",
   "metadata": {},
   "source": [
    "String tipinde bir değişkeni 'split' metodu ile istediğimiz yerden ayırarak bir listeye dönüştürebiliriz."
   ]
  },
  {
   "cell_type": "code",
   "execution_count": null,
   "id": "2ba46ab0-ffba-4c1a-bb7b-5ddb2c373c8d",
   "metadata": {},
   "outputs": [],
   "source": [
    "s1 = \"Türkiye Büyük Millet Meclisi\"\n",
    "s2 = \"Türkiye, 23 Ekim 1923, Ankara\"\n",
    "print(s1.split()) #split'in içini boş bırakırsan boşluklardan ayırır.\n",
    "print(s2.split(\", \")) #split'in içine tırnak içinde yazdığın ifadeyi baz alarak ayırır."
   ]
  },
  {
   "cell_type": "markdown",
   "id": "fc71d61d",
   "metadata": {},
   "source": [
    "Karakter dizilerinin (string) karakterlerine \"[ ]\" ile erişebiliriz. Köşeli parantezler arasına karakterin sıra (index) numarasını yazarız. Bu işlemlere **'dilimleme'** denir."
   ]
  },
  {
   "cell_type": "code",
   "execution_count": null,
   "id": "2ca7eec6",
   "metadata": {},
   "outputs": [],
   "source": [
    "ornek = \"Pythhon\"\n",
    "print(ornek[0]) #tek karakter için o karakterin sırasını girmeliyiz (dizilerde sıra 0(sıfır)dan başlar)\n",
    "print(ornek[0:3]) #aralık için iki nokta ile başlama ve bitiş index'ini girmeliyiz\n",
    "print(ornek[:2]) #başlangıç belirtmeseniz ilk sıradan başlar\n",
    "print(ornek[3:]) #bitiş belirtmeseniz karakter dizisinin sonuna kadar alır"
   ]
  },
  {
   "cell_type": "markdown",
   "id": "af40233c",
   "metadata": {},
   "source": [
    "<div class=\"alert alert-info\"><b>Etkinlik:</b> Adınızı çeşitli şekillerde dilimleyiniz.</div>"
   ]
  },
  {
   "cell_type": "markdown",
   "id": "d20327cc",
   "metadata": {},
   "source": [
    "Karakter dizilerini (string) dilimlerken karakter ilerleme sırasını belirleyebiliriz."
   ]
  },
  {
   "cell_type": "code",
   "execution_count": null,
   "id": "0414d512",
   "metadata": {},
   "outputs": [],
   "source": [
    "ornek = \"TÜRKİYE\"\n",
    "print(ornek[0:8:2]) #0. indexten başlayarak 7.indexe kadar 2'şer karakter ilerledik.\n",
    "print(ornek[-1:-8:-1]) #Tersten sıraladık. -1. indexten başlayarak -7.indexe kadar tersten 1'er karakter ilerledik."
   ]
  },
  {
   "cell_type": "markdown",
   "id": "2dce1b5a",
   "metadata": {},
   "source": [
    "<div class=\"alert alert-info\"><b>Etkinlik:</b> input() foknsiyonu ile kullanıcıdan alınan T.C. Numarasını ekrana tersten yazdırınız.</div>"
   ]
  },
  {
   "cell_type": "markdown",
   "id": "47251c9e",
   "metadata": {},
   "source": [
    "Karakter dizileri ile ilgili diğer operatör ve metotlara sonradan değineceğiz.<br>\n",
    "Karakter dizilerinin diğer metotlarını şöyle görüntüleyebilirsiniz:"
   ]
  },
  {
   "cell_type": "code",
   "execution_count": null,
   "id": "63267ec8",
   "metadata": {},
   "outputs": [],
   "source": [
    "print(dir(str))"
   ]
  },
  {
   "cell_type": "markdown",
   "id": "bc20e853",
   "metadata": {},
   "source": [
    "## <a id=\"6.1\"></a><font color=\"maroon\">Integer (int)</font> "
   ]
  },
  {
   "cell_type": "markdown",
   "id": "7a476733-e33c-4283-aea7-57c6920759ea",
   "metadata": {},
   "source": [
    "Tamsayı değişken tipidir. Matematiksel işlemler yapmada kullanılır. Pozitif veya negatif olabilir. Çift tırnak (\"\") veya tek tırnak ('') arasına **<u>yazılmaz.</u>** Örnek tamsayı tipinde değişkenler:"
   ]
  },
  {
   "cell_type": "code",
   "execution_count": null,
   "id": "c8007d72",
   "metadata": {},
   "outputs": [],
   "source": [
    "i1 = 99\n",
    "i2 = -99\n",
    "print(i1,i2,sep=\"\\n\")"
   ]
  },
  {
   "cell_type": "markdown",
   "id": "40eac104",
   "metadata": {},
   "source": [
    "Tipini bilmediğimiz değişkenler için tipini öğrenmek amacıyla 'type' foknsiyonunu kullanarak tipini görüntüleyelim."
   ]
  },
  {
   "cell_type": "code",
   "execution_count": null,
   "id": "c00838fa",
   "metadata": {},
   "outputs": [],
   "source": [
    "i = 1919\n",
    "print(type(i))"
   ]
  },
  {
   "cell_type": "markdown",
   "id": "84c2fe25",
   "metadata": {},
   "source": [
    "Integer (int) olmayan bir değişkeni integer'a dönüştürmek için 'int' fonksiyonu kullanılır. Fakat dönüştürülmek istenen veri tamamen rakamlardan (nümerik) oluşmalıdır, aksi halde hata verir."
   ]
  },
  {
   "cell_type": "code",
   "execution_count": null,
   "id": "cb451fd6",
   "metadata": {},
   "outputs": [],
   "source": [
    "metin = \"1923\"\n",
    "print(int(metin))\n",
    "print(type(int(metin)))"
   ]
  },
  {
   "cell_type": "markdown",
   "id": "67764571",
   "metadata": {},
   "source": [
    "### <a id=\"6.2.1\"></a><font color=\"darkmagenta\">Integer (int) Değişkeninin Metotları</font>"
   ]
  },
  {
   "cell_type": "markdown",
   "id": "01615129-8bc0-432e-a530-fc55bfc19deb",
   "metadata": {},
   "source": [
    "Tam sayıların 2'lik sayı sistemindeki basamak uzunluklarını bulmak için 'bit_length' metodu kullanılır."
   ]
  },
  {
   "cell_type": "code",
   "execution_count": null,
   "id": "c608663a",
   "metadata": {},
   "outputs": [],
   "source": [
    "i = 155\n",
    "print(i.bit_length())"
   ]
  },
  {
   "cell_type": "markdown",
   "id": "453d83f1",
   "metadata": {},
   "source": [
    "<div class=\"alert alert-info\"><b>Etkinlik:</b> input() foknsiyonu ile kullanıcıdan yaşını alarak önce integer'a çeviriniz sonra da 2'lik sayı sistemindeki basamak sayısını bularak ekrana yazdırınız.</div>"
   ]
  },
  {
   "cell_type": "markdown",
   "id": "e008d103",
   "metadata": {},
   "source": [
    "Tam sayılar ile ilgili diğer operatör ve metotlara sonradan değineceğiz.<br>\n",
    "Tam sayıların diğer metotlarını şöyle görüntüleyebilirsiniz:"
   ]
  },
  {
   "cell_type": "code",
   "execution_count": null,
   "id": "666b1a72",
   "metadata": {},
   "outputs": [],
   "source": [
    "print(dir(int))"
   ]
  },
  {
   "cell_type": "markdown",
   "id": "d9a0df29",
   "metadata": {},
   "source": [
    "## <a id=\"6.3\"></a><font color=\"maroon\">Float (float)</font>"
   ]
  },
  {
   "cell_type": "markdown",
   "id": "026732bb-9c73-4086-8d6f-3caea68ba905",
   "metadata": {},
   "source": [
    "Ondalıklı sayı değişken tipidir. **Ondalık ayıracı nokta (.) dır.** Matematiksel işlemler yapmada kullanılır. Pozitif veya negatif olabilir.<br>Çift tırnak (\" \") veya tek tırnak (' ') arasına **<u>yazılmaz.</u>** Örnek ondalıklı sayı tipinde değişkenler:"
   ]
  },
  {
   "cell_type": "code",
   "execution_count": null,
   "id": "548c0813",
   "metadata": {},
   "outputs": [],
   "source": [
    "f1 = 15.75\n",
    "f2 = -15.75\n",
    "print (f1,f2,sep=\"\\n\")"
   ]
  },
  {
   "cell_type": "markdown",
   "id": "d935046a",
   "metadata": {},
   "source": [
    "Tipini bilmediğimiz değişkenler için tipini öğrenmek amacıyla 'type' foknsiyonunu kullanarak tipini görüntüleyelim."
   ]
  },
  {
   "cell_type": "code",
   "execution_count": null,
   "id": "7248d051",
   "metadata": {},
   "outputs": [],
   "source": [
    "f = 1923.0\n",
    "print(type(f))"
   ]
  },
  {
   "cell_type": "markdown",
   "id": "229830d3",
   "metadata": {},
   "source": [
    "Float (float) olmayan bir değişkeni float'a dönüştürmek için 'float' foknsiyonu kullanılır. Fakat dönüştürülmek istenen veri tamamen rakamlardan (nümerik) oluşmalıdır, aksi halde hata verir."
   ]
  },
  {
   "cell_type": "code",
   "execution_count": null,
   "id": "162be4d8",
   "metadata": {},
   "outputs": [],
   "source": [
    "i = 1923\n",
    "print(float(i))\n",
    "print(type(float(i)))"
   ]
  },
  {
   "cell_type": "markdown",
   "id": "e6f8422c",
   "metadata": {},
   "source": [
    "### <a id=\"6.3.1\"></a><font color=\"darkmagenta\"> Float (float) Değişkeninin Metotları</font>\n",
    "Birbirine bölününce ondalıklı sayıyı veren tam sayıları bulmak için 'as_integer_ratio' metodu kullanılır."
   ]
  },
  {
   "cell_type": "code",
   "execution_count": null,
   "id": "5f442e8b",
   "metadata": {},
   "outputs": [],
   "source": [
    "f1 = 7.5\n",
    "print(f1.as_integer_ratio())"
   ]
  },
  {
   "cell_type": "markdown",
   "id": "3359616f",
   "metadata": {},
   "source": [
    "<div class=\"alert alert-info\"><b>Etkinlik:</b> input() foknsiyonu ile noktalı bir şekilde ondalıklı sayı alarak float'a çeviriniz, ardından ondalık sayıyı veren tamsayıları bularak ekrana yazdırın.</div>"
   ]
  },
  {
   "cell_type": "markdown",
   "id": "565d383c",
   "metadata": {},
   "source": [
    "Ondalıklı sayılar ile ilgili diğer operatör ve metotlara sonradan değineceğiz.<br>\n",
    "Ondalıklı sayıların diğer metotlarını şöyle görüntüleyebilirsiniz:"
   ]
  },
  {
   "cell_type": "code",
   "execution_count": null,
   "id": "f58e962e",
   "metadata": {},
   "outputs": [],
   "source": [
    "print(dir(float))"
   ]
  },
  {
   "cell_type": "markdown",
   "id": "b6048428",
   "metadata": {},
   "source": [
    "## <a id=\"6.4\"></a><font color=\"maroon\">Boolean (bool)</font>"
   ]
  },
  {
   "cell_type": "markdown",
   "id": "8506fbbe-9df5-4925-b427-5192bd7606f2",
   "metadata": {},
   "source": [
    "Mantıksal veri tipidir. Sadece 'True' (doğru) ve 'False' (yanlış) değerini alır. Esasında bir sorgulama sonucudur. Mantıksal bütün sorguların sonucu True veya False olur. Örnek boolean tipi sorgulamalar:"
   ]
  },
  {
   "cell_type": "code",
   "execution_count": null,
   "id": "70e83769",
   "metadata": {},
   "outputs": [],
   "source": [
    "b1 = True\n",
    "b2 = False\n",
    "print(b1,b2,sep=\"\\n\")"
   ]
  },
  {
   "cell_type": "markdown",
   "id": "6c91629b",
   "metadata": {},
   "source": [
    "Tipini bilmediğimiz değişkenler için tipini öğrenmek amacıyla 'type' foknsiyonunu kullanarak tipini görüntüleyelim."
   ]
  },
  {
   "cell_type": "code",
   "execution_count": null,
   "id": "4d558c30",
   "metadata": {},
   "outputs": [],
   "source": [
    "b1 = True\n",
    "b2 = False\n",
    "print(type(b1),type(b2),sep=\"\\n\")"
   ]
  },
  {
   "cell_type": "markdown",
   "id": "d3480cbf",
   "metadata": {},
   "source": [
    "## <a id=\"6.5\"></a><font color=\"maroon\">List (list)</font> "
   ]
  },
  {
   "cell_type": "code",
   "execution_count": null,
   "id": "66274ff6-350d-4255-a826-493f60573877",
   "metadata": {},
   "outputs": [],
   "source": [
    "Liste demektir, elemanlardan oluşan çok değişkenli veri tipidir. Listeler köşeli parantez [ ] ile başlar ve biter. İlk elemanın sırası (index) 0'dır. Listedeki elemanların arasında virgül (,) konur. Listede str, int, float, bool veya list elemanları aynı anda olabilir.<br>\n",
    "**Özellikleri:**<br>\n",
    "- Listedeki elemanların sırası(index) vardır ve sıraları değiştirilebilir.<br>\n",
    "- Listeye eleman ekleme-çıkarma veya listeyi başka bir liste ile birleştirme yapılabilir.<br>\n",
    "- Aynı elemandan birkaç tane (duplicate) olabilir.\n",
    "- String veri tipinin **dilimleme** metotları aynen uygulanabilir.\n",
    "- Sonradan eleman girilmek üzere boş bir liste ( [] ) oluşturulabilir.<br>\n",
    "Örnek liste değişken tipinde veri:"
   ]
  },
  {
   "cell_type": "code",
   "execution_count": null,
   "id": "dea1cd75",
   "metadata": {},
   "outputs": [],
   "source": [
    "liste = [\"Python\",1994,3.10,True,[\"En Popüler\",\"Programlama Dili\",1]]\n",
    "print(liste)\n",
    "print(liste[2])\n",
    "print(liste[1:4])\n",
    "print(type(liste))"
   ]
  },
  {
   "cell_type": "markdown",
   "id": "32f51f47",
   "metadata": {},
   "source": [
    "Sadece string veri tipi bir listeye dönüştürülebilir. Bunun için 'list' foknsiyonu kullanılır."
   ]
  },
  {
   "cell_type": "code",
   "execution_count": null,
   "id": "2fd141e6",
   "metadata": {},
   "outputs": [],
   "source": [
    "s = \"Türkiye 2023\"\n",
    "print(list(s),type(list(s)),sep=\"\\n\")"
   ]
  },
  {
   "cell_type": "markdown",
   "id": "bb73ec5d",
   "metadata": {},
   "source": [
    "Bir sayı listesi oluşturmak için 'range()' (aralık) foknsiyonu ile sayı listesi oluşturulabilir. Bunun için 'list()' ve 'range()' fonksiyonu kullanılır. 'range()' fonksiyonu liste tipinden bağımsız başka şekillerde de kullanılabilir."
   ]
  },
  {
   "cell_type": "code",
   "execution_count": null,
   "id": "49fd3a15",
   "metadata": {},
   "outputs": [],
   "source": [
    "l = list(range(1,16))\n",
    "print(l)"
   ]
  },
  {
   "cell_type": "markdown",
   "id": "4652121e",
   "metadata": {},
   "source": [
    "<div class=\"alert alert-info\"><b>Etkinlik:</b> -5 ile +5 arasındaki sayılardan oluşan bir liste oluşurunuz.</div>"
   ]
  },
  {
   "cell_type": "markdown",
   "id": "f0b4a6e9",
   "metadata": {},
   "source": [
    "Listelerin (list) eleman sayısını 'len' foknsiyonu ile öğrenebiliriz."
   ]
  },
  {
   "cell_type": "code",
   "execution_count": null,
   "id": "f5a81309",
   "metadata": {},
   "outputs": [],
   "source": [
    "l = [\"Pazartesi\",\"Salı\",\"Çarşamba\",\"Perşembe\",\"Cuma\",\"Cumartesi\",\"Pazar\"]\n",
    "print(len(l))"
   ]
  },
  {
   "cell_type": "markdown",
   "id": "0e748497",
   "metadata": {},
   "source": [
    "### <a id=\"6.5.1\"></a><font color=\"darkmagenta\">List (list) Değişkeninin Metotları</font>"
   ]
  },
  {
   "cell_type": "markdown",
   "id": "91c7a1ce-277b-4fb9-82db-3d0bf4168d3a",
   "metadata": {},
   "source": [
    "Listelere 'append' metodu ile **listenin sonuna** eklenmek üzere yeni eleman eklenebilir."
   ]
  },
  {
   "cell_type": "code",
   "execution_count": null,
   "id": "15058a57",
   "metadata": {},
   "outputs": [],
   "source": [
    "l = [\"Pazartesi\",\"Salı\",\"Çarşamba\",\"Perşembe\",\"Cuma\",\"Cumartesi\"]\n",
    "l.append(\"Pazar\")\n",
    "print(l)"
   ]
  },
  {
   "cell_type": "markdown",
   "id": "b7d81ded",
   "metadata": {},
   "source": [
    "Listedeki bir elemanın sırası 'index' metodu ile bulunabilir."
   ]
  },
  {
   "cell_type": "code",
   "execution_count": null,
   "id": "a84f190b",
   "metadata": {},
   "outputs": [],
   "source": [
    "l = [\"Pazartesi\",\"Salı\",\"Çarşamba\",\"Perşembe\",\"Cuma\",\"Cumartesi\"]\n",
    "print(l.index(\"Perşembe\"))"
   ]
  },
  {
   "cell_type": "markdown",
   "id": "bd4f5849",
   "metadata": {},
   "source": [
    "<div class=\"alert alert-info\"><b>Etkinlik:</b> Adınızı list() foknsiyonu ile listeye çevirdikten sonra listenin sonuna yaşınızı sayı olarak ekleyiniz ve yaşınızın listedeki sırasını bulunuz.</div>"
   ]
  },
  {
   "cell_type": "markdown",
   "id": "ac3d1c11",
   "metadata": {},
   "source": [
    "Listelere 'insert' metodu ile **listenin istenilen sırasına(index)** eklenmek üzere yeni eleman eklenebilir. Insert metodu 'insert(eklenmek istenen sıranın indexi,eklenmek istenen değer)' olarak çalışmaktadır."
   ]
  },
  {
   "cell_type": "code",
   "execution_count": null,
   "id": "a73580bb",
   "metadata": {},
   "outputs": [],
   "source": [
    "l = [\"Pazartesi\",\"Çarşamba\",\"Perşembe\",\"Cuma\",\"Cumartesi\"]\n",
    "l.insert(1,\"Salı\")\n",
    "l.insert(6,\"Pazar\")\n",
    "print(l)"
   ]
  },
  {
   "cell_type": "markdown",
   "id": "eeaca1e3",
   "metadata": {},
   "source": [
    "Listeden bir elemana değeriyle erişilerek silinebilir. Bunun için 'remove' metodu kullanılır. Remove metodunu kullanırken silmek istediğiniz değerin listedeki sırasını bilmenize gerek yoktur. Eğer aynı değerden birkaç tane varsa sırası (index) en küçük olanı (ilk sırada olanı) siler."
   ]
  },
  {
   "cell_type": "code",
   "execution_count": null,
   "id": "ff78a890",
   "metadata": {},
   "outputs": [],
   "source": [
    "l = [\"Pazartesi\",\"Salı\",\"Çarşamba\",\"Perşembe\",\"Cuma\",\"Cumartesi\",\"Pazar\",\"Ocak\",\"Şubat\",\"Ocak\"]\n",
    "l.remove(\"Ocak\")\n",
    "print(l)"
   ]
  },
  {
   "cell_type": "markdown",
   "id": "26ff92af",
   "metadata": {},
   "source": [
    "Listeden bir elemanı sırasına(index) erişilerek silinebilir. Bunun için iki yöntem vardır; 'pop' ve 'del' metotları kullanılır.<br>\n",
    "Pop metodu ile belirttiğiniz sıradaki(index) eleman silinir. İndex numarası belirtilmezse listenin sonundaki elemanı siler.<br>\n",
    "Del metodu ile belirttiğiniz sıradaki(index) eleman silinir. İndex numarası belirtilmezse **ilgili liste değişkenini tamamen ortadan kaldırır.**"
   ]
  },
  {
   "cell_type": "code",
   "execution_count": null,
   "id": "b06ead02",
   "metadata": {},
   "outputs": [],
   "source": [
    "l = [\"Pazartesi\",\"Salı\",\"Çarşamba\",\"Perşembe\",\"Cuma\",\"Cumartesi\",\"Pazar\",\"Ocak\",\"Ocak\"]\n",
    "l.pop(7)\n",
    "del l[0]\n",
    "print(l)"
   ]
  },
  {
   "cell_type": "markdown",
   "id": "8894f25b",
   "metadata": {},
   "source": [
    "<div class=\"alert alert-info\"><b>Etkinlik:</b> 1'den 10'a kadar tamsayıların bulunduğu bir listeden 7 sayısını siliniz ve aynı sıraya tekrar ekleyiniz.</div>"
   ]
  },
  {
   "cell_type": "markdown",
   "id": "4c846016",
   "metadata": {},
   "source": [
    "Listedeki tüm elemanları 'clear' metodu ile silebiliriz. Bu metodla listenin içi boşalır ve ilgili liste değişkeni kullanılmaya devam edilir. Yani liste değişkeni ortadan kalkmaz."
   ]
  },
  {
   "cell_type": "code",
   "execution_count": null,
   "id": "21638f61",
   "metadata": {},
   "outputs": [],
   "source": [
    "l = [\"Pazartesi\",\"Salı\",\"Çarşamba\",\"Perşembe\",\"Cuma\",\"Cumartesi\",\"Pazar\"]\n",
    "l.clear()\n",
    "print(l)"
   ]
  },
  {
   "cell_type": "markdown",
   "id": "80933f4b",
   "metadata": {},
   "source": [
    "Liste elemanları başka bir değişkene 'copy' metodu ile liste olarak kopyalanabilir."
   ]
  },
  {
   "cell_type": "code",
   "execution_count": null,
   "id": "fe70cc1d",
   "metadata": {},
   "outputs": [],
   "source": [
    "l1 = [\"Pazartesi\",\"Salı\",\"Çarşamba\",\"Perşembe\",\"Cuma\",\"Cumartesi\",\"Pazar\"]\n",
    "l2 =l1.copy()\n",
    "print(l2)"
   ]
  },
  {
   "cell_type": "markdown",
   "id": "1ccaef26",
   "metadata": {},
   "source": [
    "Liste elemanları 'sort' metodu ile A'dan Z'ye veya küçükten büyüğe doğru sıralanabilir."
   ]
  },
  {
   "cell_type": "code",
   "execution_count": null,
   "id": "2aea5c10",
   "metadata": {},
   "outputs": [],
   "source": [
    "l = [\"Pazartesi\",\"Salı\",\"Çarşamba\",\"Perşembe\",\"Cuma\",\"Cumartesi\",\"Pazar\"]\n",
    "l.sort()\n",
    "print(l)"
   ]
  },
  {
   "cell_type": "code",
   "execution_count": null,
   "id": "47a0b97c",
   "metadata": {},
   "outputs": [],
   "source": [
    "l = [3,4,5,1,2,6,7]\n",
    "l.sort()\n",
    "print(l)"
   ]
  },
  {
   "cell_type": "markdown",
   "id": "e7e03a86",
   "metadata": {},
   "source": [
    "Liste elemanları 'sort' metodu ile Z'den A'ya veya büyükten küçüğe doğru da sıralanabilir."
   ]
  },
  {
   "cell_type": "code",
   "execution_count": null,
   "id": "c23a056a",
   "metadata": {},
   "outputs": [],
   "source": [
    "l = [\"Pazartesi\",\"Salı\",\"Çarşamba\",\"Perşembe\",\"Cuma\",\"Cumartesi\",\"Pazar\"]\n",
    "l.sort(reverse=True)\n",
    "print(l)"
   ]
  },
  {
   "cell_type": "code",
   "execution_count": null,
   "id": "a56bb919",
   "metadata": {},
   "outputs": [],
   "source": [
    "l = [3,4,5,1,2,6,7]\n",
    "l.sort(reverse=True)\n",
    "print(l)"
   ]
  },
  {
   "cell_type": "markdown",
   "id": "6ed622c6",
   "metadata": {},
   "source": [
    "Liste elemanları 'reverse' metodu ile tersine çevrilebilir."
   ]
  },
  {
   "cell_type": "code",
   "execution_count": null,
   "id": "11b51ea3",
   "metadata": {},
   "outputs": [],
   "source": [
    "l = [\"Pazartesi\",\"Salı\",\"Çarşamba\",\"Perşembe\",\"Cuma\",\"Cumartesi\",\"Pazar\"]\n",
    "l.reverse()\n",
    "print(l)"
   ]
  },
  {
   "cell_type": "markdown",
   "id": "3e600ac0",
   "metadata": {},
   "source": [
    "<div class=\"alert alert-info\"><b>Etkinlik:</b> Adınızı list() foknsiyonu ile listeye çevirdikten sonra isminizdeki harfleri A'dan Z'ye, Z'den A'ya ve tersten olmak üzere farklı şekillerde sıralayınız.</div>"
   ]
  },
  {
   "cell_type": "markdown",
   "id": "7c43897e",
   "metadata": {},
   "source": [
    "Listedeki elemanlardan kaçar tane olduğu 'count' metodu ile bulunabilir."
   ]
  },
  {
   "cell_type": "code",
   "execution_count": null,
   "id": "7df64b49",
   "metadata": {},
   "outputs": [],
   "source": [
    "l = [1,1,1,1,2,2,2,2,2,3,3,3,3,3,3,4,5,6,7]\n",
    "print(l.count(1))\n",
    "print(l.count(5))"
   ]
  },
  {
   "cell_type": "markdown",
   "id": "efda8250",
   "metadata": {},
   "source": [
    "Listedeki elemanlardan sayısal olarak en büyük veya alfabetik olarak en sonda olan 'max' foknsiyonu ile, sayısal olarak en küçük veya alfabetik olarak en önde olan 'min' foknsiyonu ile bulunabilir."
   ]
  },
  {
   "cell_type": "code",
   "execution_count": null,
   "id": "700a0aab",
   "metadata": {},
   "outputs": [],
   "source": [
    "l = [\"A\",\"B\",\"C\",\"D\",\"E\",\"F\",\"G\",\"Z\"]\n",
    "print(max(l))\n",
    "print(min(l))"
   ]
  },
  {
   "cell_type": "code",
   "execution_count": null,
   "id": "0fc4e598",
   "metadata": {},
   "outputs": [],
   "source": [
    "l = [101,345,543,786,908,123,434]\n",
    "print(max(l))\n",
    "print(min(l))"
   ]
  },
  {
   "cell_type": "markdown",
   "id": "f8f1e938",
   "metadata": {},
   "source": [
    "## <a id=\"6.6\"></a><font color=\"maroon\">Tuple (tuple)</font>"
   ]
  },
  {
   "cell_type": "markdown",
   "id": "781d3a3f-af36-4011-94cc-127301fa1e0e",
   "metadata": {},
   "source": [
    "Demet demektir. Liste değişken tipi gibi elemanlardan oluşan çok değişkenli veri tipidir. Demetler normal parantez ( ) ile başlar ve biter. İlk elemanın sırası (index) 0'dır. Demetteki  elemanların arasında virgül (,) konur. Demette str, int, float, bool veya list elemanları aynı anda olabilir.<br>\n",
    "**Özellikleri:**<br>\n",
    "- Demetteki elemanların sırası(index) vardır ve sıraları **değiştirilemez**.<br>\n",
    "- Demete eleman ekleme-çıkarma **yapılamaz** ama başka bir demetle ile birleştirme yapılabilir.<br>\n",
    "- Aynı elemandan birkaç tane (duplicate) olabilir.<br>\n",
    "- String veri tipinin **dilimleme** metotları aynen uygulanabilir.<br>\n",
    "Örnek demet veri tipi değişkeni:"
   ]
  },
  {
   "cell_type": "code",
   "execution_count": null,
   "id": "f4e2385c",
   "metadata": {},
   "outputs": [],
   "source": [
    "yazAylari = (\"Haziran\",\"Temmuz\",\"Ağustos\")\n",
    "print(yazAylari)\n",
    "print(yazAylari[1])\n",
    "print(yazAylari[0:2])\n",
    "print(type(yazAylari))"
   ]
  },
  {
   "cell_type": "markdown",
   "id": "60aee67c",
   "metadata": {},
   "source": [
    "Sadece string veya liste veri tipi bir demete dönüştürülebilir. Bunun için 'tuple' foknsiyonu kullanılır."
   ]
  },
  {
   "cell_type": "code",
   "execution_count": null,
   "id": "6e300736",
   "metadata": {},
   "outputs": [],
   "source": [
    "d = \"Tükiye 2023\"\n",
    "print(tuple(d),type(tuple(d)),sep=\"\\n\")"
   ]
  },
  {
   "cell_type": "markdown",
   "id": "10d79e56",
   "metadata": {},
   "source": [
    "Demetlerin eleman sayısı 'len' foknsiyonu ile bulunabilir."
   ]
  },
  {
   "cell_type": "code",
   "execution_count": null,
   "id": "279fe223",
   "metadata": {},
   "outputs": [],
   "source": [
    "d = (\"Aralık\",\"Ocak\",\"Şubat\")\n",
    "print(len(d))"
   ]
  },
  {
   "cell_type": "markdown",
   "id": "ce87179b",
   "metadata": {},
   "source": [
    "### <a id=\"6.6.1\"></a><font color=\"darkmagenta\">Tuple (tuple) Değişkeninin Metotları</font>"
   ]
  },
  {
   "cell_type": "markdown",
   "id": "2a6fa6bf-524a-4db2-b2e0-df753f02e9e5",
   "metadata": {},
   "source": [
    "Demetlerde 'index' metodu ile elemanın sırası bulunabilir."
   ]
  },
  {
   "cell_type": "code",
   "execution_count": null,
   "id": "95cf83de",
   "metadata": {},
   "outputs": [],
   "source": [
    "d = (\"Aralık\",\"Ocak\",\"Şubat\")\n",
    "print(d.index(\"Ocak\"))"
   ]
  },
  {
   "cell_type": "markdown",
   "id": "91501d8a",
   "metadata": {},
   "source": [
    "Demetlerde 'count' metodu ile hangi elemandan kaç tane olduğu bulunabilir."
   ]
  },
  {
   "cell_type": "code",
   "execution_count": null,
   "id": "6868afa2",
   "metadata": {},
   "outputs": [],
   "source": [
    "d = (1,1,1,1,2,2,2,3,3,3,3,3,3,3,4,4,4,5)\n",
    "print(d.count(3))"
   ]
  },
  {
   "cell_type": "markdown",
   "id": "2bf8773d-4f70-4476-95d0-30fda63d9338",
   "metadata": {},
   "source": [
    "<div class=\"alert alert-info\"><b>Etkinlik:</b> Bir programcı kayıt esnasında sırasıyla TC, Ad, Soyad ve Doğum Yılı verilerini alacaktır. Bu sıranın daha sonra da hackerlar tarafından değiştirilmemesi için tuple yöntemiyle alıyor. Bu şekilde çalışacak algoritmayı kodlayınız.</div>"
   ]
  },
  {
   "cell_type": "markdown",
   "id": "cdb54bc1",
   "metadata": {},
   "source": [
    "## <a id=\"6.7\"></a><font color=\"maroon\">Set (set)</font> "
   ]
  },
  {
   "cell_type": "markdown",
   "id": "12d43893-149a-4896-be17-2a78d25b86db",
   "metadata": {},
   "source": [
    "Küme demektir. Liste değişken tipi gibi elemanlardan oluşan çok değişkenli veri tipidir. Kümeler kıvırcıklı parantez { } ile başlar ve biter. Küme elemanlarında sıra (index) yoktur. Kümedeki  elemanların arasında virgül (,) konur. Kümede str, int, float veya bool elemanları aynı anda olabilir.<br>\n",
    "**Özellikleri:**<br>\n",
    "- Kümedeki elemanların **sırası(index) yoktur** ve sıraları **değiştirilemez**.<br>\n",
    "- Kümeye eleman ekleme-çıkarma veya başka bir küme ile birleştirme yapılabilir.<br>\n",
    "- **Aynı elemandan birkaç tane (duplicate) olamaz.**<br>\n",
    "- **Dilimleme** metotları **uygulanamaz**.<br>\n",
    "- Kümelerin içinde list veya tuple tipinde elemanları **olamaz.**<br>\n",
    "Örnek küme veri tipi değişkeni:"
   ]
  },
  {
   "cell_type": "code",
   "execution_count": null,
   "id": "3ad60072",
   "metadata": {},
   "outputs": [],
   "source": [
    "k = {1,2,3,\"Türkiye\"}\n",
    "print(k,len(k),type(k),sep=\"\\n\")"
   ]
  },
  {
   "cell_type": "markdown",
   "id": "e5a08f28",
   "metadata": {},
   "source": [
    "Sadece string, list veya tuple veri tipi bir kümeye dönüştürülebilir. Bunun için 'set' foknsiyonu kullanılır."
   ]
  },
  {
   "cell_type": "code",
   "execution_count": null,
   "id": "e522d596",
   "metadata": {},
   "outputs": [],
   "source": [
    "s = \"Python\"\n",
    "l =[1,2,3]\n",
    "t=(\"a\",\"b\",\"c\")\n",
    "print(set(s))\n",
    "print(set(l))\n",
    "print(set(d))"
   ]
  },
  {
   "cell_type": "markdown",
   "id": "316b6491",
   "metadata": {},
   "source": [
    "Bir sayı kümesi tanımlamak için range() (aralık) foknsiyonu ile küme tanımlanabilir. Bunun için 'set()' ve 'range()' foknsiyon kullanılır."
   ]
  },
  {
   "cell_type": "code",
   "execution_count": null,
   "id": "822a63a7",
   "metadata": {},
   "outputs": [],
   "source": [
    "k = set(range(1,10)) #1'den 10'a kadar olan sayılardan bir küme oluşturduk.\n",
    "print(k)"
   ]
  },
  {
   "cell_type": "markdown",
   "id": "46505ac6",
   "metadata": {},
   "source": [
    "### <a id=\"6.7.1\"></a><font color=\"darkmagenta\">Set (set) Değişkeninin Metotları</font>"
   ]
  },
  {
   "cell_type": "markdown",
   "id": "32f7ab9f-8a21-4377-8c1b-b6f0ee439757",
   "metadata": {},
   "source": [
    "Kümelere 'add' metodu ile eleman eklenebilir."
   ]
  },
  {
   "cell_type": "code",
   "execution_count": null,
   "id": "4c4bcb40",
   "metadata": {},
   "outputs": [],
   "source": [
    "k = {\"T\",\"Ü\",\"R\",\"K\",\"İ\",\"Y\",\"E\"}\n",
    "k.add(1923)\n",
    "print(k)"
   ]
  },
  {
   "cell_type": "markdown",
   "id": "b63a0338",
   "metadata": {},
   "source": [
    "Kümelerden 'remove' metodu ile eleman silinebilir. Silmek istediğiniz eleman yok ise **hata verir.**"
   ]
  },
  {
   "cell_type": "code",
   "execution_count": null,
   "id": "69545cf8",
   "metadata": {},
   "outputs": [],
   "source": [
    "k = {\"T\",\"Ü\",\"R\",\"K\",\"İ\",\"Y\",\"E\",1923}\n",
    "k.remove(1923)\n",
    "print(k)"
   ]
  },
  {
   "cell_type": "markdown",
   "id": "234e5997",
   "metadata": {},
   "source": [
    "Kümelerden 'discard' metodu ile de eleman silinebilir. Silmek istediğiniz eleman yok ise **hata vermez**."
   ]
  },
  {
   "cell_type": "code",
   "execution_count": null,
   "id": "cdf812d0",
   "metadata": {},
   "outputs": [],
   "source": [
    "k = {\"T\",\"Ü\",\"R\",\"K\",\"İ\",\"Y\",\"E\",1923}\n",
    "k.discard(\"İ\")\n",
    "k.discard(\"Y\")\n",
    "k.discard(\"E\")\n",
    "k.discard(2023)\n",
    "print(k)"
   ]
  },
  {
   "cell_type": "markdown",
   "id": "45c18c80",
   "metadata": {},
   "source": [
    "Kümeler 'clear' metodu ile temizlenebilir."
   ]
  },
  {
   "cell_type": "code",
   "execution_count": null,
   "id": "df291bcb",
   "metadata": {},
   "outputs": [],
   "source": [
    "k = {\"T\",\"Ü\",\"R\",\"K\",\"İ\",\"Y\",\"E\",1923}\n",
    "k.clear()\n",
    "print(k)"
   ]
  },
  {
   "cell_type": "markdown",
   "id": "4cb96ae5",
   "metadata": {},
   "source": [
    "Kümeler 'update' metodu ile birleştirilebilir veya 'union' ile birleşik yeni bir küme oluşturulabilir."
   ]
  },
  {
   "cell_type": "code",
   "execution_count": null,
   "id": "e533da88",
   "metadata": {},
   "outputs": [],
   "source": [
    "k1 = {\"T\",\"Ü\",\"R\",\"K\"}\n",
    "k2 = {\"İ\",\"Y\",\"E\"}\n",
    "k3 = k1.union(k2)\n",
    "print(k1,k3,sep=\"\\n\")\n",
    "\n",
    "k1.update(k2)\n",
    "print(k1)"
   ]
  },
  {
   "cell_type": "markdown",
   "id": "2cd11285",
   "metadata": {},
   "source": [
    "Kümelerin 'intersection' metodu ile kesişimleri, 'difference' metodu ile farkları bulunabilir."
   ]
  },
  {
   "cell_type": "code",
   "execution_count": null,
   "id": "2fd2e7ac",
   "metadata": {},
   "outputs": [],
   "source": [
    "k1 = {\"P\",\"Y\",\"T\",\"H\",\"O\",\"N\"}\n",
    "k2 = {\"F\",\"A\",\"Y\",\"T\",\"O\",\"N\"}\n",
    "print(k1.intersection(k2))\n",
    "print(k1.difference(k2))"
   ]
  },
  {
   "cell_type": "markdown",
   "id": "2858737b-97e3-4f17-9b46-a092c7135e23",
   "metadata": {},
   "source": [
    "<div class=\"alert alert-info\"><b>Etkinlik:</b> Adam asmaca oyununda oyuncu kelimeyi tahmin etmeden önce oyuncudan 5 tane harf alınır ve bu harfler ile kelimede bulunan harfler karşılaştırılarak ikisinde de olanlar ekrana verilir. Bu algoritmayı kodlayınız.</div>"
   ]
  },
  {
   "cell_type": "markdown",
   "id": "8945081e",
   "metadata": {},
   "source": [
    "## <a id=\"6.8\"></a><font color=\"maroon\">Frozenset (frozenset)</font> "
   ]
  },
  {
   "cell_type": "markdown",
   "id": "c0acc2d2-49ce-462c-9060-9a3ed89ffc5f",
   "metadata": {},
   "source": [
    "Kısıtlanmış küme demektir. Liste değişken tipi gibi elemanlardan oluşan çok değişkenli veri tipidir. Kısıtlanmış kümeler bir listenin başına 'frozenset' foknsiyonu girilmesi ile oluşur. Küme elemanlarında sıra (index) yoktur. Kümedeki  elemanların arasında virgül (,) konur. Kümede str, int, float veya bool elemanları aynı anda olabilir.<br>\n",
    "**Özellikleri:**<br>\n",
    "- Kısıtlanmış kümedeki elemanların **sırası(index) yoktur** ve sıraları **değiştirilemez**.<br>\n",
    "- Kısıtlanmış kümeye eleman **ekleme-çıkarma veya başka bir liste tipi değişkenle birleştirme <u>yapılamaz</u>**.<br>\n",
    "- **Aynı elemandan birkaç tane (duplicate) olamaz.**<br>\n",
    "- **Dilimleme** metotları **uygulanamaz**.<br>\n",
    "- Kıtılanmış kümelerin içinde list veya tuple tipinde elemanları **olamaz.**<br>\n",
    "Örnek kısıtlanmış küme veri tipi değişkeni:"
   ]
  },
  {
   "cell_type": "code",
   "execution_count": null,
   "id": "d0738134",
   "metadata": {},
   "outputs": [],
   "source": [
    "fs = frozenset([\"pazartesi\",\"salı\",\"çarşamba\",\"perşembe\",\"cuma\",\"cumartesi\",1,2,3,4,5,6])\n",
    "print (fs)"
   ]
  },
  {
   "cell_type": "markdown",
   "id": "912dc2fe-66ec-49a4-a3c3-d4ca778967c3",
   "metadata": {},
   "source": [
    "<div class=\"alert alert-info\"><b>Etkinlik:</b> Bir yazılım yapan Ali bu yazılım lisansla satıyor. Bu lisansları tuttuğu bir değişkeni var ve lisansların değiştirilmesini önlemek için bir yöntem buluyor. Bu algoritmayı kodlayınız.</div>"
   ]
  },
  {
   "cell_type": "markdown",
   "id": "42bb73c6",
   "metadata": {},
   "source": [
    "## <a id=\"6.9.1\"></a><font color=\"maroon\">Dictionary (dict)</font>"
   ]
  },
  {
   "cell_type": "markdown",
   "id": "960a53f7-f480-4e1e-9dce-a7c4f1dbe5d5",
   "metadata": {},
   "source": [
    "Sözlük demektir. Küme değişken tipi gibi fakat 2 boyutlu elemanlardan oluşan çok değişkenli veri tipidir. Sözlükler kıvırcıklı parantez ile başlar ve biter. Sözlüklerde her eleman 2 öğeden oluşur. İlki 'key' (anahtar), ikincisi 'value' (değer)'dir. Öğelerin arasına : konur. Eleman sıraları değiştirilemez, ekleme çıkarma yapılabilir. Sözlüklerde öğelerin arasında virgül (,) konur. Sözlükte str, int, float veya bool elemanları aynı anda olabilir.<br>\n",
    "Örnek kısıtlanmış küme veri tipi değişkeni:"
   ]
  },
  {
   "cell_type": "code",
   "execution_count": null,
   "id": "de063f11",
   "metadata": {},
   "outputs": [],
   "source": [
    "sozluk = {\"Python\":\"Bir programlama dilidir.\",\n",
    "          \"Yazar\":\"Guido Van Rossum\",\n",
    "          1994:\"Python'ın yayınlandığı yıl.\",\n",
    "          2018:\"Van Rossum'un Python yönetiminiden istifa ettiği yıldır.\"}\n",
    "print (sozluk[\"Yazar\"])"
   ]
  },
  {
   "cell_type": "markdown",
   "id": "3371f71b-6de9-4e32-94f1-9d67822abe94",
   "metadata": {},
   "source": [
    "Sözlüğe \"sozluk[anahtar]=Değer\" olarak yeni anahtar:değer (key:value) ikilisi eklenebilir. Bu yöntemle eklenen değerler son eleman olarak eklenir."
   ]
  },
  {
   "cell_type": "code",
   "execution_count": null,
   "id": "f1c76992-2245-488a-9727-4e8ac6e920b7",
   "metadata": {},
   "outputs": [],
   "source": [
    "sayilarinKaresi = {1:1,2:4,3:9,4:16}\n",
    "print(sayilarinKaresi)\n",
    "sayilarinKaresi[9]=81 #9 key'i ile 81 value'sini ekledik.\n",
    "print(sayilarinKaresi)"
   ]
  },
  {
   "cell_type": "markdown",
   "id": "6dd74e73-944f-45cb-a9d8-8db45dc1cac8",
   "metadata": {},
   "source": [
    "Sözlükten del deyimi ile eleman silinebilir."
   ]
  },
  {
   "cell_type": "code",
   "execution_count": null,
   "id": "422f0e6b-2864-406b-96ac-b836f363859a",
   "metadata": {},
   "outputs": [],
   "source": [
    "sayilarinKaresi = {1:1,2:4,3:9,4:16}\n",
    "del sayilarinKaresi[3]\n",
    "print(sayilarinKaresi)"
   ]
  },
  {
   "cell_type": "markdown",
   "id": "89da84b4-275d-489e-9906-89565a1377a0",
   "metadata": {},
   "source": [
    "### <a id=\"6.9.1\"></a><font color=\"darkmagenta\">Dictionary (dict) Değişkeninin Metotları</font>"
   ]
  },
  {
   "cell_type": "markdown",
   "id": "e42884d3-e003-418b-9543-748edc03cf56",
   "metadata": {},
   "source": [
    "Sözlükten eleman silmek için 'pop()' metodu kullanılır. Bu metot kullanılırken parantez içine silincek anahtar(key) yazılır."
   ]
  },
  {
   "cell_type": "code",
   "execution_count": null,
   "id": "aa1fea5f-7e16-4088-aa38-75b4ad4593d8",
   "metadata": {},
   "outputs": [],
   "source": [
    "sayilarinKaresi = {1:1,2:4,3:9,4:16}\n",
    "print(sayilarinKaresi)\n",
    "sayilarinKaresi.pop(3) #3 key'ine sahip eleman ikilisini sildik\n",
    "print(sayilarinKaresi)"
   ]
  },
  {
   "cell_type": "markdown",
   "id": "8c8decf2-3f29-4db0-8acb-851a2d897c42",
   "metadata": {},
   "source": [
    "Bir sözlüğü başka bir sözlüğün verileriyle güncelleyebilir(ekleyebilir) bu işlemi string değerlerle de yapabilirsiniz."
   ]
  },
  {
   "cell_type": "code",
   "execution_count": null,
   "id": "cd03741b-cf8a-4389-b9ed-b54f7e751fe9",
   "metadata": {},
   "outputs": [],
   "source": [
    "sayilarinKaresi = {1:1,2:4,3:9,4:16}\n",
    "eklenecekler = {5:25,6:36,7:49}\n",
    "sayilarinKaresi.update(eklenecekler)\n",
    "print(sayilarinKaresi)\n",
    "\n",
    "#update'i string değerlerle kullanabilirsiniz.\n",
    "sayilarinKaresi.update(Sekiz='AltmışDört', Dokuz='SeksenBir')\n",
    "print(sayilarinKaresi)"
   ]
  },
  {
   "cell_type": "markdown",
   "id": "e8522d8e-6420-4f8c-9943-4c43cf9bd04d",
   "metadata": {},
   "source": [
    "Sözlükteki bir anahtarın değeri 'get()' fonksiyonu ile alınabilir."
   ]
  },
  {
   "cell_type": "code",
   "execution_count": null,
   "id": "efc41be0-2121-41f2-b831-818e1b8a45d2",
   "metadata": {},
   "outputs": [],
   "source": [
    "sayilarinKaresi = {1:1,2:4,3:9,4:16}\n",
    "print(sayilarinKaresi.get(4))\n",
    "\n",
    "#bu içiçe (nested) bir şekilde de kullanılabilir\n",
    "matPuanlari = {\"Ada\":{\"1.Yazılı\":80,\"2.Yazılı\":90},\"Asya\":{\"1.Yazılı\":70,\"2.Yazılı\":85},\"Mete\":{\"1.Yazılı\":95,\"2.Yazılı\":100}}\n",
    "print(matPuanlari.get(\"Asya\").get(\"2.Yazılı\"))"
   ]
  },
  {
   "cell_type": "markdown",
   "id": "d8be8677-6f37-4ec2-a241-07aa76d9e435",
   "metadata": {},
   "source": [
    "Bir liste türündeki (liste, demet, küme) değişken dizisi 'fromkeys()' sözlük anahtarı olarak dönüştürülebilir. Hatta iki farklı liste türündeki değişken dizisi sözlük anahtarı ve değeri olarak birleştirilebilir."
   ]
  },
  {
   "cell_type": "code",
   "execution_count": null,
   "id": "d7b1e43f-f5b4-499f-ad2f-e4e75456ae8e",
   "metadata": {},
   "outputs": [],
   "source": [
    "harfler = [\"A\",\"B\",\"C\",\"Ç\"]\n",
    "kod = (\"UTF-8\")\n",
    "harflerinKodu = dict.fromkeys(harfler,kod)\n",
    "print(harflerinKodu)"
   ]
  },
  {
   "cell_type": "code",
   "execution_count": null,
   "id": "a7fb3376-5c5a-4c14-b8f2-73692c211b87",
   "metadata": {},
   "outputs": [],
   "source": [
    "harfler = [\"A\",\"B\",\"C\",\"Ç\"]\n",
    "harflerinKodu = dict.fromkeys(harfler) #ikinci parametre boş bırakılırsa value değeri boş olarak oluşur\n",
    "print(harflerinKodu)"
   ]
  },
  {
   "cell_type": "code",
   "execution_count": null,
   "id": "44e9b0f2-2763-41f5-87f7-fe8ac2ab25a4",
   "metadata": {},
   "outputs": [],
   "source": [
    "harfler = [\"A\",\"B\",\"C\",\"Ç\"]\n",
    "harflerinKodu = dict.fromkeys(harfler,\"TÜRKÇE\") #ikinci parametre sabit olarak girilirse value değeri girilmiş olur.\n",
    "print(harflerinKodu)"
   ]
  },
  {
   "cell_type": "markdown",
   "id": "045ad917-6db3-48e7-9374-7357a266aa8b",
   "metadata": {},
   "source": [
    "<div class=\"alert alert-info\"><b>Etkinlik:</b> Bir yazılım yapan Ada bu yazılım ile günlük tutuyor. Tuttuğu günlüklerin anahtarı(key) tarih, değeri(value) ise o gün yazdıklarıdır. Sonra Ali geçmişe ait bir günün tarihini girerek o güne ait günceyi getiriyor. Bunu işlemi gerçekleştiren algoritmayı kodlayınız.</div>"
   ]
  },
  {
   "cell_type": "markdown",
   "id": "053fea5d",
   "metadata": {},
   "source": [
    "# <a id=\"7\"></a><font color=\"Navy\"><b>Operatörler (İşleçler)</b></font>"
   ]
  },
  {
   "cell_type": "markdown",
   "id": "4c550d0c",
   "metadata": {},
   "source": [
    "**Operatör (İşleç) :** Bilgisayarda işlemleri yürütüp gerçekleştiren (sonuçlandıran) öğelerdir. Python programlama dilinde:\n",
    "1. **Aritmetiksel (Matematiksel),**\n",
    "2. **Atama,**\n",
    "3. **Karşılaştırma (Kimlik-Üyelik),**\n",
    "4. **Mantıksal,**\n",
    "5. **Bit**<br>\n",
    "işleçleri bulunmaktadır. İşleçler sembol-simge olabileceği gibi bağlaç ve deyimlerden de oluşur."
   ]
  },
  {
   "cell_type": "markdown",
   "id": "d7e5dddd",
   "metadata": {},
   "source": [
    "## <a id=\"7.1\"></a><font color=\"maroon\">Aritmetiksel (Matematiksel) Operatörler</font>"
   ]
  },
  {
   "cell_type": "markdown",
   "id": "497d4efe-254b-4753-8575-21082b748c18",
   "metadata": {},
   "source": [
    "Programlama dillerinde aritmetik (matematiksel) işlemlerinin yapılabilmesi için kullanılan operatörlerdir."
   ]
  },
  {
   "cell_type": "markdown",
   "id": "068d37f0",
   "metadata": {},
   "source": [
    "|<font size=2> **OPERATÖR** |<font size=2> **İŞLEVİ**  |<font size=2> **AÇIKLAMA**    |<font size=2> **ÖRNEK**  |<font size=2> **ÇIKTI**    |\n",
    "|:-:|:-:|:-|:-:|:-:|\n",
    "|<font size=2> **+** |<font size=2> **Toplama** |<font size=2> Sayısal değişkenleri (integer, float vd.) matematiksel olarak toplar, sayısal olmayanları (string, list vd.) birleşitirir.|<font size=2> 3+5<br>\"3\"+\"5\"|<font size=2>8<br>'35'|\n",
    "|<font size=2> **-** |<font size=2> **Çıkarma** |<font size=2> Sayısal değişkenleri (integer, float vd.) matematiksel olarak çıkarır, sayısal olmayanlarda (string, list vd.) **hata verir**.|<font size=2> 2023-1923|<font size=2>100|\n",
    "|<font size=2> <b> * </b> |<font size=2> **Çarpma** |<font size=2> Sayısal değişkenleri (integer, float vd.) matematiksel olarak çarpar, sayısal olmayanlarda (string, list vd.) değişkeni kere yazdırır.|<font size=2> $$10*5$$<br>$$\"C\"*3$$|<font size=2> 50<br><br>'CCC'|\n",
    "|<font size=2> <b> / <b> |<font size=2> **Bölme** |<font size=2> Sayısal değişkenleri (integer, float vd.) matematiksel olarak böler, bölme işleminin sonucu her zaman 'float' tipidir.|<font size=2> 8/4|<font size=2>2.0|\n",
    "|<font size=2> <b> // <b> |<font size=2> **Bölüm** |<font size=2> Sayısal değişkenleri (integer, float vd.) matematiksel olarak böler ve bölüm kısmını verir. İşleminin sonucu her zaman işleme sokulan veri tipidir.|<font size=2> 13//5<br> 13.5//5|<font size=2>2<br>2.0|\n",
    "|<font size=2> <b> % <b> |<font size=2> **Kalan** |<font size=2> Diğer adı mod almadır. Sayısal değişkenleri (integer, float vd.) matematiksel olarak böler ve kalan kısmını verir. İşleminin sonucu her zaman işleme sokulan veri tipidir.|<font size=2> 13%5|<font size=2>3|\n",
    "|<font size=2> <b> ** <b> |<font size=2> **Üssü** |<font size=2> Sayısal değişkenleri (integer, float vd.) matematiksel olarak kuvvetini verir. İşleminin sonucu her zaman işleme sokulan veri tipidir.|<font size=2> 5**3|<font size=2>125|"
   ]
  },
  {
   "cell_type": "markdown",
   "id": "7837feb5",
   "metadata": {},
   "source": [
    "Aritmetiksel operatörler için örnekler:"
   ]
  },
  {
   "cell_type": "code",
   "execution_count": null,
   "id": "2aac5d7d",
   "metadata": {},
   "outputs": [],
   "source": [
    "toplam = 16+5\n",
    "birlestirme = \"16\"+\"5\" #string olan verileri '+' işleci ile kullanırsak stringleri yanyana birleştirir.\n",
    "fark = 16-5\n",
    "carpim = 16*5\n",
    "cogaltma = \"16\"*5 #string olan verileri integerler ile çarparsak string'i integer kadar yazmış oluruz.\n",
    "bolme = 16/5\n",
    "bolum = 16//5\n",
    "kalan = 16%5\n",
    "karesi = 16**2\n",
    "\n",
    "print (\"Toplam:{}\\nBirleştirme:{}\\nFark:{}\\nÇarpım: {}\\nBölme: {}\\nBölüm: {}\\nKalan: {}\\nKaresi; {}\\nÇoğaltılmış String: {}\"\n",
    "       .format(toplam,birlestirme,fark,carpim,bolme,bolum,kalan,karesi,cogaltma))"
   ]
  },
  {
   "cell_type": "markdown",
   "id": "95fea7cf",
   "metadata": {},
   "source": [
    "### <a id=\"7.1.1\"></a><font color=\"darkmagenta\">Aritmetiksel Bazı Fonksiyonlar (Gömülü Fonksiyonlar)</font>"
   ]
  },
  {
   "cell_type": "markdown",
   "id": "70db288d-0e01-4502-93f3-b585722170e5",
   "metadata": {},
   "source": [
    "- Verilen bir sayı dizisinin (integer tipi) toplamı **'sum()'** fonskiyonu ile alınır. Örnek: sum(1,3,5,7,12)\n",
    "- Bir sayı kümesindeki en büyük değeri bulmak için **'max()'** fonskiyonu kullanılır.\n",
    "- Bir sayı kümesindeki en küçük değeri bulmak için **'min()'** fonskiyonu kullanılır.\n",
    "- Bir sayının mutlak değeri (pozitif değeri) **'abs()'** fonskiyonu ile alınır.\n",
    "- Bir sayının hem bölümünü hem de kalanını aynı anda bulmak için **'divmod()'** fonskiyonu kullanılır. Örnek: divmod(10,3) yazarsak (3,1) olarak sonuç çıkar.\n",
    "- Bir sayıyı yuvarlamak için **'round()'** fonskiyonu kullanılır. Ondalık kısmı 5 ve 5'ten yukarı ise yukarı değilse aşağı yuvarlar.\n",
    "- Bir sayının üssünü almak için **'pow()'** fonskiyonu kullanılır. Örnek: pow(5,2)\n",
    "- Bir aralıktaki sayıları ele almak için **'range()'** fonskiyonu kullanılır. Örnek: range(-10,10)\n",
    "- Bir sayının 2'li sayı sistemindeki değerini bulmak için **'bin()'** fonskiyonu kullanılır.\n",
    "- Bir sayının 8'li sayı sistemindeki değerini bulmak için **'oct()'** fonskiyonu kullanılır.\n",
    "- Bir sayının 16'lı sayı sistemindeki değerini bulmak için **'hex()'** fonskiyonu kullanılır."
   ]
  },
  {
   "cell_type": "markdown",
   "id": "7247cf28",
   "metadata": {},
   "source": [
    "<div class=\"alert alert-info\"><b>Etkinlik:</b> Dünyanın en hızlı roketi ile dünyanın ekvator çevresinde bir tam turu toplam kaç dakikada tamamlanır? Roket hızını internetten araştırınız(Pi=3.14, Dünyanın ekvatoral yarıçapı: 6378 km)</div>"
   ]
  },
  {
   "cell_type": "code",
   "execution_count": null,
   "id": "5bf73f58",
   "metadata": {},
   "outputs": [],
   "source": [
    "#Roket Etkinliğinin Çözümü\n",
    "rokethizi = 532000\n",
    "ekvator = 6378\n",
    "pi = 3.14\n",
    "\n",
    "cevre = 2*pi*ekvator\n",
    "esure = 60*cevre/rokethizi #dakikaya çevirmek için ile çarptım.\n",
    "print (\"Dünyanın ekvator hizasındaki çevresini\",esure,\"dakikada tamamlar.\")\n",
    "\n",
    "#Roket Etkinliğinin Şık Çözümü\n",
    "h,r,p = 532000,6378,3.14\n",
    "print (\"Dünyanın ekvator hizasındaki çevresini\",round(60*2*p*r/h,2),\"dakikada tamamlar.\")"
   ]
  },
  {
   "cell_type": "markdown",
   "id": "5a94c2b3",
   "metadata": {},
   "source": [
    "<div class=\"alert alert-info\"><b>Etkinlik:</b> Babanızın yaşından annenizin yaşını çıkardıktan sonra kendi yaşınızı ekleyiniz ve evde yaşayan kişi sayısıyla çarpınız. Çıkan sayıyı kendi yaşınıza bölününce kalanın karesini alınız. Sonuç kaç?</div>"
   ]
  },
  {
   "cell_type": "markdown",
   "id": "7d3d6ce7",
   "metadata": {},
   "source": [
    "## <a id=\"7.2\"></a><font color=\"maroon\">Atama Operatörleri</font>\n"
   ]
  },
  {
   "cell_type": "markdown",
   "id": "2c4b1fef-d3cc-464a-bda6-709a217906a8",
   "metadata": {},
   "source": [
    "Programlama dillerinde değişkenlerinin değerlerinin belirlenmesi için kullanılan operatörlerdir."
   ]
  },
  {
   "cell_type": "markdown",
   "id": "b914c26a",
   "metadata": {},
   "source": [
    "|<font size=2> **OPERATÖR** |<font size=2> **İŞLEVİ**  |<font size=2> **AÇIKLAMA**    |<font size=2> **ÖRNEK**  |<font size=2> **ÇIKTI**    |\n",
    "|:-:|:-:|:-|:-:|:-:|\n",
    "|<font size=2> **=** |<font size=2> **Eşitle** |<font size=2> Değişkene yazılan değeri eşitler. Sağdaki değeri soldaki değişkene atar.|<font size=2> i=2|<font size=2>2|\n",
    "|<font size=2> **+=** |<font size=2> **Toplayarak Eşitle** |<font size=2> Değişkenin **varolan değerine** eşittirin sağındaki değeri ekleyerek eşitler.|<font size=2> i+=10|<font size=2>12|\n",
    "|<font size=2> **-=** |<font size=2> **Çıkararak Eşitle** |<font size=2> Değişkenin **varolan değerinden** eşittirin sağındaki değeri çıkararak eşitler.|<font size=2> i-=5|<font size=2>7|\n",
    "|<font size=2> <b>*=</b> |<font size=2> **Çarparak Eşitle** |<font size=2> Değişkenin **varolan değerini** eşittirin sağındaki değerle çarparak eşitler.|<font size=2> i*=8|<font size=2>56|\n",
    "|<font size=2> <b>/=</b> |<font size=2> **Bölerek Eşitle** |<font size=2> Değişkenin **varolan değerini** eşittirin sağındaki değere bölerek eşitler.|<font size=2> i/=4|<font size=2>14|\n",
    "|<font size=2> <b>%=</b> |<font size=2> **Kalana (Mod'a) Eşitle** |<font size=2> Değişkenin **varolan değerini** eşittirin sağındaki değere bölerek kalana eşitler.|<font size=2> i%=8|<font size=2>6|\n",
    "|<font size=2> <b>//=</b> |<font size=2> **Bölüm'e Eşitle** |<font size=2> Değişkenin **varolan değerini** eşittirin sağındaki değere bölerek bölüme eşitler.|<font size=2> i//=3|<font size=2>2|"
   ]
  },
  {
   "cell_type": "markdown",
   "id": "13802dd2",
   "metadata": {},
   "source": [
    "Atama operatörleri için örnekler:"
   ]
  },
  {
   "cell_type": "code",
   "execution_count": null,
   "id": "f93d9321",
   "metadata": {},
   "outputs": [],
   "source": [
    "i=16\n",
    "print(i)\n",
    "i+=4\n",
    "print(i)\n",
    "i-=5\n",
    "print(i)\n",
    "i*=2\n",
    "print(i)\n",
    "i/=3\n",
    "print(i)\n",
    "i%=6\n",
    "print(i)\n",
    "i//=3\n",
    "print(i)"
   ]
  },
  {
   "cell_type": "markdown",
   "id": "d73d3295",
   "metadata": {},
   "source": [
    "<div class=\"alert alert-info\"><b>Etkinlik:</b> Üç basamaklı en büyük sayıdan iki basamaklı en büyük sayıyı çıkarınız, sonra çıkan sonucu en büyük rakama bölünüz, ardından çıkan sonucu 4 ile çarpınız, elde edilen sonucun yaşınıza bölümünden kalanını bulunuz, çıkan sonuca  5 ekleyiniz. Sonuç kaç?</div>"
   ]
  },
  {
   "cell_type": "markdown",
   "id": "9ba3bf82",
   "metadata": {},
   "source": [
    "## <a id=\"7.3\"></a><font color=\"maroon\">Karşılaştırma Operatörleri</font>"
   ]
  },
  {
   "cell_type": "markdown",
   "id": "620ea27c-5b4b-4453-9357-abdbf13f86de",
   "metadata": {},
   "source": [
    "Programlama dillerinde değişkenleri&değerleri karşılaştırarak Doğru (True) veya Yanlış (False) bulma operatörüdür. Karşılaştırma işleçlerinden True veya False (boolean değer) haricinde bir çıktı olmaz."
   ]
  },
  {
   "cell_type": "markdown",
   "id": "3b55012d",
   "metadata": {},
   "source": [
    "|<font size=2> **OPERATÖR** |<font size=2> **İŞLEVİ**  |<font size=2> **AÇIKLAMA**    |<font size=2> **ÖRNEK**  |<font size=2> **ÇIKTI**    |\n",
    "|:-:|:-:|:-|:-:|:-:|\n",
    "|<font size=2> **==** |<font size=2> **Eşit mi?** |<font size=2> Eşittirlerin sağındaki ve solundaki değerleri karşılaştırır. Eşitse True, değilse False değeri verir.|<font size=2> \"TR\"==\"TR\"<br>3==5|<font size=2>True<br>False|\n",
    "|<font size=2> **!=** |<font size=2> **Farklı mı?** |<font size=2> Eşittirlerin sağındaki ve solundaki değerleri karşılaştırır. Farklıysa True, değilse False değeri verir.|<font size=2> \"TR\"!=\"TR\"<br>3!=5|<font size=2>False<br>True|\n",
    "|<font size=2> **<** |<font size=2> **Küçük mü?** |<font size=2> Eşittirlerin sağındaki ve solundaki değerleri karşılaştırır. Soldaki sağdakinden küçükse True, değilse False değeri verir. Sadece sayısal değerler için kullanılır.|<font size=2> 3<5<br>5<3|<font size=2>True<br>False|\n",
    "|<font size=2> **<=** |<font size=2> **Küçük veya Eşit mi?** |<font size=2> Eşittirlerin sağındaki ve solundaki değerleri karşılaştırır. Soldaki sağdakinden küçük veya eşitse True, değilse False değeri verir.|<font size=2> 5<=5<br>5<=3|<font size=2>True<br>False|\n",
    "|<font size=2> **>** |<font size=2> **Büyük mü?** |<font size=2> Eşittirlerin sağındaki ve solundaki değerleri karşılaştırır. Soldaki sağdakinden büyükse True, değilse False değeri verir. Sadece sayısal değerler için kullanılır.|<font size=2> 3>5<br>5>3|<font size=2>False<br>True|\n",
    "|<font size=2> **>=** |<font size=2> **Büyük veya Eşit mi?** |<font size=2> Eşittirlerin sağındaki ve solundaki değerleri karşılaştırır. Soldaki sağdakinden büyük veya eşitse True, değilse False değeri verir.|<font size=2> 5>=5<br>5>=7|<font size=2>True<br>False|"
   ]
  },
  {
   "cell_type": "markdown",
   "id": "e317bb7f",
   "metadata": {},
   "source": [
    "Karşılaştırma operatörleri için örnekler:"
   ]
  },
  {
   "cell_type": "code",
   "execution_count": null,
   "id": "b691655b",
   "metadata": {},
   "outputs": [],
   "source": [
    "sonuc = 3==5\n",
    "print(sonuc)\n",
    "sonuc = 3!=5\n",
    "print(sonuc)\n",
    "sonuc = \"TÜRKİYE\"==\"TR\"\n",
    "print(sonuc)\n",
    "sonuc = \"TÜRKİYE\"!=\"TR\"\n",
    "print(sonuc)\n",
    "print(\"------\")\n",
    "sonuc = 3<5\n",
    "print(sonuc)\n",
    "sonuc = 3>5\n",
    "print(sonuc)\n",
    "sonuc = 3<=5\n",
    "print(sonuc)\n",
    "sonuc = 3>=5\n",
    "print(sonuc)"
   ]
  },
  {
   "cell_type": "markdown",
   "id": "08d22805",
   "metadata": {},
   "source": [
    "<div class=\"alert alert-info\"><b>Etkinlik:</b> Türkiye'nin yıllık ekonomik büyüme oranı ile Dünya ekonomisinin ortalama büyümesi ile karşılaştırınız. Tüm karşılaştırma operatörleri ile deneyip ekrana yazdırınız.</div>"
   ]
  },
  {
   "cell_type": "markdown",
   "id": "c2cdb2f4",
   "metadata": {},
   "source": [
    "### <font color=\"darkmagenta\">Kimlik ve Üyelik Türü Karşılaştırmalar</font>"
   ]
  },
  {
   "cell_type": "markdown",
   "id": "ea5ec01b-a397-4bc2-bd45-06e6284bdffd",
   "metadata": {},
   "source": [
    "Değişkenlerin veya değerlerinin 'ne' olduğu veya 'ne' içerdiği ile ilgili karşılaştırmalardır."
   ]
  },
  {
   "cell_type": "markdown",
   "id": "25a2be3f",
   "metadata": {},
   "source": [
    "|<font size=2> **KARŞILAŞTIRMA** |<font size=2> **TİP**  |<font size=2> **AÇIKLAMA**    |<font size=2> **ÖRNEK**  |<font size=2> **ÇIKTI**    |\n",
    "|:-:|:-:|:-|:-:|:-:|\n",
    "|<font size=2> **is** |<font size=2> **Kimlik** |<font size=2> İki değişkenin veya nesnenin aynı olması durumunda TRUE değeri verir. Değilse False.|<font size=2> a is a|<font size=2>True|\n",
    "|<font size=2> **is not** |<font size=2> **Kimlik** |<font size=2> İki değişkenin veya nesnenin farklı olması durumunda TRUE değeri verir. Değilse False.|<font size=2> a is not a|<font size=2>False|\n",
    "|<font size=2> **in** |<font size=2> **Üyelik** |<font size=2> Solundaki değişken veya nesne, sağındaki değişkenin veya nesnenin içinde var ise TRUE değeri verir. Değilse False.|<font size=2> \"Türkiye\" in \"i\"|<font size=2>True|\n",
    "|<font size=2> **not in** |<font size=2> **Üyelik** |<font size=2> Solundaki değişken veya nesne, sağındaki değişkenin veya nesnenin içinde yok ise TRUE değeri verir. Değilse False.|<font size=2> \"Türkiye\" not in \"i\"|<font size=2>False|"
   ]
  },
  {
   "cell_type": "markdown",
   "id": "51b3673a",
   "metadata": {},
   "source": [
    "Kimlik ve üyelik türü karşılaştırmalara örnekler verelim."
   ]
  },
  {
   "cell_type": "code",
   "execution_count": null,
   "id": "04d22b9f",
   "metadata": {},
   "outputs": [],
   "source": [
    "s1 = \"İSTİKLAL HARBİ\"\n",
    "s2 = \"KURTULUŞ SAVAŞI\"\n",
    "q = \"U\"\n",
    "print(s1 is s2, s1 is not s2, s1 in q, s2 not in q)"
   ]
  },
  {
   "cell_type": "markdown",
   "id": "0a7656c4",
   "metadata": {},
   "source": [
    "<div class=\"alert alert-info\"><b>Etkinlik:</b> Kullanıcıdan aldığınız verinin her karakterini Türk alfabesi ile karşılaştırınız ve Türk alfabesinde olmayan değerleri ekrana yazdırınız.</div>"
   ]
  },
  {
   "cell_type": "markdown",
   "id": "33a61ebc",
   "metadata": {},
   "source": [
    "### <font color=\"darkmagenta\">String Değişken Tipine Ait Bazı Karşılaştırma Metotları</font>"
   ]
  },
  {
   "cell_type": "markdown",
   "id": "45ae8909",
   "metadata": {},
   "source": [
    "|<font size=2> **KARŞILAŞTIRMA** |<font size=2> **TİP**  |<font size=2> **AÇIKLAMA**    |<font size=2> **ÖRNEK**  |<font size=2> **ÇIKTI**    |\n",
    "|:-:|:-:|:-|:-:|:-:|\n",
    "|<font size=2> **endswith()** |<font size=2> **string** |<font size=2> Değişken belirli bir değer ile bitiyorsa TRUE değeri verir. Değilse False.|<font size=2> \"TR\".endswith(\"R\")|<font size=2>False|\n",
    "|<font size=2> **startswith()** |<font size=2> **string** |<font size=2> Değişken belirli bir değer ile başlıyorsa TRUE değeri verir. Değilse False.|<font size=2> \"TR\".startswith(\"T\")|<font size=2>True|\n",
    "|<font size=2> **isalnum()** |<font size=2> **string** |<font size=2> Değişken tamamen harf veya rakamlardan oluşuyorsa TRUE değeri verir. Değilse False.|<font size=2> \"TR1923\".isalnum()|<font size=2>True|\n",
    "|<font size=2> **isalpha()** |<font size=2> **string** |<font size=2> Değişken tamamen harflerden oluşuyorsa TRUE değeri verir. Değilse False.|<font size=2> \"TR1923\".isalpha()|<font size=2>False|\n",
    "|<font size=2> **isnumeric()** |<font size=2> **string** |<font size=2> Değişken tamamen rakamlardan (float veya integer) oluşuyorsa TRUE değeri verir. Değilse False.|<font size=2> \"1920\".isnumeric()|<font size=2>True|\n",
    "|<font size=2> **isdecimal()** |<font size=2> **string** |<font size=2> Değişken tamamen ondalık sayılardan oluşuyorsa TRUE değeri verir. Değilse False.|<font size=2> \"19.23\".isdecimal()|<font size=2>True|\n",
    "|<font size=2> **isdigit()** |<font size=2> **string** |<font size=2> Değişken tamamen rakamlardan oluşuyorsa TRUE değeri verir. Değilse False.|<font size=2> \"1923\".isdigit()|<font size=2>True|\n",
    "|<font size=2> **islower()** |<font size=2> **string** |<font size=2> Değişkendeki tüm harfler küçükse TRUE değeri verir. Değilse False.|<font size=2> \"TR\".islower()|<font size=2>False|\n",
    "|<font size=2> **isupper()** |<font size=2> **string** |<font size=2> Değişkendeki tüm harfler büyükse TRUE değeri verir. Değilse False.|<font size=2> \"TR\".isupper()|<font size=2>True|\n",
    "|<font size=2> **istitle()** |<font size=2> **string** |<font size=2> Değişkendeki tüm harfler büyük harfle başlıyor ve diğerleri küçükse TRUE değeri verir. Değilse False.|<font size=2> \"TR\".istitle()|<font size=2>False|\n",
    "|<font size=2> **isspace()** |<font size=2> **string** |<font size=2> Değişken tamamen boşluklardan oluşuyorsa TRUE değeri verir. Değilse False.|<font size=2> \"TR\".isspace()|<font size=2>False|"
   ]
  },
  {
   "cell_type": "code",
   "execution_count": null,
   "id": "fbd47c6e",
   "metadata": {},
   "outputs": [],
   "source": [
    "print(\"TÜRKİYE\".endswith(\"E\"))\n",
    "print(\"TÜRKİYE\".startswith(\"X\"))\n",
    "print(\"TÜRKİYE1923\".isalnum())\n",
    "print(\"TÜRKİYE\".isalpha())\n",
    "print(\"1923\".isnumeric())\n",
    "print(\"19.23\".isdecimal())\n",
    "print(\"1923\".isdigit())\n",
    "print(\"TÜRKİYE\".islower())\n",
    "print(\"TÜRKİYE\".isupper())\n",
    "print(\"Türkiye\".istitle())\n",
    "print(\"      \".isspace())"
   ]
  },
  {
   "cell_type": "markdown",
   "id": "75d3c191",
   "metadata": {},
   "source": [
    "<div class=\"alert alert-info\"><b>Etkinlik:</b> Kullanıcıdan aldığınız verinin her karakterini Türk alfabesi ile karşılaştırınız ve Türk alfabesinde olmayan değerleri ekrana yazdırınız. <b>Değerleri ekrana yazdırırken harf ve nümerikleri ayrı liste olarak yazdırınız.</b></div>"
   ]
  },
  {
   "cell_type": "markdown",
   "id": "c8bc5ff7",
   "metadata": {},
   "source": [
    "## <a id=\"7.4\"></a><font color=\"maroon\">Mantıksal Operatörler</font>"
   ]
  },
  {
   "cell_type": "markdown",
   "id": "7e44984d-756e-41b7-8910-efe2bab14520",
   "metadata": {},
   "source": [
    "Birden fazla karşılaştırma işleci kullanılacağı zaman karşılaştırmaların birlikte test edilmesini sağlayan operatörlerdir. \"VE(and) (bütün durumlar birlikte doğruysa)\", \"VEYA(or) (bütün durumlardan en az biri doğruysa)\" ve \"DEĞİL(not) (durumun tersi)\" olarak 3 tanedir. Sonuçları her zaman True veya False olur."
   ]
  },
  {
   "cell_type": "markdown",
   "id": "880926b6",
   "metadata": {},
   "source": [
    "|<font size=2> **OPERATÖR** |<font size=2> **İŞLEVİ**  |<font size=2> **AÇIKLAMA**    |<font size=2> **ÖRNEK**  |<font size=2> **ÇIKTI**    |\n",
    "|:-:|:-:|:-|:-:|:-:|\n",
    "|<font size=2> **and** |<font size=2> **VE** |<font size=2> Koşulların birlikte doğru olmasını test eder. Hepsi doğru ise True değeri verir. Herhangi birinin yanlış olması False değerini verir. |<font size=2> \"TR\"==\"TR\" and \"TR\"!=\"TC\"|<font size=2>True|\n",
    "|<font size=2> **or** |<font size=2> **VEYA** |<font size=2> Koşulların herhangi birinin doğru olmasını test eder. Herhangi biri doğru ise True değeri verir. Hiçbiri doğru değilse False değerini verir. |<font size=2> \"TR\"==\"TR\" or \"TR\"!=\"TC\"|<font size=2>True|\n",
    "|<font size=2> **not** |<font size=2> **DEĞİL** |<font size=2> Koşulun tersini test eder. Tersi doğru ise True değeri verir. Yanlış ise False değerini verir. |<font size=2> \"TR\"==\"TR\" or \"TR\"!=\"TC\"|<font size=2>True|"
   ]
  },
  {
   "cell_type": "code",
   "execution_count": null,
   "id": "b9d59fb8",
   "metadata": {},
   "outputs": [],
   "source": [
    "i = 1923\n",
    "s = \"TR\"\n",
    "l = [\"T\",\"Ü\",\"R\",\"K\",\"İ\",\"Y\",\"E\",1923]\n",
    "print (i==1923 and s==\"TR\")\n",
    "print (i==19 and s==\"TR\")\n",
    "print (i==19 or s==\"TR\")\n",
    "print (not i==19 or not s==\"TR\")\n",
    "print (not i==1923 and not s==\"TR\")\n",
    "print (not i==1923 or not s==\"TR\")\n",
    "print (s in l and i in l)\n",
    "print (s in l or i in l)"
   ]
  },
  {
   "cell_type": "markdown",
   "id": "53c70839",
   "metadata": {},
   "source": [
    "<div class=\"alert alert-info\"><b>Etkinlik:</b> Türk alfabesi ve İngiliz alfabesi olarak iki ayrı liste oluşturunuz. Sonra kullancıdan harf verisi alınız. Kullanıcının yazdığı harfin iki alfabede de arayıp sonucu ekrana yazan algoritmayı yazınız.</div>"
   ]
  },
  {
   "cell_type": "markdown",
   "id": "4cd6ea18",
   "metadata": {},
   "source": [
    "## <a id=\"7.5\"></a><font color=\"maroon\">Bit Operatörler</font> <font color=\"red\"> Sadece integer tip için kullanılabilir!</font>"
   ]
  },
  {
   "cell_type": "markdown",
   "id": "7d7779ec-a0c4-4ca1-a159-d98f12c5d458",
   "metadata": {},
   "source": [
    "Bilgisayarlar, her türlü bilgiyi bit adı verilen ikili rakamlar akışı olarak depolar. Bu bitler arasında karşılaştırmalar bitsel operatörler ile yapılır. Devre kartları gibi fiziksel cihazları kontrol etmede, sıkıştırma, şifreleme ve hata algılama gibi algoritmaları uygulamak için bitsel operatörleri kullanılır. Mantıksal operatörler gibidir."
   ]
  },
  {
   "cell_type": "markdown",
   "id": "88bdfa1a",
   "metadata": {},
   "source": [
    "|<font size=2> **OPERATÖR** |<font size=2> **İŞLEVİ**  |<font size=2> **AÇIKLAMA**    |<font size=2> **ÖRNEK**  |<font size=2> **ÇIKTI**    |\n",
    "|:-:|:-:|:-|:-:|:-:|\n",
    "|<font size=2> <b> & </b> |<font size=2> <b> and </b> |<font size=2> Karşılıklı bitleri kontrol ederek ikisi de 1 olanları açar, diğerlerini kapatır. |<font size=2> 10 & 10 <br> 10 & 5|<font size=2> 10 <br> 0 |\n",
    "|<font size=2> <b> I </b> |<font size=2> <b> or </b> |<font size=2> Karşılıklı bitleri kontrol ederek herhangi biri 1 olanları açar, diğerlerini kapatır. |<font size=2> 10 l 10 <br> 10 I 5|<font size=2> 10 <br> 15 |\n",
    "|<font size=2> <b> ^ </b> |<font size=2> <b> xor </b> |<font size=2> Karşılıklı bitleri kontrol ederek karışılıklı 0-0, 1-0 veya 0-1 olanları açar, diğerlerini kapatır. |<font size=2> 10 ^ 10 <br> 10 ^ 5|<font size=2> 0 <br> 15 |\n",
    "|<font size=2> <b> ~ </b> |<font size=2> <b> not </b> |<font size=2> Karşılıklı bitleri kontrol ederek tersine çevirir. |<font size=2> ~10 <br> ~5|<font size=2> -11 <br> -6 |"
   ]
  },
  {
   "cell_type": "code",
   "execution_count": null,
   "id": "b17f145d",
   "metadata": {},
   "outputs": [],
   "source": [
    "a = 10\n",
    "b = 5\n",
    "c=10\n",
    "print(a&b)\n",
    "print(a&c)\n",
    "print(a|b)\n",
    "print(a|c)\n",
    "print(a^b)\n",
    "print(a^c)\n",
    "print(~b)"
   ]
  },
  {
   "cell_type": "markdown",
   "id": "916b0274",
   "metadata": {},
   "source": [
    "Bitsel operatörlerin çalışma mantığı (Zaczyński, 2020):<br>\n",
    "<img src=\"img/and.webp\">\n",
    "<img src=\"img/or.webp\">\n",
    "<img src=\"img/xor.webp\">\n",
    "<img src=\"img/not.webp\">"
   ]
  },
  {
   "cell_type": "markdown",
   "id": "56a1052e",
   "metadata": {},
   "source": [
    "# <a id=\"8\"></a><font color=\"Navy\"><b>Python Kütüphaneleri (Modüller)</b></font>"
   ]
  },
  {
   "cell_type": "markdown",
   "id": "0a2fea82",
   "metadata": {},
   "source": [
    "Python'da standart olan (gömülü olan) modüller ile print(), input(), len() gibi fonksiyonları kullanmaktayız.<br>\n",
    "Bunların haricinde python ile birlikte gelen ama gömülü olmayan yani kodlama esnasında içeri aktarmamız (import) gereken kütüphaneler de var. Bunlar 'math', 'random', 'time', 'os' 'turtle', 'tkinter' vb. kütüphanelerdir. <a href=\"https://docs.python.org/3/py-modindex.html\" target=\"_blank\">Tam listesi için buraya bakınız.</a><br>\n",
    "**Kütüphaneler 3 farklı şekilde import edilebilir.**<br>\n",
    "1. from <i>kütüphane_adi</i> import <i>fonksiyon_adi</i> şeklinde\n",
    "2. import <i>kütüphane_adi</i> şeklinde\n",
    "3. import <i>kütüphane_adi</i> as <i>takma_ad</i> şeklinde<p>\n",
    "**İlk şekildeki** gibi aktarırsak **ilgili kütüphanenin sadece adı belirtilen fonksiyonunu** doğrudan bir python fonksiyonu gibi başına **kütüphane önekini getirmeden kullanırız.** Örneğin 'from a import b' yazarsak a kütüphanesinin b fonksiyonunu kodlarımızda 'b()' olarak kullanırız. Bu kullanım ile başka bir kütüphaneden aktarılan başka bir fonksiyon ile isimlerinin çakışmayacağından emin olamayız. Bu sebeple pek tercih edilmemelidr.<br>\n",
    "**İkinci şekildeki** gibi aktarırsak **ilgili kütüphanenin tüm fonksiyonları** gelir. Bu şekilde aktarılan kütüphane fonksiyonlarının başına kütüphane adı önek olarak getirilebilir. Örneğin 'import a' yazarsak a kütüphanesinin herhangi bir fonksiyonunu a.b() olarak kullanabiliriz. Bu durumda başka kütüphanelerle isim karışıklığının önüne geçilmiş olur.<br>\n",
    "**Üçüncü şekildeki** gibi aktarırsak ikinci şekildeki gibi kütüphane adını önek olarak kullanabiliriz fakat bu önek direkt kütüphane adı değil 'as' deyiminden sonra yazdığımız değer olur. Örneğin 'import matematik as mat' yazarsak matematik kütüphanesinin fonksiyonlarını mat.hesap() olarak yazabiliriz.<br>\n",
    "Aşağıda kütüphaneleri aktarılma yöntemleriyle örneklendirelim."
   ]
  },
  {
   "cell_type": "markdown",
   "id": "29e51718",
   "metadata": {},
   "source": [
    "## <a id=\"8.1\"></a><font color=\"maroon\">Math Kütüphanesi</font>"
   ]
  },
  {
   "cell_type": "markdown",
   "id": "e21890bf-7acb-4a0d-b2fb-24dfdbd50c25",
   "metadata": {},
   "source": [
    "Standart olarak kullanamadığımız matematiksel fonksiyonları barındırır. import math veya from math import * olarak aktarılabilir."
   ]
  },
  {
   "cell_type": "markdown",
   "id": "dbaf4e82-b933-4b77-9083-bdcf55494a7c",
   "metadata": {},
   "source": [
    "### <a id=\"8.1.1\"></a><font color=\"darkmagenta\">Math Kütüphanesi ile Gelen Matematiksel Bazı Fonskiyonlar</font>"
   ]
  },
  {
   "cell_type": "markdown",
   "id": "d4c7baad-a38b-4cfb-94be-7b897bc9caab",
   "metadata": {},
   "source": [
    "- Bir sayıyı aşağı yuvarlamak için **'math.ceil()'** fonskiyonu kullanılır.\n",
    "- Bir sayıyı yukarı yuvarlamak için **'math.floor()'** fonskiyonu kullanılır.\n",
    "- Bir sayının işaretini (+,-) başka bir sayıya aktarmak için **'math.copysign()'** fonskiyonu kullanılır. Örneğin math.copysign(5,-12) yazarsak sonuç -5 olur.\n",
    "- Bir sayının float olarak mutlak değeri **'math.fabs()'** fonskiyonu ile alınır.\n",
    "- Bir sayının faktöriyelini bulmak için **'math.factorial()'** fonskiyonu kullanılır.\n",
    "- Bir sayının başka bir sayıya bölümünden kalanı flolat olarak bulmak için **'math.fmod()'** fonskiyonu kullanılır. Özellikle negatif sayılarda doğru sonuç verir.\n",
    "- Flolat tipindeki sayıların toplamını bulmak için **'math.fsum()'** fonskiyonu kullanılır.\n",
    "- Verilen sayıların EBOB'unu bulmak için **'math.gcd()'** fonskiyonu kullanılır. Örnek: math.gcd(sayi1,sayi2,sayi3)\n",
    "- Pi sayısını kullanmak için **'math.pi()'** fonskiyonu kullanılır.\n",
    "- Bir karekökünü bulmak için **'math.sqrt()'** fonskiyonu kullanılır."
   ]
  },
  {
   "cell_type": "markdown",
   "id": "a49d6faa-a6d4-41a1-8ede-327ad78339ad",
   "metadata": {},
   "source": [
    "<div class=\"alert alert-info\"><b>Etkinlik:</b> Kendi yaşınızı float olarak hesaplayıp (örn: (2022-2004)+5/12) yaşınızı aşağı ve yukarı yuvarlayınız.</div>"
   ]
  },
  {
   "cell_type": "markdown",
   "id": "1206cbd7-f043-4695-baaa-8e9d27144ff0",
   "metadata": {},
   "source": [
    "<div class=\"alert alert-info\"><b>Etkinlik:</b> Evinizde yaşayanların yaşlarını float olarak hesaplayıp (örn: (2022-2004)+5/12) yaşları toplayınız.</div>"
   ]
  },
  {
   "cell_type": "markdown",
   "id": "5c613068-912e-42d6-aae5-3853878c3502",
   "metadata": {},
   "source": [
    "<div class=\"alert alert-info\"><b>Etkinlik:</b> 7 sayısının faktöriyeli ile 4 sayısının faktöriyelinin EBOB'unu bulunuz.</div>"
   ]
  },
  {
   "cell_type": "raw",
   "id": "04691c8a-bde2-4d47-8472-a8be80f51caf",
   "metadata": {},
   "source": [
    "<div class=\"alert alert-info\"><b>Etkinlik:</b> Bir çemberin çevresi 2*Pi sayısı*Çemberin Yarıçapıdır. Buna göre yarıçapı 19.23 olan çemberin çevresini hesaplayınız.</div>"
   ]
  },
  {
   "cell_type": "markdown",
   "id": "23fed33a-e197-4c30-b9dd-ea13e8dded02",
   "metadata": {},
   "source": [
    "<div class=\"alert alert-info\"><b>Etkinlik:</b> Cumhuriyetimizin yaşının karekökünü bulunuz.</div>"
   ]
  },
  {
   "cell_type": "markdown",
   "id": "6ba21102",
   "metadata": {},
   "source": [
    "## <a id=\"8.2\"></a><font color=\"maroon\">Random Kütüphanesi</font>"
   ]
  },
  {
   "cell_type": "markdown",
   "id": "dcf64328-5499-4ec0-9f52-02935dbaf57f",
   "metadata": {},
   "source": [
    "Rassalık (rasgele) işlemlerini yapmamızı sağlayan fonksiyonları barındırır. import random veya from random import * olarak aktarılabilir."
   ]
  },
  {
   "cell_type": "markdown",
   "id": "69dbcae0-17e8-4ba1-a52a-5fb23f96a0d2",
   "metadata": {},
   "source": [
    "### <a id=\"8.2.1\"></a><font color=\"darkmagenta\">Random Kütüphanesi ile Gelen Bazı Fonskiyonlar</font>"
   ]
  },
  {
   "cell_type": "markdown",
   "id": "395e459a-5914-4e12-a009-9ae334a7a3b6",
   "metadata": {},
   "source": [
    "- 0 ile 1 arasında rasgele bir sayı (float) üretmek için **'random.random()'** fonskiyonu kullanılır.\n",
    "- Bir aralıkta rasgele bir sayı (float) üretmek için **'random.uniform()'** fonskiyonu kullanılır. Örnek: random.uniform(1,20)\n",
    "- Bir aralıkta rasgele integer bir sayı üretmek için **'random.randint()'** fonskiyonu kullanılır. Örneğin random.randint(1,100) ile 1 ile 100 sayıları arasında rasgele bir sayı üretilir.\n",
    "- Bir aralıkta rasgele integer bir sayı üretmek için **'random.randrange()'** fonskiyonu kullanılır. randint()'ten farkı, aralıkta belirli bir artış vererek rassal sayı ihtimalini biçimlendiririz. Örneğin random.randrange(0,100,5) ile 0 ile 100 sayıları arasında 0'dan başlayarak 5'er 5'er artan sayılardan rasgele bir sayı üretilir.\n",
    "- Bir listedeki elemanları rasgele karıştırmak için **'random.shuffle()'** fonskiyonu kullanılır. Örnek random.shuffle(liste_adi)\n",
    "- Bir listedeki elemanlardan rasgele birini seçmek için **'random.choice()'** fonskiyonu kullanılır. Örnek random.choice(liste_adi)\n",
    "- Bir listedeki elemanlardan rasgele birkaçını seçmek için **'random.sample()'** fonskiyonu kullanılır. Örnek random.choice(liste_adi,secilecek_eleman_sayisi)"
   ]
  },
  {
   "cell_type": "markdown",
   "id": "ad17b8be-c594-4d8f-87da-0dddaa8cb636",
   "metadata": {},
   "source": [
    "<div class=\"alert alert-info\"><b>Etkinlik:</b> Art arda 5 tane 1 ile 20 arasında rassal tam sayı oluşturunuz.</div>"
   ]
  },
  {
   "cell_type": "markdown",
   "id": "49c7c9ea-f288-45bb-b8e9-d1a16587b5ed",
   "metadata": {},
   "source": [
    "<div class=\"alert alert-info\"><b>Etkinlik:</b> 1 ile 50 arasında sadece çift sayılardan rassal tam sayı oluşturunuz.</div>"
   ]
  },
  {
   "cell_type": "markdown",
   "id": "77f979fc-d859-4539-8731-27ea7f7e52de",
   "metadata": {},
   "source": [
    "<div class=\"alert alert-info\"><b>Etkinlik:</b> 1 ile 100 arasında sadece 13'ün katlarından rassal tam sayı oluşturunuz.</div>"
   ]
  },
  {
   "cell_type": "markdown",
   "id": "571a27fb-628f-4d89-ab20-9433823f9452",
   "metadata": {},
   "source": [
    "<div class=\"alert alert-info\"><b>Etkinlik:</b> Rasgele float oluşturduğunuz negatif bir sayıdan o sayının tam kısmını çıkararak -1'den büyük 0'dan küçük bir rasgele sayı oluşturunuz.</div>"
   ]
  },
  {
   "cell_type": "markdown",
   "id": "02a03ba1-6472-4c32-84a2-a5dc76620009",
   "metadata": {},
   "source": [
    "<div class=\"alert alert-info\"><b>Etkinlik:</b> Taş kağıt makas oyunu için oluşturulan liste tipi değişkenden makinenin seçimini rassal bir şekilde ekrana yazdırınız.</div>"
   ]
  },
  {
   "cell_type": "markdown",
   "id": "7bb5d694-f291-47ed-adbd-2ecc9436dc4b",
   "metadata": {},
   "source": [
    "<div class=\"alert alert-info\"><b>Etkinlik: </b>Bir market müşterilerinin TC No ve alışveriş tutarlarını sözlük tipinde bir değişkenle tutmaktadır. Market 250 TL ve üzeri alışveriş yapan müşterilerinden rasgele 3'üne 500TL'lik hediye çeki verecektir. Bu akışı gerçekleştiren kodları yazınız.</div>"
   ]
  },
  {
   "cell_type": "markdown",
   "id": "d61a658e",
   "metadata": {},
   "source": [
    "## <a id=\"8.3\"></a><font color=\"maroon\">Time ve Datetime Kütüphanesi</font>"
   ]
  },
  {
   "cell_type": "markdown",
   "id": "ca5d9033-fc3f-455e-9ad3-b59ed53d393e",
   "metadata": {},
   "source": [
    "Süre (Saat, Saniye), Tarih (Gün, Ay, Yıl) vb. elemanlarla işlemler yapmamızı sağlayan fonksiyonları barındırır.<br>\n",
    "import time veya from time import * ile import datetime veya from datetime import * olarak aktarılabilir.<br>\n",
    "Python için zamanın başlangıç noktası (epoch: belirli, kesin tarih) 1 Ocak 1970 olarak belirlenmiştir."
   ]
  },
  {
   "cell_type": "markdown",
   "id": "791b9f4d-4ac3-49dd-9e1c-23c4c2609ced",
   "metadata": {},
   "source": [
    "### <a id=\"8.3.1\"></a><font color=\"darkmagenta\">Time Kütüphanesi ile Gelen Bazı Fonskiyonlar</font>"
   ]
  },
  {
   "cell_type": "markdown",
   "id": "fedd7baa-0053-4553-9983-ea085857e1e4",
   "metadata": {},
   "source": [
    "- 1 Ocak 1970 tarihinden itibaren geçen süre float tipinde saniye olarak **'time.time()'** fonskiyonu ile alınır.\n",
    "- **'time.gmtime()'** fonksiyonu ile float tipinde saniye olarak verilen süreyi 1 Ocak 1970 tarihine ekler ve yıl, ay, gün, saat, dakika, saniye, haftanın günü, yılın günü ve dts olarak 9 farklı değerde çıktı verir. Boş bırakılırsa kodun çalıştığı andaki zamana göre hesap eder. Saat dilimi (GMT) 0 olarak hesaplanır.\n",
    "- **'time.localtime()'** fonksiyonu ile sistemdeki saat-tarih bilgileri yıl, ay, gün, saat, saniye vb. olarak çıktı alınır.\n",
    "- **'time.asctime()'** fonksiyonu ile \"Haftanın Günü, Ay, Gün Sayısı, Saat:Dakika:Saniye, Yıl\" olarak çıktı alınır. Parametre olarak sadece **gm.time() fonksiyonunun çıktısına uygun bir girdi alır.** Boş bırakılırsa çalıştığı andaki zaman-tarih alınır.\n",
    "- **'time.ctime()'** fonksiyonu ile \"Haftanın Günü, Ay, Gün Sayısı, Saat:Dakika:Saniye, Yıl\" olarak çıktı alınır. Parametre olarak **saniye cinsinden float/integer değer girilir.** Boş bırakılırsa çalıştığı andaki zaman-tarih alınır.\n",
    "- **'time.sleep()'** fonksiyonu ile \"bekle\" blokları gibi kodların çalışmasını istediğimiz sürede durdururuz. Örnek: time.sleep(2) 'devamındaki kodu çalıştırmadan önce 2 saniye bekler.\n",
    "- **'time.strftime()'** fonksiyonu ile asctime() fonksiyonuna ait bilgileri parçalayarak elde edebiliriz. Örneğin: print(time.strftime(%A)) ile haftanın tam gün adını (Sunday, Monday vb.) alırız. Bu fonksiyonun parametreleri:\n",
    " - **'time.strftime(%a)'** Hafta Günü Kısaltılmış\n",
    " - **'time.strftime(%A)'** Hafta Gün Tam Adı\n",
    " - **'time.strftime(%b)'** Ayın Kısaltılmış Adı\n",
    " - **'time.strftime(%B)'** Ayın Tam Adı\n",
    " - **'time.strftime(%c)'** Tam Tarih, Saat Ve Zaman Bilgisi\n",
    " - **'time.strftime(%d)'** Sayısal Olarak Gün\n",
    " - **'time.strftime(%j)'** Yılın Kaçıncı Günü Olduğu\n",
    " - **'time.strftime(%m)'** Sayısal Olarak Ay\n",
    " - **'time.strftime(%U)'** Kaçıncı Hafta Olduğu\n",
    " - **'time.strftime(%y)'** Yılın Son İki Rakamı\n",
    " - **'time.strftime(%Y)'** Yılın Dört Haneli Tam Hali\n",
    " - **'time.strftime(%x)'** Tam Tarih Bilgisi\n",
    " - **'time.strftime(%X)'** Tam Saat Bilgisi"
   ]
  },
  {
   "cell_type": "markdown",
   "id": "30f7b9bf-6db2-4a6f-a052-1a9ac61f2f27",
   "metadata": {},
   "source": [
    "### <font color=\"darkmagenta\">Datetime Kütüphanesi ile Gelen Bazı Fonskiyonlar</font>"
   ]
  },
  {
   "cell_type": "markdown",
   "id": "bb7984a3-77e2-4b76-8506-395d9d5f252b",
   "metadata": {},
   "source": [
    "- **'datetime.date(yyyy,aa,gg)'** fonskiyonu ile girilen değerler ISO formatında tarihi elde edilir. Sistemdeki günü almak için **'datetime.date.today()'** metodu da vardır.\n",
    "- **'datetime.time(saat,dakika,saniye,milisaniye)'** fonksiyonu ile girilen değerler parametrede görülen formatta zaman elde edilir. Bu parametreler tamamen girilmek zorunda değildir. Sadece dakika belirlemek datetime.time(minute=5) gibi 5 dakika tanımlayabilirsiniz:\n",
    "  - Saat: hour, dakika: minute, saniye: second, milisaniye: microsecond olarak kodlanır.\n",
    "- **'datetime.datetime(yyyy,aa,gg)'** fonskiyonu ile tarih (date) ve saat (time) birlikte olarak elde edilir. Ayrıca sonunda milisaniye (microsaniye) değeri de bulunur.\n",
    "- **'datetime.timedelta()'** fonksiyonu ile tarih işlemleri (ekleme vb.) yapılır. Örneğin bir tarih tipinde değişkene 2 gün eklemek için: ekleme=tarih+datetime.timedelta(days=2) yazılır.\n",
    "  - Gün: days, Saat: hours, Dakika: minutes, Saniye: seconds olarak kodlanır.\n",
    "- **'datetime.date.weekday()'** fonksiyonu ile parametre olarak girilen değerin haftanın günü cinsinden çıktısı verilir. Örneğin: datetime.date.weekday(now)\n",
    "Not: **strftime** fonksiyonu datetime kütüphanesinin time ve date fonksiyonları için de kullanılır."
   ]
  },
  {
   "cell_type": "markdown",
   "id": "e4700a78-aadd-4f7b-82c9-a14ec97e97e3",
   "metadata": {},
   "source": [
    "<div class=\"alert alert-info\"><b>Etkinlik: </b>Doğum tarihinizi bir tarih tipi değişken olarak girdikten sonra doğum tarihinizden bugüne kaç saniye geçmiş hesaplayınız.</div>"
   ]
  },
  {
   "cell_type": "markdown",
   "id": "ac0ac9ed-a6fe-467f-b0b8-8484ef805085",
   "metadata": {},
   "source": [
    "<div class=\"alert alert-info\"><b>Etkinlik: </b>Doğum tarihinizi bir tarih tipi değişken olarak girdikten sonra o gün haftanın hangi günü imiş, bulunuz.</div>"
   ]
  },
  {
   "cell_type": "markdown",
   "id": "fac0df3f",
   "metadata": {},
   "source": [
    "## <a id=\"8.4\"></a><font color=\"maroon\">OS (İşletim Sistemi) Kütüphanesi</font>"
   ]
  },
  {
   "cell_type": "markdown",
   "id": "aa58fef1-6ab3-4a64-bf17-fa15de96d20b",
   "metadata": {},
   "source": [
    "İşletim sistemine ait yetenekleri (dosya-klasör-silme-oluşturma vb.) kullanmamızı sağlayan fonksiyonları barındırır. import os veya from os import * olarak aktarılabilir."
   ]
  },
  {
   "cell_type": "markdown",
   "id": "f0e328ad-f984-4576-8932-69f33fbeaa44",
   "metadata": {},
   "source": [
    "### <a id=\"8.4.1\"></a><font color=\"darkmagenta\">OS Kütüphanesi ile Gelen Bazı Fonskiyonlar</font>"
   ]
  },
  {
   "cell_type": "markdown",
   "id": "8837b269-af03-4e87-aab1-3e8e0cae43aa",
   "metadata": {},
   "source": [
    "- İşletim sistemi arabirimini öğrenmek için **'os.name()'** fonskiyonu kullanılır. (Windows mu Linux mu vb.)\n",
    "- İçinde çalışılan dizin ve yolunu öğrenmek için **'os.getcwd()'** fonskiyonu kullanılır.\n",
    "- İçinde çalışılan dizin ve yolun string değişken hali için **'os.curdir()'** fonskiyonu kullanılır.\n",
    "- Kullanılan işletim sisteminin kullandığı dizin ayracını öğrenmek için **'os.sep()'** fonskiyonu kullanılır.\n",
    "- İçinde çalışılan dizini değiştirmek için **'os.chdir()'** fonskiyonu kullanılır.\n",
    "- Bir dizin içindeki dosya ve klasörleri listelemek için **'os.listdir()'** fonskiyonu kullanılır.\n",
    "- Bir üst dizin içindeki dosya ve klasörleri listelemek için **'os.pardir()'** fonskiyonu kullanılır.\n",
    "- Bir dosyayı başlatmak veya bir dizin açmak için **'os.startfile()'** fonskiyonu kullanılır. Sadece windows işletim sisteminde çalışır.\n",
    "- İçinde çalışılan dizinin içinde yeni dizin oluşturmak için **'os.mkdir()'** fonskiyonu kullanılır.\n",
    "- İçinde çalışılan dizinin içinde yeni dizin ve alt dizinler oluşturmak için **'os.mkdirs()'** fonskiyonu kullanılır.\n",
    "- İçinde çalışılan dizinin içinde bulunan dizinlerin adlarını değiştirmek için **'os.rename()'** veya **'os.replace()'** fonskiyonu kullanılır. Örnek: os.rename(dizinin_Varolan_Adi,dizinin_Yeni_Adi)\n",
    "- İçinde çalışılan dizinde bulunan 'dosyaları' silmek için **'os.remove()'** fonskiyonu kullanılır.\n",
    "- İçinde çalışılan dizinde bulunan 'boş 1 dizini' silmek için **'os.rmdir()'** fonskiyonu kullanılır.\n",
    "- İçinde çalışılan dizinde bulunan 'boş dizinleri' silmek için **'os.removedirs()'** fonskiyonu kullanılır.\n",
    "- İçinde çalışılan dizinde bulunan 'dosyaya ait öznitelik bilgileri' için **'os.stat()'** fonskiyonu kullanılır.\n",
    "- Bir dosya yolunun dizin kısmını elde etmek için **'os.path.dirname()'** fonskiyonu kullanılır.\n",
    "- Bir dosya veya yolun varolduğunu kontrol etmek için **'os.path.exists()'** fonskiyonu kullanılır.\n",
    "- Kullanıcıya ait dizin adresi için **'os.path.expanduser()'** fonskiyonu kullanılır. Örnek: os.path.expanduser('~')\n",
    "- Bir değerin dizin olup olmadığını kontrol etmek için **'os.path.isdir()'** fonskiyonu kullanılır.\n",
    "- Bir değerin dosya olup olmadığını kontrol etmek için **'os.path.isfile()'** fonskiyonu kullanılır.\n",
    "- Verilen parametreler ile işletim sistemine ait ayracı kullanarak yol oluşturmak  için **'os.path.join()'** fonskiyonu kullanılır."
   ]
  },
  {
   "cell_type": "markdown",
   "id": "73d3a3f1-fd7c-4551-b066-46e25b047e08",
   "metadata": {},
   "source": [
    "<div class=\"alert alert-info\"><b>Etkinlik: </b>Bilgisayarınızın C: diskinde bir \"Denenme\" isimli klasör oluşturunuz. Ardından bu klasörün adını \"Python\" olarak değiştiriniz sonrasında bu klasörü siliniz.</div>"
   ]
  },
  {
   "cell_type": "markdown",
   "id": "2693fd86-ff12-4552-8470-c34ca8dbcbe5",
   "metadata": {},
   "source": [
    "<div class=\"alert alert-info\"><b>Etkinlik: </b>Bilgisayarınızda bulunan bir dosyayı açınız.</div>"
   ]
  },
  {
   "cell_type": "markdown",
   "id": "c68013ae",
   "metadata": {},
   "source": [
    "## <a id=\"8.5\"></a><font color=\"maroon\">Turtle Kütüphanesi</font>"
   ]
  },
  {
   "cell_type": "markdown",
   "id": "6ae1c0b1-9bc2-40f8-9a6a-b876998ab07b",
   "metadata": {},
   "source": [
    "Öğretim amaçlı 2 Boyutlu çizim kütüphanesidir. Geometrik çizimler yapmamızı sağlayan fonksiyonları barındırır. import turtle veya from random turtle * olarak aktarılabilir.<br> Varsayılan olarak turtle 0° (sağa dönük) ve kalem basılı olarak başlar. Not: Jupyter Notbeook ile kullanılınca son satıra turtle.done() yazılmalıdır yoksa her çalıştırmada hata alınır."
   ]
  },
  {
   "cell_type": "markdown",
   "id": "65cd6316-1a76-43bc-8c29-571dcd639ac9",
   "metadata": {},
   "source": [
    "### <a id=\"8.5.1\"></a><font color=\"darkmagenta\">Turtle Kütüphanesi ile Gelen Bazı Fonskiyonlar</font>"
   ]
  },
  {
   "cell_type": "markdown",
   "id": "26e1197c-1a70-4c43-8501-0c267e4dd92d",
   "metadata": {},
   "source": [
    "- Bulunduğu derece yönüne doğru belirlenen pixel büyüklüğünde çizgi çizmek için **'turtle.forward()'** fonskiyonu kullanılır. Örnek: turtle.forward(100) (sağa doğru 100 pixel çizgi çizdi)\n",
    "- Bulunduğu derecenin tersi yönüne doğru belirlenen pixel büyüklüğünde çizgi çizmek için **'turtle.backward()'** fonskiyonu kullanılır. Örnek: turtle.backward(100) (sola doğru 100 pixel çizgi çizdi)\n",
    "- Bulunduğu dereceden belirlenen değerde sola döndürmek için **'turtle.left()'** fonskiyonu kullanılır.\n",
    "- Bulunduğu dereceden belirlenen değerde sağa döndürmek için **'turtle.right()'** fonskiyonu kullanılır.\n",
    "- Kalem kalınlığını değiştirmek için **'turtle.pensize()'** fonskiyonu kullanılır.\n",
    "- Kalem rengini değiştirmek için **'turtle.color()'** fonskiyonu kullanılır.\n",
    "- (Renkle) Doldurma işlemini başlatmak için **'turtle.begin_fill()'** fonskiyonu kullanılır. Parametresiz kullanılır. Kalem renginde doldurur.\n",
    "- (Renkle) Doldurma işlemini bitirmek için **'turtle.end_fill()'** fonskiyonu kullanılır.\n",
    "- Belirlenen yarıçap değerinde daire çizmek için **'turtle.circle()'** fonskiyonu kullanılır.\n",
    "- Çizme hızını belirlemek için **'turtle.speed()'** fonskiyonu kullanılır.\n",
    "- Kalemi kaldırmak (çizmemesi) için **'turtle.penup()'** fonskiyonu kullanılır.\n",
    "- Kalemi bastırmak (çizmesi) için **'turtle.pendown()'** fonskiyonu kullanılır.\n",
    "- Ekrandaki bir noktaya direkt hareket etmek için  **'turtle.goto(x,y)'** fonskiyonu kullanılır. (setx, sety ve xcor, ycor fonksiyonları da var.)\n",
    "- Ekranı temizlemek için  **'turtle.clear()'** fonskiyonu kullanılır.\n",
    "- Ekran boyutunu ayarlamak için  **'turtle.screensize(canvwidth=genişlik, canvheight=yükseklik, bg=\"renk\")'** fonskiyonu kullanılır. Örnek: turtle.screensize(canvwidth=400, canvheight=300, bg=\"blue\")"
   ]
  },
  {
   "cell_type": "markdown",
   "id": "c9e89de6-9662-433f-b3b2-dae8609f5fa1",
   "metadata": {},
   "source": [
    "<div class=\"alert alert-info\"><b>Etkinlik: </b>Türk bayrağındaki yıldızı turtle kütüphanesi ile çiziniz.</div>"
   ]
  },
  {
   "cell_type": "markdown",
   "id": "e50c36ae",
   "metadata": {},
   "source": [
    "<div class=\"alert alert-warning\"><b>Burada yazılanların haricinde python ile otomatik olarak gelen birçok kütüphane vardır. <a href=\"https://docs.python.org/3/py-modindex.html#\">Bunların listesi için buraya tıklayınız.</a><br>\n",
    "Otomatik gelen kütüphaneler haricinde python topluluğu tarafından hazırlanmış ve yüklendikten sonra kullanılabilir kütüphaneler de vardır. Yapay zeka, makine öğrenmesi, 2D oyun, web sitesi frameworkleri gibi birçok alanda kütüphane vardır. <a href=\"https://pypi.org/\">Bu kütüphanelerin listesi için buraya tıklayınız.</a></b></div>"
   ]
  },
  {
   "cell_type": "markdown",
   "id": "dad35cf6",
   "metadata": {},
   "source": [
    "# <a id=\"9\"></a><font color=\"Navy\"><b>Karar Yapısı</b></font>"
   ]
  },
  {
   "cell_type": "markdown",
   "id": "866dd605",
   "metadata": {},
   "source": [
    "Tüm programlama dillerinde karar yapısı ile belirli bir koşulun gerçekleşmesi veya gerçekleşmemesi durumunda yapılacak işlemler sıralanır. Tüm dillerde temel karar yapısı \"if\" bloğudur. "
   ]
  },
  {
   "cell_type": "markdown",
   "id": "b2061806-f511-4c88-b228-85f5e7c4a887",
   "metadata": {},
   "source": [
    "## <a id=\"9.1\"></a><font color=\"maroon\">IF Yapısı</font>"
   ]
  },
  {
   "cell_type": "markdown",
   "id": "c6c00886-79a7-432f-b5a0-53f2b5a138c2",
   "metadata": {},
   "source": [
    "**\"if\" kelime olarak \"eğer\" anlamına gelmektedir. \"Eğer şart gerçekleşirse (doğruysa-True) veya gerçekleşmezse (yanlışsa-False)\" şeklinde çalışır.** Koşul yapıları boolean veri tipi ile çalışır. Şart gerçekleşmişse True, gerçekleşmemişse False değeri kabul eder ve koşula göre işlem bloğuna gider. **\"if\" kullanılan ifadenin sonuna \":\" işareti getirilmezse blok çalışmaz, program hata verir.**"
   ]
  },
  {
   "cell_type": "code",
   "execution_count": null,
   "id": "9170a552",
   "metadata": {},
   "outputs": [],
   "source": [
    "ates = 39\n",
    "if ates>37.5: print(\"Ateş Yüksek\") #ateş 39 olduğu için bu print çalışır.\n",
    "if ates<=37.5: print(\"Ateş Normal\") #ateş 39 olduğu için bu print çalışmaz."
   ]
  },
  {
   "cell_type": "markdown",
   "id": "43a56465",
   "metadata": {},
   "source": [
    "Eğer \"if\" ifadesinden sonra bir satırdan daha fazla kod yazılacaksa alt satırdan başlayarak sıralanır. Örnek:"
   ]
  },
  {
   "cell_type": "code",
   "execution_count": null,
   "id": "b5096651",
   "metadata": {},
   "outputs": [],
   "source": [
    "ates = 39\n",
    "durum = \"Düşük\"\n",
    "if ates>37.5:\n",
    "    durum=\"Yüksek\"\n",
    "    print(\"Ateşiniz: \",durum)\n",
    "if ates<=37.5:\n",
    "    durum=\"Düşük\"\n",
    "    print(\"Ateşiniz: \",durum)"
   ]
  },
  {
   "cell_type": "markdown",
   "id": "ee6d422e-043f-4712-a008-1e516e395165",
   "metadata": {},
   "source": [
    "## <a id=\"9.2\"></a><font color=\"maroon\">ELSE Yapısı</font>"
   ]
  },
  {
   "cell_type": "markdown",
   "id": "e1ab1071",
   "metadata": {},
   "source": [
    "Koşul yapısı olan if kullanılırken eğer ortada 2 ihtimal var ise tekrar if bloğu ile şart yazmaya gerek yoktur. Bunun için **else** bloğu kullanılır. **Else 'Değilse' anlamına gelir.** Örnek:"
   ]
  },
  {
   "cell_type": "code",
   "execution_count": null,
   "id": "b07c04f7",
   "metadata": {},
   "outputs": [],
   "source": [
    "ates = 39\n",
    "if ates>37.5: print(\"Ateş Yüksek\") \n",
    "else: print(\"Ateş Normal\") #else bloğu\n",
    "\n",
    "durum = \"Düşük\"\n",
    "if ates>37.5:\n",
    "    durum=\"Yüksek\"\n",
    "    print(\"Ateşiniz: \",durum)\n",
    "else:                                 #else bloğu\n",
    "    durum=\"Düşük\"\n",
    "    print(\"Ateşiniz: \",durum)"
   ]
  },
  {
   "cell_type": "markdown",
   "id": "164a595a-e917-4c98-9018-7352cc40b315",
   "metadata": {},
   "source": [
    "## <a id=\"9.3\"></a><font color=\"maroon\">ELIF Yapısı</font>"
   ]
  },
  {
   "cell_type": "markdown",
   "id": "a0c98684",
   "metadata": {},
   "source": [
    "Eğer if kullanırken ortada 2 ihtimalden daha fazla ihtimal varsa **'elif'** (eğer değilse) kullanımı ile şartlar birbirine bağlanır. 'elif' ile **bir şartın gerçekleşmediği durumda diğer şarta bakar, gerçekleştiği durumda bakmaz.** Örnek:"
   ]
  },
  {
   "cell_type": "code",
   "execution_count": null,
   "id": "5ea3bca5",
   "metadata": {},
   "outputs": [],
   "source": [
    "ates = 39\n",
    "durum = \"Düşük\"\n",
    "if ates>37.5:\n",
    "    durum=\"Yüksek\"\n",
    "    print(\"Ateşiniz: \",durum)\n",
    "elif ates<=35:                 #elif bloğu, öncesindeki şartın gerçkleşmediği durumda çalışır.\n",
    "    durum=\"Düşük\"\n",
    "    print(\"Ateşiniz: \",durum)\n",
    "else:\n",
    "    durum=\"Orta\"\n",
    "    print(\"Ateşiniz: \",durum)"
   ]
  },
  {
   "cell_type": "code",
   "execution_count": null,
   "id": "b4e80e45",
   "metadata": {},
   "outputs": [],
   "source": [
    "#Yukarıdaki örneği elif ile yapmazsak mantıksal karşılaştırma ile yapabiliriz.\n",
    "ates = 39\n",
    "durum = \"Düşük\"\n",
    "if ates>37.5:\n",
    "    durum=\"Yüksek\"\n",
    "    print(\"Ateşiniz: \",durum)\n",
    "if ates<=35:\n",
    "    durum=\"Düşük\"\n",
    "    print(\"Ateşiniz: \",durum)\n",
    "if ates>35 and ates<=37.5:      #and işleci\n",
    "    durum=\"Orta\"\n",
    "    print(\"Ateşiniz: \",durum)"
   ]
  },
  {
   "cell_type": "code",
   "execution_count": null,
   "id": "f483f880",
   "metadata": {},
   "outputs": [],
   "source": [
    "#Art arda birçok elif kullanılabilir.\n",
    "puan = 73\n",
    "if puan>=0 and puan<45: print(\"Zayıf\")\n",
    "elif puan>=0 and puan<55: print(\"Geçer\")\n",
    "elif puan>=0 and puan<70: print(\"Orta\")\n",
    "elif puan>=0 and puan<85: print(\"İyi\")\n",
    "elif puan>=0 and puan<=100: print(\"Pekiyi\") #son blokta else kullanmadık çünkü 100'den büyük not girilince \"pekiyi\" yazmaması gerekir.\n",
    "else: print(\"Lütfen 0-100 arasında not giriniz!\")"
   ]
  },
  {
   "cell_type": "markdown",
   "id": "c5279870",
   "metadata": {},
   "source": [
    "Yukarıdaki örneği elif değil if ile yaparsanız elif'in önemini anlamış olursunuz."
   ]
  },
  {
   "cell_type": "markdown",
   "id": "dc0061e9",
   "metadata": {},
   "source": [
    "<div class=\"alert alert-info\"><b>Etkinlik:</b> Gelir düzeyine göre 'düşük', 'orta' ve 'yüksek' olarak sınıflama yapan bir algoritma kodlayınız. (Gelir 9000'den az ise düşük, 9000 ile 17000 arasında ise orta, 17000'dan fazla ise yüksek olarak baz alınmalıdır.) </div>"
   ]
  },
  {
   "cell_type": "markdown",
   "id": "53af7d8e",
   "metadata": {},
   "source": [
    "İç İçe If kullanılabilir. Koşul içine koşul eklenebilir. Unutulmaması gereken bir üst düzeydeki koşulu gerçekleşmesine bağlı olarak gerçekleşir."
   ]
  },
  {
   "cell_type": "code",
   "execution_count": null,
   "id": "011de255",
   "metadata": {},
   "outputs": [],
   "source": [
    "if puan>=0 and puan<=100:\n",
    "    if puan<45: print(\"Zayıf\")\n",
    "    elif puan<55: print(\"Geçer\")\n",
    "    elif puan<70: print(\"Orta\")\n",
    "    elif puan<85: print(\"İyi\")\n",
    "    else puan<=100: print(\"Pekiyi\")\n",
    "else: print(\"Lütfen 0-100 arasında not giriniz!\")"
   ]
  },
  {
   "cell_type": "markdown",
   "id": "6ecc28eb",
   "metadata": {},
   "source": [
    "<div class=\"alert alert-info\"><b>Etkinlik:</b> Kullanıcıya belirti soruları sorarak <a href=\"https://orduism.saglik.gov.tr/Resim/317391/0/kovid-resimjpg.png\" target=\"_blank\">Covid-Nezle-Grip-Aleri Tablosuna</a> göre teşhis edip sonucu ekrana yazdırınız.</div>"
   ]
  },
  {
   "cell_type": "markdown",
   "id": "cc889cea",
   "metadata": {},
   "source": [
    "İf yapısı string, integer, float, boolean, list gibi veri tiplerinde de kullanılabilir. Örnekler:"
   ]
  },
  {
   "cell_type": "code",
   "execution_count": null,
   "id": "71d2d825",
   "metadata": {},
   "outputs": [],
   "source": [
    "sifre = input(\"Şifre Giriniz: \")\n",
    "sifreTekrar = input(\"Şifrenizi Tekrar Giriniz: \")\n",
    "if sifre == sifreTekrar: print(\"Şifre onaylandı.\")\n",
    "if sifre != sifreTekrar: print(\"Şifreleri aynı giriniz.\")"
   ]
  },
  {
   "cell_type": "code",
   "execution_count": null,
   "id": "a58befcf",
   "metadata": {},
   "outputs": [],
   "source": [
    "yas = int(input(\"Lütfen yaşınızı giriniz: \"))\n",
    "if not yas>=11: print(\"Bu oyunu oynayamazsınız.\") #eğerdeğilse kalıbını kullandık.\n",
    "else: print(\"Bu oyun için uygun yaştasınız, yönlendiriliyorsunuz...\")"
   ]
  },
  {
   "cell_type": "code",
   "execution_count": null,
   "id": "f779ff7f",
   "metadata": {},
   "outputs": [],
   "source": [
    "yas = int(input(\"Lütfen yaşınızı giriniz: \"))\n",
    "sonuc = yas>=11 #burada sonuc true veya false boolean tipi bir değer alır.\n",
    "print(sonuc)\n",
    "if sonuc: print(\"Bu oyun için uygun yaştasınız, yönlendiriliyorsunuz...\")\n",
    "else: print(\"Bu oyunu oynayamazsınız.\")"
   ]
  },
  {
   "cell_type": "code",
   "execution_count": null,
   "id": "7249101f",
   "metadata": {},
   "outputs": [],
   "source": [
    "i = int(input(\"0'dan 9'a kadar bir rakam yazınız.\"))\n",
    "liste = [0,1,2,3,4,5,6,7,8,9]\n",
    "if i in liste: print(i,\" sayısını girdiniz.\")\n",
    "else: print(\"0-9 arasında bir sayı girmediniz.\")"
   ]
  },
  {
   "cell_type": "code",
   "execution_count": null,
   "id": "e5b550d3",
   "metadata": {},
   "outputs": [],
   "source": [
    "ePosta = input(\"e-Posta Adresinizi Giriniz: \")\n",
    "if not \"@\" in list(ePosta):\n",
    "    print(\"E-posta adresinde @ işareti olmak zorundadır.\")"
   ]
  },
  {
   "cell_type": "markdown",
   "id": "41850e14-560c-4fe7-a9e5-eaf6856c0df7",
   "metadata": {},
   "source": [
    "## <a id=\"9.4\"></a><font color=\"maroon\">İç İçe IF Yapısı (Nested Yapılar)</font>\n",
    "Genellikle dallanma veya ön şartlar gerektiren durumlarda kullanılır. Örneğin öğrencinin notu girilirken 0 ile 100 arasında ise geçerli bir puanı vardır ve bu puanlar arasında \"Pekiyi - Zayıf\" olarak değerlendirmeler alır. Fakat notu 0 ile 100 arasında değilse bu not geçerli değildir. Burada unutulmaması gereken ilk if bloğunun şartı gerçekleşmezse içerideki if bloklarının çalışmayacak olmasıdır."
   ]
  },
  {
   "cell_type": "code",
   "execution_count": null,
   "id": "fad2c9ad-dc3c-4ce0-84c3-dfd220553ee0",
   "metadata": {},
   "outputs": [],
   "source": [
    "#nested if yapısı\n",
    "yas=int(input(\"Yaşınızı Giriniz: \"))\n",
    "if yas>=1 and yas<=17:\n",
    "    if yas>=6:\n",
    "        if yas<=11: print(\"Tahminen ilkokul öğrencisidir.\")\n",
    "        if yas<=14 and yas>11: print(\"Tahminen Ortaokul öğrencisidir.\")\n",
    "        if yas>14: print(\"Tahminen Lise öğrencisidir.\")\n",
    "    else:\n",
    "        if yas>=4: print(\"Tahminen Anaokulu öğrencisidir.\")\n",
    "        else: print(\"Okula veya anaokuluna başlama çağı gelmemiştir.\")\n",
    "else: print(\"Okul çağı bitmiş bir öğrencidir. Üniversiteye gidiyor olabilir.\")"
   ]
  },
  {
   "cell_type": "markdown",
   "id": "41cb5889",
   "metadata": {},
   "source": [
    "<div class=\"alert alert-info\"><b>Etkinlik:</b> Kullanıcıya belirti soruları sorarak <a href=\"https://orduism.saglik.gov.tr/Resim/317391/0/kovid-resimjpg.png\" target=\"_blank\">Covid-Nezle-Grip-Aleri Tablosuna</a> göre teşhis edip sonucu ekrana yazdırınız. Nested yapı kullanınız.</div>"
   ]
  },
  {
   "cell_type": "code",
   "execution_count": null,
   "id": "36e1b149",
   "metadata": {},
   "outputs": [],
   "source": [
    "#Örnek problemin çözümü\n",
    "kuladi = \"abcd@gmail.com\"\n",
    "sifre = \"12345\"\n",
    "girilen_kuladi = input(\"Kullanıcı Adınızı Giriniz: \")\n",
    "girilen_sifre = input(\"Şifrenizi Giriniz: \")\n",
    "\n",
    "if kuladi == girilen_kuladi and sifre == girilen_sifre:\n",
    "    print (\"Giriş Başarılı\")\n",
    "else:\n",
    "    print (\"Yanlış Kullanıcı Adı veya Şifre\")\n",
    "\n",
    "#Örnek problemin farklı (nested) çözümü\n",
    "kuladi = \"abcd@gmail.com\"\n",
    "sifre = \"12345\"\n",
    "girilen_kuladi = input(\"Kullanıcı Adınızı Giriniz: \")\n",
    "\n",
    "if kuladi != girilen_kuladi:\n",
    "    print (\"Böyle bir kullanıcımız bulunmamaktadır.\")\n",
    "else:\n",
    "    girilen_sifre = input(\"Şifrenizi Giriniz: \")\n",
    "    if sifre != girilen_sifre:\n",
    "        print (\"Yanlış Şifre Girdiniz. Tekrar baştan deneyiniz.\")\n",
    "    else:\n",
    "        print (\"Giriş Başarılı.\")"
   ]
  },
  {
   "cell_type": "markdown",
   "id": "7ca2efde",
   "metadata": {},
   "source": [
    "# <a id=\"10\"></a><font color=\"Navy\"><b>Döngüler</b></font>"
   ]
  },
  {
   "cell_type": "markdown",
   "id": "93935610",
   "metadata": {},
   "source": [
    "**Döngü:** Bir program içerisinde bir işlem tekrarlayan şekilde yapılması gerektiğinde kodları tek tek yazmak yerine kullanılan yapılardır. İki tür döngü vardır. **Sayaçlı döngüler (for)**, yani kaç kere döneceği belli olan döngüler ve **koşullu döngüler (while)**, yani koşul gerçekleşene kadar (kaç kere döneceği belli değil belki 1 belki 99) tekrarlayan döngüler."
   ]
  },
  {
   "cell_type": "markdown",
   "id": "1132b961",
   "metadata": {},
   "source": [
    "## <a id=\"10.1\"></a><font color=\"maroon\">For Döngüsü (Sayaçlı Döngü)</font>"
   ]
  },
  {
   "cell_type": "markdown",
   "id": "f9ffa870-4f25-4970-a417-63ac26ba525f",
   "metadata": {},
   "source": [
    "Kodun belirli bir sayıda tekrar etmesi gereken durumlarda kullanılan döngü türüdür. Örnekler:"
   ]
  },
  {
   "cell_type": "code",
   "execution_count": null,
   "id": "ad076685",
   "metadata": {},
   "outputs": [],
   "source": [
    "for i in range(6): print(i) #0'den 5'e kadar ekrana sayıları yazar. i varsayılan olarak 0'dır."
   ]
  },
  {
   "cell_type": "code",
   "execution_count": null,
   "id": "3a02ca75",
   "metadata": {},
   "outputs": [],
   "source": [
    "for i in range(1,10): print(i) #1'den 9'a kadar ekrana sayıları yazar."
   ]
  },
  {
   "cell_type": "code",
   "execution_count": null,
   "id": "71bca18d",
   "metadata": {},
   "outputs": [],
   "source": [
    "for i in range(-10,11): print(i) # -10'dan 10'a kadar ekrana sayıları yazar."
   ]
  },
  {
   "cell_type": "code",
   "execution_count": null,
   "id": "29b27c50",
   "metadata": {},
   "outputs": [],
   "source": [
    "for i in range(1,21,2): print(i) # 1'den 20'ya kadar olan sayıları 2'şer atlayarak yazar (1-3-5-7...)"
   ]
  },
  {
   "cell_type": "code",
   "execution_count": null,
   "id": "1d1496d2",
   "metadata": {},
   "outputs": [],
   "source": [
    "for i in range(0,21,2): print(i) # 0'dan 20'ya kadar olan sayıları 2'şer atlayarak yazar (0-2-4-6...)"
   ]
  },
  {
   "cell_type": "code",
   "execution_count": null,
   "id": "730b12f5",
   "metadata": {},
   "outputs": [],
   "source": [
    "for i in range(0,21,3): print(i) # 0'dan 20'ya kadar olan sayıları 3'er atlayarak yazar (0-2-4-6...)"
   ]
  },
  {
   "cell_type": "markdown",
   "id": "c0619fce",
   "metadata": {},
   "source": [
    "For döngüsü listedeki elemanlar içinde de döndürülebilir. Bu şekilde kullanılınca listenin eleman sayısı kadar döner ve her döngüde listenin bir elemanını ele alır."
   ]
  },
  {
   "cell_type": "code",
   "execution_count": null,
   "id": "ede3a83a",
   "metadata": {},
   "outputs": [],
   "source": [
    "gunler = [\"Pazartesi\",\"Salı\",\"Çarşamba\",\"Perşembe\",\"Cuma\",\"Cumartesi\",\"Pazar\"]\n",
    "for i in gunler: #for döngüsünde aksi belirtilmedikçe ilk olarak 0'dan başlar.Yani i=0 olur.\n",
    "    print (i)"
   ]
  },
  {
   "cell_type": "code",
   "execution_count": null,
   "id": "e0c3026b",
   "metadata": {},
   "outputs": [],
   "source": [
    "gunler = [\"Pazartesi\",\"Salı\",\"Çarşamba\",\"Perşembe\",\"Cuma\",\"Cumartesi\",\"Pazar\"]\n",
    "for i in gunler:\n",
    "    if i.startswith(\"P\"): print (i)"
   ]
  },
  {
   "cell_type": "code",
   "execution_count": null,
   "id": "0850941c",
   "metadata": {},
   "outputs": [],
   "source": [
    "ozelKarakterler = [\"!\",\"'\",\"+\",\"-\",\"*\",\"/\",\"%\",\"&\",\"(\",\")\",\"=\",\"?\",\".\",\";\",\":\"]\n",
    "guvenliParola = input(\"Güvenli Bir Parola Giriniz: \")\n",
    "for karakter in guvenliParola:\n",
    "    if not karakter in ozelKarakterler:\n",
    "        print(\"Güvenli Şifre için özel karakterler kullanılmalıdır. Örnek:\")\n",
    "        print(ozelKarakterler)\n",
    "    else: print(\"Tebrikler Güvenli Şire Oluşturuldu\")"
   ]
  },
  {
   "cell_type": "code",
   "execution_count": null,
   "id": "7977140a",
   "metadata": {},
   "outputs": [],
   "source": [
    "ciftSayilar =[]\n",
    "son = int(input(\"Kaça kadar olan çift sayılar lazım?: \"))\n",
    "for i in range(0,son,2):\n",
    "    ciftSayilar.append(i)\n",
    "print(ciftSayilar)"
   ]
  },
  {
   "cell_type": "code",
   "execution_count": null,
   "id": "652740ab",
   "metadata": {},
   "outputs": [],
   "source": [
    "#üstteki algoritmanın farklı bir çözümü\n",
    "ciftSayilar =[]\n",
    "son = int(input(\"Kaça kadar olan çift sayılar lazım?: \"))\n",
    "for i in range(son):\n",
    "    if i%2==0: ciftSayilar.append(i)\n",
    "print(ciftSayilar)"
   ]
  },
  {
   "cell_type": "markdown",
   "id": "77e70425",
   "metadata": {},
   "source": [
    "<div class=\"alert alert-info\"><b>Etkinlik:</b> Taş kağıt makas oyunu yapınız.</div>"
   ]
  },
  {
   "cell_type": "markdown",
   "id": "1dedb722",
   "metadata": {},
   "source": [
    "**Döngüyü belirli bir adımda durdurmak ve çıkmak isterseniz** 'break' deyimi (komutu) ile **durdurmak ve bir sonraki döngü adımına geçmek isterseniz** 'continue' deyimi (komutu) ile yapabilirsiniz. Bu deyimler koşul yapılarında da kullanılabilir."
   ]
  },
  {
   "cell_type": "code",
   "execution_count": null,
   "id": "b1f3c1dd",
   "metadata": {},
   "outputs": [],
   "source": [
    "#girilen sayının asal sayı olup olmadığını test edelim\n",
    "sayi = int(input(\"Asal testine sokulacak sayıyı giriniz: \"))\n",
    "for i in range(2,sayi):\n",
    "    if sayi%i==0:\n",
    "        print(\"Asal Değildir\")\n",
    "        break\n",
    "        print(\"Break çalıştı ise buradan sonrası artık çalışmaz ve döngüden tamamen çıkar dolayısıyla bu satır ekrana gelmez.\")\n",
    "    if i==sayi-1: print(\"Asaldır\")"
   ]
  },
  {
   "cell_type": "code",
   "execution_count": null,
   "id": "26010fb5",
   "metadata": {},
   "outputs": [],
   "source": [
    "#girilen sayının asal sayı olup olmadığını test edelim\n",
    "sayi = int(input(\"Asal testine sokulacak sayıyı giriniz: \"))\n",
    "for i in range(2,sayi):\n",
    "    if sayi%i!=0:\n",
    "        if i==sayi-1: print(\"Asaldır\")\n",
    "        continue\n",
    "        print(\"Contiune çalışınca buradan sonrası artık çalışmaz, bir sonraki döngüye geçer.Dolayısıyla bu satır ekrana gelmez.\")\n",
    "    else:\n",
    "        print(\"Asal Değildir.\")\n",
    "        break"
   ]
  },
  {
   "cell_type": "markdown",
   "id": "c500b150",
   "metadata": {},
   "source": [
    "<div class=\"alert alert-info\"><b>Etkinlik:</b> 0'dan 200'e kadar olan asal sayıları bulan algoritmayı kodlayınız.</div>"
   ]
  },
  {
   "cell_type": "code",
   "execution_count": null,
   "id": "e4a9d5c7",
   "metadata": {},
   "outputs": [],
   "source": [
    "#Asal sayı probleminin çözümü\n",
    "asal = \"Evet\"\n",
    "for i in range(2,201): #Range fonksiyonu ile başlangıç ve bitiş aralığını belirlenir.Son sayıyının bir eksiğine kadar tekrarlar.\n",
    "    for k in range(2,i):\n",
    "        if i%k == 0:\n",
    "            asal = \"Hayır\"\n",
    "            break\n",
    "        else: asal = \"Evet\"\n",
    "    if asal ==\"Evet\": print (i)\n",
    "        \n",
    "#Örnek problemin farklı çözümü\n",
    "asal = \"Evet\"\n",
    "asallar = []\n",
    "for i in range(2,201):\n",
    "    for k in range(2,i):\n",
    "        if i%k == 0:\n",
    "            asal = \"Hayır\"\n",
    "            break\n",
    "        else: asal = \"Evet\"\n",
    "    if asal ==\"Evet\": asallar.append (i)\n",
    "print (asallar)"
   ]
  },
  {
   "cell_type": "markdown",
   "id": "3ec5a5ca",
   "metadata": {},
   "source": [
    "<div class=\"alert alert-info\"><b>Etkinlik:</b> Ekrana for döngüsü ile '*' sembolünden 20x20 boyutunda kare çiziniz.</div>"
   ]
  },
  {
   "cell_type": "markdown",
   "id": "852ca41b",
   "metadata": {},
   "source": [
    "<div class=\"alert alert-info\"><b>Etkinlik:</b> Yıldız karakteri ve boşluk (\"* \") 1 birim kabul edilmektedir. Buna göre bu birimle 20 (en) x 10 (boy) biriminde ekrana dikdörtgen çizen algoritmayı kodlayınız.</div>"
   ]
  },
  {
   "cell_type": "code",
   "execution_count": null,
   "id": "9fdfd180",
   "metadata": {},
   "outputs": [],
   "source": [
    "#Etkinlik çözümü\n",
    "for i in range(1,11):\n",
    "    if i==1 or i==10:\n",
    "        print (\"* \"*20)\n",
    "    else:\n",
    "        print (\"*\",\" \"*35,\"*\")"
   ]
  },
  {
   "cell_type": "markdown",
   "id": "796d83ca",
   "metadata": {},
   "source": [
    "<div class=\"alert alert-info\"><b>Etkinlik:</b> Yıldız karakteri ve boşluk (\"* \") 1 birim kabul edilmektedir. Buna göre bu birimle kullanıcının girdiği en x boy biriminde ekrana dikdörtgen çizen algoritmayı kodlayınız.</div>"
   ]
  },
  {
   "cell_type": "code",
   "execution_count": null,
   "id": "ac7af3ab",
   "metadata": {},
   "outputs": [],
   "source": [
    "#Etkinlik çözümü\n",
    "en = int(input(\"En'i Giriniz: \"))\n",
    "boy = int(input(\"Boy'u Giriniz: \"))\n",
    "\n",
    "for i in range(1,boy+1):\n",
    "    if i==1 or i==boy:\n",
    "        print (\"* \"*en)\n",
    "    else:\n",
    "        print (\"*\",\" \"*(en*2-(boy//2)),\"*\")"
   ]
  },
  {
   "cell_type": "markdown",
   "id": "1587cb4e",
   "metadata": {},
   "source": [
    "## <a id=\"10.2\"></a><font color=\"maroon\">While Döngüsü (Koşullu Döngü-'olduğu sürece')</font>"
   ]
  },
  {
   "cell_type": "markdown",
   "id": "a68e0279-51f7-4bc6-8264-95b4e9212b5d",
   "metadata": {},
   "source": [
    "Koşul **sağlandığı** sürece tekrar eden döngü türüdür. Koşulun sağlandığı her kontrolden sonra döngü içindeki işlemler bir kez yapılır. Koşulun **sağlanmadığı** durumda döngüye girilmez. Koşuldan önce 'not' getirilerek \"koşul sağlanmadığı sürece tekrar eden döngü\" mantığı ile de döngü yapılabilir.<br>\n",
    "Sağlanması imkansız bir durum yaratarak **sürekli döngü** haline getirebilirsiniz. Örnekler:"
   ]
  },
  {
   "cell_type": "code",
   "execution_count": null,
   "id": "69747c92",
   "metadata": {},
   "outputs": [],
   "source": [
    "#toplamı 1923 olan iki sayı yazılana kadar tekrar eden döngü\n",
    "i = 1923\n",
    "toplam = 0\n",
    "while toplam!=i:\n",
    "    toplam = 0\n",
    "    sayi1=int(input(\"1.Sayıyı giriniz: \"))\n",
    "    sayi2=int(input(\"2.Sayıyı giriniz: \"))\n",
    "    toplam = sayi1+sayi2\n",
    "    if toplam!=i: print (\"Girdiğiniz sayıların toplamı: \",toplam,\"\\n1923'ü bulana kadar tekrar ediniz.\")\n",
    "    else: print(\"Tebrikler!\")"
   ]
  },
  {
   "cell_type": "code",
   "execution_count": null,
   "id": "4a8b194b",
   "metadata": {},
   "outputs": [],
   "source": [
    "#toplamı 1923 olan iki sayı yazılana kadar tekrar eden döngü (FARKLI ÇÖZÜM)\n",
    "i = 1923\n",
    "toplam = 0\n",
    "while toplam!=i:\n",
    "    toplam = 0\n",
    "    for j in range(1,3):\n",
    "        toplam+=int(input(\"{}.Sayıyı giriniz: \".format(j)))\n",
    "    if toplam!=i: print (\"Girdiğiniz sayıların toplamı: \",toplam,\"\\n1923'ü bulana kadar tekrar ediniz.\")\n",
    "    else: print(\"Tebrikler!\")"
   ]
  },
  {
   "cell_type": "code",
   "execution_count": null,
   "id": "5e20a436",
   "metadata": {},
   "outputs": [],
   "source": [
    "# while döngüsünde not, break ve contiune kullanılabilir.\n",
    "eposta = \"abcd@hotmail.com\"\n",
    "sifre = \"abcd1234\"\n",
    "giris =\"Başarısız\"\n",
    "denemeSayisi = 0\n",
    "while not giris==\"Başarılı\":\n",
    "    if denemeSayisi ==3:\n",
    "        print (\"3 kere başarısız deneme yaptığınız için bağlantınız banlanmıştır.\")\n",
    "        break\n",
    "    s1 = input(\"Kullanıcı E-Posta Giriniz: \")\n",
    "    s2 = input(\"Şifre Giriniz: \")\n",
    "    denemeSayisi +=1\n",
    "    if s1!=eposta or s2!=sifre: continue\n",
    "    if s1==eposta and s2==sifre:\n",
    "        print(\"Yönlendiriliyorsunuz.\")\n",
    "        giris=\"Başarılı\""
   ]
  },
  {
   "cell_type": "markdown",
   "id": "fdb08228",
   "metadata": {},
   "source": [
    "<div class=\"alert alert-info\"><b>Etkinlik:</b> Kişinin 1 ile 100 arasında aklından tuttuğu sayıyı en hızlı bulan tahmin etme oyununu yapınız. Oyunda kullanıcıya tuttuğun sayı küçük mü, büyük mü diye sorularak sonuca gidilir.</div>"
   ]
  },
  {
   "cell_type": "code",
   "execution_count": null,
   "id": "47abb37e-75aa-472e-9206-dffd86b43eb9",
   "metadata": {},
   "outputs": [],
   "source": [
    "#Sayı bulma oyunu çözümü\n",
    "alt,ust,durum,sayac = 1,100,\"Bulunmadı\",1\n",
    "print(f'{alt} ile {ust} arasında bir sayı rasgele seçiniz.')\n",
    "while durum==\"Bulunmadı\":\n",
    "    if (ust-alt)%2==0: orta=(ust-alt)//2 #fark çift sayı ise bölümü atynen alıyoruz.\n",
    "    else: orta=(ust-alt)//2+1 #fark tek sayı ise bölümü yukarı yuvarlıyoruz.\n",
    "    cevap=input(f'{sayac}.Soru: Tuttuğunuz sayı {alt+orta-1} sayısından büyük mü? (E/H): ').upper()\n",
    "    if cevap==\"E\": alt+=orta\n",
    "    else: ust-=orta\n",
    "    if alt==ust: durum=\"Bulundu\"\n",
    "    sayac+=1\n",
    "print(f'Tuttuğunuz sayı: {alt} sayısıdır.')"
   ]
  },
  {
   "cell_type": "code",
   "execution_count": null,
   "id": "48101fe7",
   "metadata": {},
   "outputs": [],
   "source": [
    "#Sayı bulma oyunu çözümü (for ile)\n",
    "import math #sayıyı yukarı yuvarlamak için math kütüphanesinden ceil fonksiyonunu kullanacağız\n",
    "print (\"1 ile 100 arasında bir sayı aklınızdan tutunuz.\")\n",
    "cevap,sayi=\"E\",50\n",
    "cevap=input(f'1.Soru: Tuttuğun sayı {sayi} sayısından büyük mü? (E/H)').upper()\n",
    "for i in range(2,8):\n",
    "    if cevap==\"E\":\n",
    "        sayi+=int(math.ceil(50/2**(i-1)))\n",
    "        cevap=input(f'{i}.Soru: Tuttuğun sayı {sayi} sayısından büyük mü? (E/H)').upper()\n",
    "    else:\n",
    "        sayi-=int(math.ceil(50/2**(i-1)))\n",
    "        cevap=input(f'{i}.Soru: Tuttuğun sayı {sayi} sayısından büyük mü? (E/H)').upper()\n",
    "    if sayi==1 or sayi==99: break\n",
    "if cevap==\"E\": print(\"Tuttuğunuz sayi: \",sayi+1)\n",
    "else: print(\"Tuttuğunuz sayi: \",sayi)"
   ]
  },
  {
   "cell_type": "markdown",
   "id": "f4561938",
   "metadata": {},
   "source": [
    "Döngülerde ve karar yapılarında (if, for ve while) bir de **'pass' deyimi**(komutu) vardır. Bu deyim genelde taslak kodlar yazarken kullanılır. Continue deyimi(komutu) gibidir fakat contiune deyimi(komutu) döngüyü başa döndürürken pass deyimi ile satır es geçilir sonraki satırdan devam eder."
   ]
  },
  {
   "cell_type": "code",
   "execution_count": null,
   "id": "4fcd6137",
   "metadata": {},
   "outputs": [],
   "source": [
    "i=1\n",
    "while i<15\n",
    "    if i%2==0:\n",
    "        pass\n",
    "    else:\n",
    "        print(i,\" sayısı tek sayıdır.\")\n",
    "    i+=1 #i'yi kendimiz manuel olarak artırdık. While döngüsünde sayaç olmadığı için."
   ]
  },
  {
   "cell_type": "markdown",
   "id": "733c961a",
   "metadata": {},
   "source": [
    "<div class=\"alert alert-info\"><b>Etkinlik:</b> While ve for döngülerini kullanarak yıldız (' * ') sembolü ile ekrana 11 satırlık 'Kelebek Motifi' modeli çiziniz. Örnek çıktı aşağıdaki gibidir.</div>"
   ]
  },
  {
   "cell_type": "raw",
   "id": "00b319be",
   "metadata": {},
   "source": [
    "*            *\n",
    "**          **\n",
    "***        ***\n",
    "****      ****\n",
    "*****    *****\n",
    "******  ******\n",
    "*****    *****\n",
    "****      ****\n",
    "***        ***\n",
    "**          **\n",
    "*            *"
   ]
  },
  {
   "cell_type": "code",
   "execution_count": null,
   "id": "e9dfb73c-6282-444a-905f-397d7d3bc3a6",
   "metadata": {},
   "outputs": [],
   "source": [
    "#kelebek motifi while döngüsü\n",
    "satir=1\n",
    "sonsatir=12\n",
    "while satir<=sonsatir:\n",
    "    if satir<=int(sonsatir/2): print(\"*\"*satir,\" \"*(sonsatir-2*satir),\"*\"*satir)\n",
    "    else: print(\"*\"*(sonsatir-satir),\" \"*(satir-(int(sonsatir/2)))*2,\"*\"*(sonsatir-satir))\n",
    "    satir+=1"
   ]
  },
  {
   "cell_type": "code",
   "execution_count": null,
   "id": "4aa21679-8d53-4506-a19b-fa99efbb3570",
   "metadata": {},
   "outputs": [],
   "source": [
    "#kelebek motifi for döngüsü\n",
    "sonsatir=12\n",
    "for i in range(1,sonsatir+1):\n",
    "    if i<=int(sonsatir/2): print(\"*\"*i,\" \"*(sonsatir-2*i),\"*\"*i)\n",
    "    else: print(\"*\"*(sonsatir-i),\" \"*(i-int((sonsatir/2)))*2,\"*\"*(sonsatir-i))"
   ]
  },
  {
   "cell_type": "markdown",
   "id": "e7af0519",
   "metadata": {},
   "source": [
    "<div class=\"alert alert-info\"><b>Etkinlik:</b> Döngüleri kullanarak standart bir hesap makinesi yapınız.</div>"
   ]
  },
  {
   "cell_type": "markdown",
   "id": "1c9d06e2",
   "metadata": {},
   "source": [
    "<div class=\"alert alert-info\"><b>Etkinlik:</b> e-Ticaret sitesine ürün ve fiyat verisi giren bir satıcıya sistemden sorulan 'Kaç adet ürün gireceksiniz?' sorusunun ardından sırayla ürün ve fiyatı soruları gelmeye başlıyor ve satıcı bu bilgileri giriyor. Sonunda kendisine girdiği-ürün fiyat bilgileri gösterilip onaylatılıyor. Bu akışı gerçekleştiren kodları yazınız. (İpucu: Dictionary - sözlük liste tipini kullanmanız gerekir.)</div>"
   ]
  },
  {
   "cell_type": "markdown",
   "id": "29eb530e-8f11-48f5-b075-3f06f0fc0dff",
   "metadata": {},
   "source": [
    "## <a id=\"10.3\"></a><font color=\"maroon\">Döngülere Ait Bazı Kompakt Söz Dizimleri (Comprehensions)</font>"
   ]
  },
  {
   "cell_type": "code",
   "execution_count": null,
   "id": "06086d40",
   "metadata": {},
   "outputs": [],
   "source": [
    "#hızlı integer listeler oluşturmak için\n",
    "liste = [i for i in range(1,11)]  #bu örnek bir kompakt sözdizimidir.\n",
    "print(liste)"
   ]
  },
  {
   "cell_type": "code",
   "execution_count": null,
   "id": "4f062ebe",
   "metadata": {},
   "outputs": [],
   "source": [
    "#listelerden istenilen elemanları seçmek için\n",
    "liste = [\"Pazartesi\",\"Salı\",\"Çarşamba\",\"Perşembe\",\"Cuma\",\"Cumartesi\",\"Pazar\"]\n",
    "print([eleman for eleman in liste if \"a\" in eleman]) #bu örnek bir kompakt sözdizimidir."
   ]
  },
  {
   "cell_type": "code",
   "execution_count": null,
   "id": "52b23d0e",
   "metadata": {},
   "outputs": [],
   "source": [
    "#listelerden istenilen elemanları seçmek için\n",
    "liste = [\"Pazartesi\",\"Salı\",\"Çarşamba\",\"Perşembe\",\"Cuma\",\"Cumartesi\",\"Pazar\"]\n",
    "print([eleman for eleman in liste if eleman.endswith(\"a\")]) #bu örnek bir kompakt sözdizimidir."
   ]
  },
  {
   "cell_type": "code",
   "execution_count": null,
   "id": "75d26ebf",
   "metadata": {},
   "outputs": [],
   "source": [
    "#birden çok değişkeni aynı anda atama\n",
    "i,s,f,l = 1923,\"TÜRKİYE\",23.04,[\"A\",\"N\",\"A\",\"V\",\"A\",\"T\",\"A\",\"N\"]\n",
    "print(i,s,f,l,sep=\"\\n\")"
   ]
  },
  {
   "cell_type": "code",
   "execution_count": null,
   "id": "43e932d1",
   "metadata": {},
   "outputs": [],
   "source": [
    "#liste tipi değişkenler (list,tuple,set,dictionary) için kompakt söz dizimleri\n",
    "sayilar = [i for i in range(1,11)] #1'den 10'a kadar olan sayılardan bir liste oluşturduk.\n",
    "karesi = [j**2 for j in sayilar]  #'sayilar' listesindeki sayıların karesinden yeni bir liste oluşturduk.\n",
    "print(karesi)"
   ]
  },
  {
   "cell_type": "code",
   "execution_count": null,
   "id": "175b9b4a",
   "metadata": {},
   "outputs": [],
   "source": [
    "#enumerate() fonksiyonu ile for döngüsünü kullanarak liste tipi elemanlara sıralı sayılar atanabilir.\n",
    "plakalar = [\"İstanbul\",\"İzmir\",\"Kastamonu\"]\n",
    "for i,j in enumerate(plakalar,34):\n",
    "    print(i,j)"
   ]
  },
  {
   "cell_type": "code",
   "execution_count": null,
   "id": "c2f9b0d4",
   "metadata": {},
   "outputs": [],
   "source": [
    "#zip fonksiyonu ile liste tipi değişkenler (list,tuple,set,dictionary) birleştirilir.\n",
    "meyveler = [\"muz\",\"elma\",\"karpuz\"]\n",
    "adetler = [5,8,2]\n",
    "kilolar = [1.5, 2.1, 3.8]\n",
    "\n",
    "for meyve, adet, kilo in zip(meyveler,adetler,kilolar): #birleştirme yapılırken listelerdeki en az eleman sayısı kadar eleman birleştirilir.\n",
    "    print(f\"Meyve adı: {meyve}, Adet: {adet}, Kilo: {kilo}\")"
   ]
  },
  {
   "cell_type": "markdown",
   "id": "4505d606",
   "metadata": {},
   "source": [
    "# <a id=\"11\"></a> <font color=\"Navy\"><b>Fonksiyonlar</b></font>"
   ]
  },
  {
   "cell_type": "markdown",
   "id": "470bce99",
   "metadata": {},
   "source": [
    "Programlama dilinde fonksiyonlar **belirli görevleri yaparak sonucunu döndüren** bir ifade bloğudur. Şimdiye kadar gördüğümüz print(), input(), len() vb. öğeler fonksiyondur.<br>\n",
    "Fonksiyonlar **tekrar tekrar yapılan işleri <u>yeniden yazmamak</u>, ortak görevleri bir araya getirmek veya çok özel durumları gerçekleştirmek için** kullanılır. Böylece temiz, basit, anlaşılır ve profesyonel bir kod yazabiliriz.<br>\n",
    "Fonksiyonlar girdi olarak parametreler kullanır, çıktı olarak ise bir ifade bloğu ortaya çıkarır.<br>\n",
    "**Parametre,** fonksiyonun değer üretmesi için gerekli **değer veya değişken girdileridir.**\n",
    "\n",
    "Fonksiyon Yapısı:"
   ]
  },
  {
   "cell_type": "markdown",
   "id": "cf937cab",
   "metadata": {},
   "source": [
    "<img src=\"img/fonksiyon.jpg\"> </img>"
   ]
  },
  {
   "cell_type": "markdown",
   "id": "8ce803f8",
   "metadata": {},
   "source": [
    "Fonksiyonlar sayesinde global (kodun tamamında geçerli) değişkenler kullanmamıza gerek kalmaz. Her fonksiyon içinde yeni değişkenler (globalde kullanılmayan) oluşturabiliriz. Fonksiyon içinde oluşturduğumuz değişken isimleri global değildir ve başka bir fonksiyonda yeninden değişken isimleri kullanılabilir.<br>\n",
    "Örneğin, bir programda yüzlerce for döngüsü kullanılır. Fonksiyonları kullanmazsak her for döngüsü için farklı bir global sayaç değeri tanımlamak gerekir. for i in ..., for x in ...., for y in ....., gibi. Fakat bu kodları fonksiyon halinde yazarsak her bir fonksiyonda for i in..., for i in..., şeklinde kullanabiliriz çünkü i değerleri birbirinden etkilenmez.<br>\n",
    "Örnek Fonksiyonlar:"
   ]
  },
  {
   "cell_type": "code",
   "execution_count": null,
   "id": "39cc5916",
   "metadata": {},
   "outputs": [],
   "source": [
    "#Parametresiz fonksiyon örneği\n",
    "def merhaba():\n",
    "    print (\"Merhaba Fonksiyonlar\") #print fonksiyonunun kendi içinde return olduğu için return yazmadık.\n",
    "    \n",
    "merhaba()"
   ]
  },
  {
   "cell_type": "markdown",
   "id": "510366b9-32b4-4196-ab08-724b3ee9a6d9",
   "metadata": {},
   "source": [
    "<div class=\"alert alert-info\"><b>Etkinlik:</b> Çağrıldığında İstiklal Marşının ilk dörtlüğünü ekrana yazdıran fonksiyonu yazınız.</div>"
   ]
  },
  {
   "cell_type": "code",
   "execution_count": null,
   "id": "4c4ce6dd",
   "metadata": {},
   "outputs": [],
   "source": [
    "#Parametreli fonksiyon örneği\n",
    "def islem(i1, i2):\n",
    "    sonuc = (i1*i2) + (i1//i2)\n",
    "    return (sonuc)\n",
    "islem(10,2)"
   ]
  },
  {
   "cell_type": "markdown",
   "id": "b20f2e89-bc86-42e7-9d75-f13e23c2de88",
   "metadata": {},
   "source": [
    "<div class=\"alert alert-info\"><b>Etkinlik:</b> Kullanıcıdan parametre olarak aldığı kelimeyi tersten yazdıran fonksiyonu yazınız.</div>"
   ]
  },
  {
   "cell_type": "code",
   "execution_count": null,
   "id": "25735b24",
   "metadata": {},
   "outputs": [],
   "source": [
    "#Fonksiyonlardaki değişkenler fonksiyon dışında tanınan bir değişken değildir. (Global değildir)\n",
    "def islem(i1, i2):\n",
    "    sonuc = (i1*i2) + (i1//i2)\n",
    "    return (sonuc)\n",
    "islem(10,2)\n",
    "print(i1,i2,sonuc) #bu satır hata verir. kapatmak için başına # koyunuz"
   ]
  },
  {
   "cell_type": "code",
   "execution_count": null,
   "id": "8c600040",
   "metadata": {},
   "outputs": [],
   "source": [
    "#Parametreli fonksiyonlarda girdi değişken tipini belirleme\n",
    "def asal(sayi: int): #parametre olarak değişken tipi belirleyerek girdi parametresini integer\n",
    "    durum = \"Asal\"\n",
    "    for i in range(2,sayi):\n",
    "        if sayi%i==0:\n",
    "            durum = \"Asal Değil\"\n",
    "            break\n",
    "    return (durum)\n",
    "asal(int(input(\"Bir Tam Sayı Giriniz: \")))"
   ]
  },
  {
   "cell_type": "markdown",
   "id": "997efac9-81d6-4205-a916-228e60ddecf2",
   "metadata": {},
   "source": [
    "<div class=\"alert alert-info\"><b>Etkinlik:</b> Float olarak verilen parametrelerle toplama işlemi yapan fonksiyonu yazınız.</div>"
   ]
  },
  {
   "cell_type": "code",
   "execution_count": null,
   "id": "1ded0f67",
   "metadata": {},
   "outputs": [],
   "source": [
    "#Parametreli fonksiyonlarda uygun olmayan girdi değişken tipi ile hata verir.\n",
    "def asal(sayi: int): #parametre olarak değişken tipi belirleyerek girdi parametresini integer olarak\n",
    "    durum = \"Asal\"\n",
    "    for i in range(2,sayi):\n",
    "        if sayi%i==0:\n",
    "            durum = \"Asal Değil\"\n",
    "            break\n",
    "    return (durum)\n",
    "asal(float(input(\"Bir Tam Sayı Giriniz: \"))) #parametre olarak uygun değişken tipi vermezsek program hata verir. (Bkz. float)"
   ]
  },
  {
   "cell_type": "code",
   "execution_count": null,
   "id": "1b73033a",
   "metadata": {},
   "outputs": [],
   "source": [
    "#Fonksiyonlarda parametreleri argümanlarla (değeri belirli olan değişken) çalıştırmak.\n",
    "def islem(sayi: int, yil=2022):#parametre olarak değişken tipi belirleyerek girdi parametresini integer olarak\n",
    "    dYili = yil-sayi\n",
    "    return (print(f'Doğum yılınız: {dYili}'))\n",
    "islem(int(input(\"Yaşınızı Giriniz: \"))) #parametre olarak uygun değişken tipi vermezsek program hata verir. (Bkz. float)"
   ]
  },
  {
   "cell_type": "markdown",
   "id": "3ea1f926-cc57-4b8d-b7c2-84b4e6d2f703",
   "metadata": {},
   "source": [
    "<div class=\"alert alert-info\"><b>Etkinlik:</b> Parametre olarak fiyat, argüman olarak indirim oranı alan bir fonksiyonun, ürün fiyatından indirim oranı tutarında tutarı düştükten sonra ekrana yazdıran fonksiyonu yazınız.</div>"
   ]
  },
  {
   "cell_type": "markdown",
   "id": "f0a9edee-b700-492a-86b4-9b90be2e4b29",
   "metadata": {},
   "source": [
    "<div class=\"alert alert-info\"><b>Etkinlik:</b> Büyük bir çiftliğe bir dişi, bir erkek olmak üzere yeni doğmuş bir tavşan çift konur. Her tavşan çifti doğduktan bir ay sonra yetişkin hâle gelmekte ve her ay bir dişi, bir erkek olmak üzere yeni bir tavşan çifti doğurmaktadır. Tavşanların hiç ölmediği varsayıldığında çiftlikte bir yıl sonra kaç çift tavşanımız olur?<br>\n",
    "<b> Bu soru 1202 yılında yazılan 'Liber Abaci (Hesap Kitabı)' isimli kitapta yazar 'Leonardo Fibonacci' tarafından sorulmuştur. Sorunun çözümü ünlü Fibonacci Dizisidir.</b></div>"
   ]
  },
  {
   "cell_type": "markdown",
   "id": "cbf02b37-1680-4277-8a95-4a5b7546b75c",
   "metadata": {},
   "source": [
    "## <a id=\"11.1\"></a> <font color=\"maroon\">İç İçe Fonksiyonlar (Nested)</font>\n",
    "adadas"
   ]
  },
  {
   "cell_type": "markdown",
   "id": "8d4c36cc",
   "metadata": {},
   "source": [
    "## <a id=\"11.2\"></a> <font color=\"maroon\">Fibonacci Serisi</font>\n",
    "Fibonacci dizisi, her sayının kendinden önceki ile toplanması sonucu oluşan bir sayı dizisidir. Fibonacci dizisi herhangi iki sayıdan başlayabilir. Fibonacci sayı dizisindeki sayıların birbirleriyle oranı olan ve altın oran denilen 1,618 sayısı ise doğada, sanatta ve hayatın her alanında görülen ve estetik ile bağdaştırılan bir sayıdır. Ayrıca Pascal Üçgeninde de fibonacci sayı dizisi bulunmaktadır. \n",
    "Aşağıdaki görselde  daha iyi anlaşılır: <br>\n",
    "<img src=\"img/fibonacci.jpg\"></img>"
   ]
  },
  {
   "cell_type": "markdown",
   "id": "d17505dc-d030-4e6a-8ff0-7f5f696fa509",
   "metadata": {},
   "source": [
    "<div class=\"alert alert-info\"><b>Etkinlik:</b> Büyük bir çiftliğe bir dişi, bir erkek olmak üzere yeni doğmuş bir tavşan çift konur. Her tavşan çifti doğduktan bir ay sonra yetişkin hâle gelmekte ve her ay bir dişi, bir erkek olmak üzere yeni bir tavşan çifti doğurmaktadır. Tavşanların hiç ölmediği varsayıldığında çiftlikte bir yıl sonra kaç çift tavşanımız olur?<br>\n",
    "<b> Bu soru 1202 yılında yazılan 'Liber Abaci (Hesap Kitabı)' isimli kitapta yazar 'Leonardo Fibonacci' tarafından sorulmuştur. Sorunun çözümü ünlü Fibonacci Dizisidir.</b></div>"
   ]
  },
  {
   "cell_type": "code",
   "execution_count": null,
   "id": "18747206",
   "metadata": {},
   "outputs": [],
   "source": [
    "#Tavşan Sorusu - Fibonacci Serisi Çözümü\n",
    "def fibonacci(n: int):\n",
    "    terim1,terim2=0,1\n",
    "    if n!=1:\n",
    "        for i in range(2,n+1):\n",
    "            fibDegeri=terim1+terim2\n",
    "            terim1,terim2 = terim2,fibDegeri\n",
    "    else: fibDegeri=terim1+terim2\n",
    "    return(fibDegeri)\n",
    "print(fibonacci(12)) #12.Ay'ı istediği için 12'yi girdik"
   ]
  },
  {
   "cell_type": "code",
   "execution_count": null,
   "id": "da9623f5",
   "metadata": {},
   "outputs": [],
   "source": [
    "#Fibonacci serisi\n",
    "def fibonacci(n: int):\n",
    "    terim1,terim2=0,1\n",
    "    if n!=1:\n",
    "        for i in range(2,n+1):\n",
    "            fiboDegeri=terim1+terim2\n",
    "            print(f'{i}.terim: {fiboDegeri}')\n",
    "            terim1,terim2 = terim2,fiboDegeri\n",
    "    else:\n",
    "        fiboDegeri=\"1. Terim: \",terim1+terim2,\"\"\n",
    "        return(fiboDegeri)\n",
    "fibonacci(int(input(\"Fibonacci'nin kaç terimini yazdıralım?(Giriniz): \")))"
   ]
  },
  {
   "cell_type": "markdown",
   "id": "60573ec6-b35f-444a-a976-99cc2ae27564",
   "metadata": {},
   "source": [
    "# <font color=\"Navy\"><b>Kaynakça</b></font>"
   ]
  },
  {
   "cell_type": "markdown",
   "id": "be609304-f66d-439c-b453-5766641ada0a",
   "metadata": {},
   "source": [
    "Darnit, J. (2017). Exact Instructions Challenge PB&J Classroom Friendly. Erişim Adresi: https://www.youtube.com/watch?v=FN2RM-CHkuI<br>\n",
    "GeeksForGeeks, (2022). Algorithms. Erişim Adresi: https://www.geeksforgeeks.org/fundamentals-of-algorithms/ <br>\n",
    "Kara, A. (2020). Algoritma ve Çeşitleri. Erişim Adresi: https://www.datasciencearth.com/algoritma-ve-cesitleri/ <br>\n",
    "Kaya, E. E. (2021). Fibonacci Dizisinden Altın Orana. Erişim Adresi: https://bilimgenc.tubitak.gov.tr/makale/fibonacci-dizisinden-altin-orana <br>\n",
    "Şeker, S. E. (2009). Arama Algoritmaları. Erişim Adresi: https://bilgisayarkavramlari.com/2009/11/23/arama-algoritmalari-search-algorithms/ <br>\n",
    "Torun, C. (2021). Algoritma Nedir, Nerelerde Kullanılır? Erişim Adresi: https://bilimgenc.tubitak.gov.tr/algoritma-nedir <br>\n",
    "Zaczyński, B. (2020). Bitwise Operators in Python. Erişim Adresi: https://realpython.com/python-bitwise-operators/ <br>"
   ]
  },
  {
   "cell_type": "code",
   "execution_count": null,
   "id": "03fe1a1b-5658-4dc7-9ab7-c77a5444e061",
   "metadata": {},
   "outputs": [],
   "source": []
  }
 ],
 "metadata": {
  "kernelspec": {
   "display_name": "Python 3 (ipykernel)",
   "language": "python",
   "name": "python3"
  },
  "language_info": {
   "codemirror_mode": {
    "name": "ipython",
    "version": 3
   },
   "file_extension": ".py",
   "mimetype": "text/x-python",
   "name": "python",
   "nbconvert_exporter": "python",
   "pygments_lexer": "ipython3",
   "version": "3.10.5"
  },
  "toc-autonumbering": true,
  "toc-showcode": false,
  "toc-showmarkdowntxt": false,
  "toc-showtags": false
 },
 "nbformat": 4,
 "nbformat_minor": 5
}
